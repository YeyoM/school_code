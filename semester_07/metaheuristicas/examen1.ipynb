{
 "cells": [
  {
   "cell_type": "markdown",
   "metadata": {},
   "source": [
    "## Universidad Autonoma de Aguascalientes\n",
    "## Departamento: Ciencias de la Computación\n",
    "## Carrera: Ingeníeria en Computación Inteligente\n",
    "### Curso: Metaheuristicas I\n",
    "### Maestro: Dr. Francisco Javier Luna Rosas\n",
    "### Alumnos: \n",
    "### Dante Alejandro Alegria Romero\n",
    "### Diego Alberto Aranda Gonzalez\n",
    "### Andrea Margarita Balandran Felix\n",
    "### Diego Emilia Moreno Sanchez\n",
    "### Semestre: Agosto_Diciembre del 2024\"\n"
   ]
  },
  {
   "cell_type": "markdown",
   "metadata": {},
   "source": [
    "## Práctica No. 3: Optimización por Enjambre de Partículas (PSO)\n",
    "\n",
    "#### PSO es un algoritmo de optimización inspirado en el comportamiento social de grupos de organismos, como bandadas de aves o bancos de peces. En esta práctica, implementamos PSO para simular la planificación de carga de 100,000 críticas de cine. Evaluaremos el rendimiento del sistema comparando el tiempo de ejecución secuencial frente al tiempo de ejecución en paralelo, utilizando 8 procesadores homogéneos. Además, presentaremos una tabla y un gráfico que ilustran la eficiencia de carga balanceada entre los procesadores."
   ]
  },
  {
   "cell_type": "markdown",
   "metadata": {},
   "source": [
    "### PASO 1: LIBRERIAS"
   ]
  },
  {
   "cell_type": "code",
   "execution_count": 1,
   "metadata": {},
   "outputs": [],
   "source": [
    "import numpy as np\n",
    "import pyswarms as ps\n",
    "import json\n",
    "import matplotlib.pyplot as plt"
   ]
  },
  {
   "cell_type": "markdown",
   "metadata": {},
   "source": [
    "### Paso 2: Cargar los datos del JSON\n",
    " cargamos los datos desde un archivo JSON llamado reviews.json. Extraemos los tiempos de procesamiento de cada tarea y los almacenamos en un arreglo de numpy, lo que facilita su manipulación y cálculo."
   ]
  },
  {
   "cell_type": "code",
   "execution_count": 2,
   "metadata": {},
   "outputs": [],
   "source": [
    "with open('reviews.json') as file:\n",
    "    tasks = json.load(file)\n",
    "\n",
    "# Extraer los tiempos de procesamiento de las tareas\n",
    "processing_times = np.array([task['time'] for task in tasks])"
   ]
  },
  {
   "cell_type": "markdown",
   "metadata": {},
   "source": [
    "### Paso 3: Inicializar parámetros\n",
    "Definimos el número de procesadores disponibles (en este caso, 8) y calculamos el total de tareas a partir del tamaño del arreglo processing_times."
   ]
  },
  {
   "cell_type": "code",
   "execution_count": 3,
   "metadata": {},
   "outputs": [],
   "source": [
    "num_processors = 8\n",
    "numero_task = len(processing_times)"
   ]
  },
  {
   "cell_type": "markdown",
   "metadata": {},
   "source": [
    "### Paso 4: Definir la función de fitness\n",
    "La función fitness evalúa una asignación de tareas a procesadores. Primero, aseguramos que las tareas estén asignadas a procesadores válidos. Luego, calculamos la carga de cada procesador sumando los tiempos de procesamiento de las tareas asignadas. Finalmente, devolvemos la carga máxima de cualquier procesador, que será minimizada por el PSO."
   ]
  },
  {
   "cell_type": "code",
   "execution_count": 4,
   "metadata": {},
   "outputs": [],
   "source": [
    "def fitness(task_assignment):\n",
    "    task_assignment = np.array(task_assignment).astype(int)\n",
    "    processor_loads = np.zeros(num_processors)\n",
    "    if np.any(task_assignment < 0) or np.any(task_assignment >= num_processors):\n",
    "        return np.inf\n",
    "    for i, processor in enumerate(task_assignment):\n",
    "        processor_loads[processor] += processing_times[i]\n",
    "    return np.max(processor_loads)"
   ]
  },
  {
   "cell_type": "markdown",
   "metadata": {},
   "source": [
    "### Paso 5: Establecer límites del PSO\n",
    "Establecemos los límites para la asignación de tareas. Cada tarea puede ser asignada a cualquier procesador del 0 al número de procesadores menos uno. Esto se representa mediante arreglos de límites inferiores y superiores."
   ]
  },
  {
   "cell_type": "code",
   "execution_count": 5,
   "metadata": {},
   "outputs": [],
   "source": [
    "lower_bound = np.zeros(numero_task)\n",
    "upper_bound = np.ones(numero_task) * (num_processors - 1)"
   ]
  },
  {
   "cell_type": "markdown",
   "metadata": {},
   "source": [
    "### Paso 6: Ejecutar el algoritmo PSO\n",
    "nicializamos el optimizador PSO con un número de partículas (10) y las dimensiones correspondientes al número de tareas. "
   ]
  },
  {
   "cell_type": "code",
   "execution_count": 6,
   "metadata": {},
   "outputs": [
    {
     "name": "stderr",
     "output_type": "stream",
     "text": [
      "2024-09-22 19:37:23,979 - pyswarms.single.global_best - INFO - Optimize for 50 iters with {'c1': 0.5, 'c2': 0.3, 'w': 0.9}\n",
      "pyswarms.single.global_best: 100%|███████████████████████████████████████████████████████████████████████████████████████████████████████████████████████████████████|50/50, best_cost=0.0436\n",
      "2024-09-22 19:37:26,899 - pyswarms.single.global_best - INFO - Optimization finished | best cost: 0.043581485748291016, best pos: [0.89751391 0.99913228 0.5889707  ... 0.32023473 0.47124213 0.34437603]\n"
     ]
    }
   ],
   "source": [
    "optimizer = ps.single.GlobalBestPSO(n_particles=10, dimensions=numero_task, options={'c1': 0.5, 'c2': 0.3, 'w': 0.9})\n",
    "best_assignment, best_fitness = optimizer.optimize(fitness, iters=50)"
   ]
  },
  {
   "cell_type": "markdown",
   "metadata": {},
   "source": [
    "### Paso 7: Mostrar el resultado\n",
    " Imprimimos la mejor asignación de tareas obtenida por el PSO y el tiempo de procesamiento máximo que enfrenta el procesador más cargado, lo que nos da una medida de la eficiencia de la distribución de carga."
   ]
  },
  {
   "cell_type": "code",
   "execution_count": 7,
   "metadata": {},
   "outputs": [
    {
     "name": "stdout",
     "output_type": "stream",
     "text": [
      "Mejor asignación de tareas: 0.043581485748291016\n",
      "Tiempo de procesamiento máximo en un procesador: [0.89751391 0.99913228 0.5889707  ... 0.32023473 0.47124213 0.34437603]\n",
      "100000\n"
     ]
    }
   ],
   "source": [
    "print('Mejor asignación de tareas:', best_assignment)\n",
    "print('Tiempo de procesamiento máximo en un procesador:', best_fitness)\n",
    "\n",
    "print(len(best_fitness))\n",
    "\n",
    "\"\"\"\n",
    "particula  = [0, 3, 6, 5, 1, ...]\n",
    "tarea 1 procesador 0\n",
    "tarea 2 procesador 3\n",
    "...\n",
    "\"\"\""
   ]
  },
  {
   "cell_type": "markdown",
   "metadata": {},
   "source": [
    "### Paso 8: Graficar la asignación de tareas\n"
   ]
  },
  {
   "cell_type": "code",
   "execution_count": 8,
   "metadata": {},
   "outputs": [
    {
     "data": {
      "image/png": "[encoded data removed]",
      "text/plain": [
       "<Figure size 1000x500 with 1 Axes>"
      ]
     },
     "metadata": {},
     "output_type": "display_data"
    }
   ],
   "source": [
    "# Graficar la asignación de tareas\n",
    "plt.figure(figsize=(10, 5))\n",
    "plt.bar(np.arange(numero_task), best_assignment)\n",
    "plt.xlabel('Tarea')\n",
    "plt.ylabel('Procesador')\n",
    "plt.title('Asignación de tareas a procesadores')\n",
    "plt.show()"
   ]
  }
 ],
 "metadata": {
  "kernelspec": {
   "display_name": "Python 3 (ipykernel)",
   "language": "python",
   "name": "python3"
  },
  "language_info": {
   "codemirror_mode": {
    "name": "ipython",
    "version": 3
   },
   "file_extension": ".py",
   "mimetype": "text/x-python",
   "name": "python",
   "nbconvert_exporter": "python",
   "pygments_lexer": "ipython3",
   "version": "3.10.12"
  }
 },
 "nbformat": 4,
 "nbformat_minor": 4
}
