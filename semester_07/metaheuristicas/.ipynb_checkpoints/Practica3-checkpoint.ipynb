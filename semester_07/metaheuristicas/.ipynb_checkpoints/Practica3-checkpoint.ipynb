{
 "cells": [
  {
   "cell_type": "markdown",
   "id": "bd7f424b-6a28-45a3-959c-0eb36468489e",
   "metadata": {},
   "source": [
    "#### Paso 1\n",
    "\n",
    "Importar las librerias necesarias"
   ]
  },
  {
   "cell_type": "code",
   "execution_count": 1,
   "id": "7334ece6-bef1-48e2-89d7-549f80d3ba90",
   "metadata": {},
   "outputs": [],
   "source": [
    "import numpy as np\n",
    "import random"
   ]
  },
  {
   "cell_type": "markdown",
   "id": "d3028d34-11b3-4255-bb67-844e0dd33fb6",
   "metadata": {},
   "source": [
    "##### Paso 2\n",
    "Definir la funcion objetivo"
   ]
  },
  {
   "cell_type": "code",
   "execution_count": 2,
   "id": "cf8fb1c1-a0bd-44a3-8cd7-b57d2c563c04",
   "metadata": {},
   "outputs": [],
   "source": [
    "def objective_function(x):\n",
    "    return x**2"
   ]
  },
  {
   "cell_type": "markdown",
   "id": "a52b37fd-86bf-4341-909b-dd79bf3c6861",
   "metadata": {},
   "source": [
    "##### Paso 3\n",
    "Inicializamos los parametros de la PSO"
   ]
  },
  {
   "cell_type": "code",
   "execution_count": 3,
   "id": "ce95e5a7-ed52-4f12-98e0-5e31b6f53ef2",
   "metadata": {
    "editable": true,
    "slideshow": {
     "slide_type": ""
    },
    "tags": []
   },
   "outputs": [],
   "source": [
    "num_particles = 30\n",
    "num_dimensions = 1\n",
    "num_iterations = 100\n",
    "w = 0.5\n",
    "c1 = 1.5\n",
    "c2 = 2.0\n",
    "\n",
    "# Limites de la busqueda\n",
    "bounds = (-10, 10)"
   ]
  },
  {
   "cell_type": "markdown",
   "id": "5e4729cf-b910-4943-b19d-30a13461b53e",
   "metadata": {},
   "source": [
    "##### Paso 4\n",
    "Inicializamos las particulas y sus velocidades"
   ]
  },
  {
   "cell_type": "code",
   "execution_count": 4,
   "id": "1f465c37-f86f-4b1c-aa1e-77c9a2aae153",
   "metadata": {},
   "outputs": [],
   "source": [
    "particles = np.random.uniform(bounds[0], bounds[1], (num_particles, num_dimensions))\n",
    "velocities = np.random.uniform(-1, 1, (num_particles, num_dimensions))\n",
    "\n",
    "p_best_position = particles.copy()\n",
    "p_best_value = np.array([objective_function(x) for x in p:articles])\n",
    "g_best_position = p_best_position[np.argmin(p_best_value)]\n",
    "g_best_value = np.min(p_best_value)"
   ]
  },
  {
   "cell_type": "markdown",
   "id": "48406fbd-4661-4951-bb60-ca743492ebdf",
   "metadata": {},
   "source": [
    "##### Paso 5\n",
    "Implementar el bucle principal del algoritmo"
   ]
  },
  {
   "cell_type": "code",
   "execution_count": null,
   "id": "ba81100b-4fa3-4ac4-91c9-5ae1fdbe2d15",
   "metadata": {},
   "outputs": [],
   "source": [
    "for t in range(num_iterations):\n",
    "    for i in range(num_particles):\n",
    "        fitness = objective_function(particles[i])\n",
    "\n",
    "        # Actualizar la mejor pos individual\n",
    "        if fitness < p_best_value[i]:\n",
    "            p_best_value[i] = fitness\n",
    "            p_best_position[i] = particles[i].copy()\n",
    "\n",
    "        # Actualizar la mejor pos global\n",
    "        if fitness < g_best_value:\n",
    "            g_best_value = fitness\n",
    "            g_best_position = particles[i].copy()\n",
    "\n",
    "    # Actualizar velocidades y posiciones\n",
    "    for i in range(num_particles):\n",
    "        r1 = random.random()\n",
    "        r2 = random.random()\n",
    "\n",
    "        velocities[i] = (w * velocities[i]\n",
    "                         + c1 * r1 * (p_best_positions[i] - particles[i])\n",
    "                         + c2 * r2 * (g_best_positions - particles[i]))\n",
    "\n",
    "        particles[i] = particles[i] + velocities[i]\n",
    "\n",
    "        # Respetar los limites de la busqueda\n",
    "        particles[i] = np.clip(particles[i], bounds[0], bounds[1])\n",
    "        \n",
    "    history_positions.append(particles.copy())\n",
    "    print(f'Iteracion: {t+1}/{num_iterations}, Mejor valor global: {g_best_value}')\n",
    "\n",
    "print(f'Mejor posicion encontrada: {g_best_position}, con valor: {g_best_value}')\n"
   ]
  }
 ],
 "metadata": {
  "kernelspec": {
   "display_name": "Python 3 (ipykernel)",
   "language": "python",
   "name": "python3"
  },
  "language_info": {
   "codemirror_mode": {
    "name": "ipython",
    "version": 3
   },
   "file_extension": ".py",
   "mimetype": "text/x-python",
   "name": "python",
   "nbconvert_exporter": "python",
   "pygments_lexer": "ipython3",
   "version": "3.10.12"
  }
 },
 "nbformat": 4,
 "nbformat_minor": 5
}
