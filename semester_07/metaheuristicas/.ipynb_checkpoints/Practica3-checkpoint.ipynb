{
 "cells": [
  {
   "cell_type": "markdown",
   "id": "29b252b9-1975-4593-a09a-e411baa125c5",
   "metadata": {},
   "source": [
    "## Práctica 3 PSO"
   ]
  },
  {
   "cell_type": "markdown",
   "id": "bd7f424b-6a28-45a3-959c-0eb36468489e",
   "metadata": {},
   "source": [
    "#### Paso 1\n",
    "\n",
    "Importar las librerias necesarias"
   ]
  },
  {
   "cell_type": "code",
   "execution_count": 1,
   "id": "7334ece6-bef1-48e2-89d7-549f80d3ba90",
   "metadata": {},
   "outputs": [],
   "source": [
    "import numpy as np\n",
    "import random"
   ]
  },
  {
   "cell_type": "markdown",
   "id": "d3028d34-11b3-4255-bb67-844e0dd33fb6",
   "metadata": {},
   "source": [
    "##### Paso 2\n",
    "Definir la funcion objetivo"
   ]
  },
  {
   "cell_type": "code",
   "execution_count": 2,
   "id": "cf8fb1c1-a0bd-44a3-8cd7-b57d2c563c04",
   "metadata": {},
   "outputs": [],
   "source": [
    "def objective_function(x):\n",
    "    return x**2"
   ]
  },
  {
   "cell_type": "markdown",
   "id": "a52b37fd-86bf-4341-909b-dd79bf3c6861",
   "metadata": {},
   "source": [
    "##### Paso 3\n",
    "Inicializamos los parametros de la PSO"
   ]
  },
  {
   "cell_type": "code",
   "execution_count": 3,
   "id": "ce95e5a7-ed52-4f12-98e0-5e31b6f53ef2",
   "metadata": {
    "editable": true,
    "slideshow": {
     "slide_type": ""
    },
    "tags": []
   },
   "outputs": [],
   "source": [
    "num_particles = 30\n",
    "num_dimensions = 1\n",
    "num_iterations = 100\n",
    "w = 0.5\n",
    "c1 = 1.5\n",
    "c2 = 2.0\n",
    "\n",
    "# Limites de la busqueda\n",
    "bounds = (-10, 10)"
   ]
  },
  {
   "cell_type": "markdown",
   "id": "5e4729cf-b910-4943-b19d-30a13461b53e",
   "metadata": {},
   "source": [
    "##### Paso 4\n",
    "Inicializamos las particulas y sus velocidades"
   ]
  },
  {
   "cell_type": "code",
   "execution_count": 9,
   "id": "1f465c37-f86f-4b1c-aa1e-77c9a2aae153",
   "metadata": {},
   "outputs": [],
   "source": [
    "particles = np.random.uniform(bounds[0], bounds[1], (num_particles, num_dimensions))\n",
    "velocities = np.random.uniform(-1, 1, (num_particles, num_dimensions))\n",
    "\n",
    "p_best_position = particles.copy()\n",
    "p_best_value = np.array([objective_function(x) for x in particles])\n",
    "g_best_position = p_best_position[np.argmin(p_best_value)]\n",
    "g_best_value = np.min(p_best_value)\n",
    "\n",
    "history_positions = []"
   ]
  },
  {
   "cell_type": "markdown",
   "id": "48406fbd-4661-4951-bb60-ca743492ebdf",
   "metadata": {},
   "source": [
    "##### Paso 5\n",
    "Implementar el bucle principal del algoritmo"
   ]
  },
  {
   "cell_type": "code",
   "execution_count": 10,
   "id": "ba81100b-4fa3-4ac4-91c9-5ae1fdbe2d15",
   "metadata": {},
   "outputs": [
    {
     "name": "stdout",
     "output_type": "stream",
     "text": [
      "Iteracion: 1/100, Mejor valor global: 0.0493865139551982\n",
      "Iteracion: 2/100, Mejor valor global: [2.84238758e-05]\n",
      "Iteracion: 3/100, Mejor valor global: [2.84238758e-05]\n",
      "Iteracion: 4/100, Mejor valor global: [2.84238758e-05]\n",
      "Iteracion: 5/100, Mejor valor global: [2.84238758e-05]\n",
      "Iteracion: 6/100, Mejor valor global: [2.84238758e-05]\n",
      "Iteracion: 7/100, Mejor valor global: [2.84238758e-05]\n",
      "Iteracion: 8/100, Mejor valor global: [2.84238758e-05]\n",
      "Iteracion: 9/100, Mejor valor global: [4.59649622e-06]\n",
      "Iteracion: 10/100, Mejor valor global: [4.59649622e-06]\n",
      "Iteracion: 11/100, Mejor valor global: [6.99563187e-07]\n",
      "Iteracion: 12/100, Mejor valor global: [6.99563187e-07]\n",
      "Iteracion: 13/100, Mejor valor global: [6.99563187e-07]\n",
      "Iteracion: 14/100, Mejor valor global: [6.99563187e-07]\n",
      "Iteracion: 15/100, Mejor valor global: [6.99563187e-07]\n",
      "Iteracion: 16/100, Mejor valor global: [3.55810557e-08]\n",
      "Iteracion: 17/100, Mejor valor global: [3.55810557e-08]\n",
      "Iteracion: 18/100, Mejor valor global: [3.55810557e-08]\n",
      "Iteracion: 19/100, Mejor valor global: [3.55810557e-08]\n",
      "Iteracion: 20/100, Mejor valor global: [3.55810557e-08]\n",
      "Iteracion: 21/100, Mejor valor global: [2.38099514e-08]\n",
      "Iteracion: 22/100, Mejor valor global: [2.38099514e-08]\n",
      "Iteracion: 23/100, Mejor valor global: [1.5551474e-09]\n",
      "Iteracion: 24/100, Mejor valor global: [1.5551474e-09]\n",
      "Iteracion: 25/100, Mejor valor global: [1.5551474e-09]\n",
      "Iteracion: 26/100, Mejor valor global: [6.16573551e-12]\n",
      "Iteracion: 27/100, Mejor valor global: [6.16573551e-12]\n",
      "Iteracion: 28/100, Mejor valor global: [6.16573551e-12]\n",
      "Iteracion: 29/100, Mejor valor global: [6.16573551e-12]\n",
      "Iteracion: 30/100, Mejor valor global: [6.16573551e-12]\n",
      "Iteracion: 31/100, Mejor valor global: [3.96225119e-12]\n",
      "Iteracion: 32/100, Mejor valor global: [3.96225119e-12]\n",
      "Iteracion: 33/100, Mejor valor global: [3.96225119e-12]\n",
      "Iteracion: 34/100, Mejor valor global: [3.96225119e-12]\n",
      "Iteracion: 35/100, Mejor valor global: [3.96225119e-12]\n",
      "Iteracion: 36/100, Mejor valor global: [3.96225119e-12]\n",
      "Iteracion: 37/100, Mejor valor global: [3.96225119e-12]\n",
      "Iteracion: 38/100, Mejor valor global: [3.96225119e-12]\n",
      "Iteracion: 39/100, Mejor valor global: [3.96225119e-12]\n",
      "Iteracion: 40/100, Mejor valor global: [2.52702234e-13]\n",
      "Iteracion: 41/100, Mejor valor global: [2.52702234e-13]\n",
      "Iteracion: 42/100, Mejor valor global: [2.16992245e-13]\n",
      "Iteracion: 43/100, Mejor valor global: [2.16992245e-13]\n",
      "Iteracion: 44/100, Mejor valor global: [2.16992245e-13]\n",
      "Iteracion: 45/100, Mejor valor global: [2.67360684e-15]\n",
      "Iteracion: 46/100, Mejor valor global: [2.67360684e-15]\n",
      "Iteracion: 47/100, Mejor valor global: [2.67360684e-15]\n",
      "Iteracion: 48/100, Mejor valor global: [2.67360684e-15]\n",
      "Iteracion: 49/100, Mejor valor global: [2.67360684e-15]\n",
      "Iteracion: 50/100, Mejor valor global: [2.67360684e-15]\n",
      "Iteracion: 51/100, Mejor valor global: [7.11319e-16]\n",
      "Iteracion: 52/100, Mejor valor global: [7.11319e-16]\n",
      "Iteracion: 53/100, Mejor valor global: [7.11319e-16]\n",
      "Iteracion: 54/100, Mejor valor global: [7.11319e-16]\n",
      "Iteracion: 55/100, Mejor valor global: [7.11319e-16]\n",
      "Iteracion: 56/100, Mejor valor global: [7.11319e-16]\n",
      "Iteracion: 57/100, Mejor valor global: [7.11319e-16]\n",
      "Iteracion: 58/100, Mejor valor global: [7.11319e-16]\n",
      "Iteracion: 59/100, Mejor valor global: [5.55001304e-16]\n",
      "Iteracion: 60/100, Mejor valor global: [5.55001304e-16]\n",
      "Iteracion: 61/100, Mejor valor global: [2.2458473e-16]\n",
      "Iteracion: 62/100, Mejor valor global: [7.47878097e-18]\n",
      "Iteracion: 63/100, Mejor valor global: [7.47878097e-18]\n",
      "Iteracion: 64/100, Mejor valor global: [2.10288171e-18]\n",
      "Iteracion: 65/100, Mejor valor global: [2.10288171e-18]\n",
      "Iteracion: 66/100, Mejor valor global: [2.10288171e-18]\n",
      "Iteracion: 67/100, Mejor valor global: [2.10288171e-18]\n",
      "Iteracion: 68/100, Mejor valor global: [2.10288171e-18]\n",
      "Iteracion: 69/100, Mejor valor global: [2.10288171e-18]\n",
      "Iteracion: 70/100, Mejor valor global: [1.70606841e-19]\n",
      "Iteracion: 71/100, Mejor valor global: [1.70606841e-19]\n",
      "Iteracion: 72/100, Mejor valor global: [1.70606841e-19]\n",
      "Iteracion: 73/100, Mejor valor global: [4.66022151e-21]\n",
      "Iteracion: 74/100, Mejor valor global: [4.66022151e-21]\n",
      "Iteracion: 75/100, Mejor valor global: [4.66022151e-21]\n",
      "Iteracion: 76/100, Mejor valor global: [4.66022151e-21]\n",
      "Iteracion: 77/100, Mejor valor global: [4.66022151e-21]\n",
      "Iteracion: 78/100, Mejor valor global: [4.66022151e-21]\n",
      "Iteracion: 79/100, Mejor valor global: [1.00375544e-21]\n",
      "Iteracion: 80/100, Mejor valor global: [7.14727465e-22]\n",
      "Iteracion: 81/100, Mejor valor global: [7.14727465e-22]\n",
      "Iteracion: 82/100, Mejor valor global: [1.68370698e-22]\n",
      "Iteracion: 83/100, Mejor valor global: [5.64637236e-25]\n",
      "Iteracion: 84/100, Mejor valor global: [5.64637236e-25]\n",
      "Iteracion: 85/100, Mejor valor global: [5.64637236e-25]\n",
      "Iteracion: 86/100, Mejor valor global: [5.64637236e-25]\n",
      "Iteracion: 87/100, Mejor valor global: [5.64637236e-25]\n",
      "Iteracion: 88/100, Mejor valor global: [5.64637236e-25]\n",
      "Iteracion: 89/100, Mejor valor global: [5.64637236e-25]\n",
      "Iteracion: 90/100, Mejor valor global: [5.64637236e-25]\n",
      "Iteracion: 91/100, Mejor valor global: [3.9195871e-25]\n",
      "Iteracion: 92/100, Mejor valor global: [5.2696564e-27]\n",
      "Iteracion: 93/100, Mejor valor global: [5.2696564e-27]\n",
      "Iteracion: 94/100, Mejor valor global: [5.2696564e-27]\n",
      "Iteracion: 95/100, Mejor valor global: [5.2696564e-27]\n",
      "Iteracion: 96/100, Mejor valor global: [5.2696564e-27]\n",
      "Iteracion: 97/100, Mejor valor global: [9.02488527e-29]\n",
      "Iteracion: 98/100, Mejor valor global: [9.02488527e-29]\n",
      "Iteracion: 99/100, Mejor valor global: [9.02488527e-29]\n",
      "Iteracion: 100/100, Mejor valor global: [9.02488527e-29]\n",
      "Mejor posicion encontrada: [-9.49993961e-15], con valor: [9.02488527e-29]\n"
     ]
    }
   ],
   "source": [
    "for t in range(num_iterations):\n",
    "    for i in range(num_particles):\n",
    "        fitness = objective_function(particles[i])\n",
    "\n",
    "        # Actualizar la mejor pos individual\n",
    "        if fitness < p_best_value[i]:\n",
    "            p_best_value[i] = fitness\n",
    "            p_best_position[i] = particles[i].copy()\n",
    "\n",
    "        # Actualizar la mejor pos global\n",
    "        if fitness < g_best_value:\n",
    "            g_best_value = fitness\n",
    "            g_best_position = particles[i].copy()\n",
    "\n",
    "    # Actualizar velocidades y posiciones\n",
    "    for i in range(num_particles):\n",
    "        r1 = random.random()\n",
    "        r2 = random.random()\n",
    "\n",
    "        velocities[i] = (w * velocities[i]\n",
    "                         + c1 * r1 * (p_best_position[i] - particles[i])\n",
    "                         + c2 * r2 * (g_best_position - particles[i]))\n",
    "\n",
    "        particles[i] = particles[i] + velocities[i]\n",
    "\n",
    "        # Respetar los limites de la busqueda\n",
    "        particles[i] = np.clip(particles[i], bounds[0], bounds[1])\n",
    "\n",
    "    history_positions.append(particles.copy())\n",
    "    print(f'Iteracion: {t+1}/{num_iterations}, Mejor valor global: {g_best_value}')\n",
    "\n",
    "print(f'Mejor posicion encontrada: {g_best_position}, con valor: {g_best_value}')"
   ]
  },
  {
   "cell_type": "markdown",
   "id": "b10007b0-4b29-4cdc-91af-96c8e3cbe27a",
   "metadata": {},
   "source": [
    "### Conclusiones\n",
    "\n",
    "El PSO es un algoritmo de uptimización basado en la simulación de la conducta social de organismos, como bancos de peces. En esta práctica implementamos PSO para buscar el óptimo global de una función en 2D"
   ]
  }
 ],
 "metadata": {
  "kernelspec": {
   "display_name": "Python 3 (ipykernel)",
   "language": "python",
   "name": "python3"
  },
  "language_info": {
   "codemirror_mode": {
    "name": "ipython",
    "version": 3
   },
   "file_extension": ".py",
   "mimetype": "text/x-python",
   "name": "python",
   "nbconvert_exporter": "python",
   "pygments_lexer": "ipython3",
   "version": "3.10.12"
  }
 },
 "nbformat": 4,
 "nbformat_minor": 5
}
