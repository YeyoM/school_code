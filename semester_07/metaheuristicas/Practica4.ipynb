{
 "cells": [
  {
   "cell_type": "markdown",
   "id": "29b252b9-1975-4593-a09a-e411baa125c5",
   "metadata": {},
   "source": [
    "## Práctica 4 PSO"
   ]
  },
  {
   "cell_type": "markdown",
   "id": "bd7f424b-6a28-45a3-959c-0eb36468489e",
   "metadata": {},
   "source": [
    "#### Paso 1\n",
    "\n",
    "Importar las librerias necesarias"
   ]
  },
  {
   "cell_type": "code",
   "execution_count": 1,
   "id": "7334ece6-bef1-48e2-89d7-549f80d3ba90",
   "metadata": {},
   "outputs": [],
   "source": [
    "import numpy as np\n",
    "import random"
   ]
  },
  {
   "cell_type": "markdown",
   "id": "d3028d34-11b3-4255-bb67-844e0dd33fb6",
   "metadata": {},
   "source": [
    "##### Paso 2\n",
    "Definir la funcion objetivo"
   ]
  },
  {
   "cell_type": "code",
   "execution_count": 2,
   "id": "cf8fb1c1-a0bd-44a3-8cd7-b57d2c563c04",
   "metadata": {},
   "outputs": [],
   "source": [
    "def objective_function(x):\n",
    "    return x**2"
   ]
  },
  {
   "cell_type": "markdown",
   "id": "a52b37fd-86bf-4341-909b-dd79bf3c6861",
   "metadata": {},
   "source": [
    "##### Paso 3\n",
    "Inicializamos los parametros de la PSO"
   ]
  },
  {
   "cell_type": "code",
   "execution_count": 3,
   "id": "ce95e5a7-ed52-4f12-98e0-5e31b6f53ef2",
   "metadata": {
    "editable": true,
    "slideshow": {
     "slide_type": ""
    },
    "tags": []
   },
   "outputs": [],
   "source": [
    "num_particles = 30\n",
    "num_dimensions = 1\n",
    "num_iterations = 100\n",
    "w = 0.5\n",
    "c1 = 1.5\n",
    "c2 = 2.0\n",
    "\n",
    "# Limites de la busqueda\n",
    "bounds = (-10, 10)"
   ]
  },
  {
   "cell_type": "markdown",
   "id": "5e4729cf-b910-4943-b19d-30a13461b53e",
   "metadata": {},
   "source": [
    "##### Paso 4\n",
    "Inicializamos las particulas y sus velocidades"
   ]
  },
  {
   "cell_type": "code",
   "execution_count": 4,
   "id": "1f465c37-f86f-4b1c-aa1e-77c9a2aae153",
   "metadata": {},
   "outputs": [],
   "source": [
    "particles = np.random.uniform(bounds[0], bounds[1], (num_particles, num_dimensions))\n",
    "velocities = np.random.uniform(-1, 1, (num_particles, num_dimensions))\n",
    "\n",
    "p_best_position = particles.copy()\n",
    "p_best_value = np.array([objective_function(x) for x in particles])\n",
    "g_best_position = p_best_position[np.argmin(p_best_value)]\n",
    "g_best_value = np.min(p_best_value)\n",
    "\n",
    "history_positions = []"
   ]
  },
  {
   "cell_type": "markdown",
   "id": "48406fbd-4661-4951-bb60-ca743492ebdf",
   "metadata": {},
   "source": [
    "##### Paso 5\n",
    "Implementar el bucle principal del algoritmo"
   ]
  },
  {
   "cell_type": "code",
   "execution_count": 5,
   "id": "ba81100b-4fa3-4ac4-91c9-5ae1fdbe2d15",
   "metadata": {},
   "outputs": [
    {
     "name": "stdout",
     "output_type": "stream",
     "text": [
      "Iteracion: 1/100, Mejor valor global: 0.07547777671912585\n",
      "Iteracion: 2/100, Mejor valor global: [0.00701909]\n",
      "Iteracion: 3/100, Mejor valor global: [0.00225604]\n",
      "Iteracion: 4/100, Mejor valor global: [0.00225604]\n",
      "Iteracion: 5/100, Mejor valor global: [0.00225604]\n",
      "Iteracion: 6/100, Mejor valor global: [0.00225604]\n",
      "Iteracion: 7/100, Mejor valor global: [3.282283e-05]\n",
      "Iteracion: 8/100, Mejor valor global: [3.282283e-05]\n",
      "Iteracion: 9/100, Mejor valor global: [3.282283e-05]\n",
      "Iteracion: 10/100, Mejor valor global: [9.22334955e-06]\n",
      "Iteracion: 11/100, Mejor valor global: [9.22334955e-06]\n",
      "Iteracion: 12/100, Mejor valor global: [9.22334955e-06]\n",
      "Iteracion: 13/100, Mejor valor global: [9.22334955e-06]\n",
      "Iteracion: 14/100, Mejor valor global: [1.24594312e-06]\n",
      "Iteracion: 15/100, Mejor valor global: [1.24594312e-06]\n",
      "Iteracion: 16/100, Mejor valor global: [1.24594312e-06]\n",
      "Iteracion: 17/100, Mejor valor global: [1.26679293e-07]\n",
      "Iteracion: 18/100, Mejor valor global: [1.26679293e-07]\n",
      "Iteracion: 19/100, Mejor valor global: [1.26679293e-07]\n",
      "Iteracion: 20/100, Mejor valor global: [1.26679293e-07]\n",
      "Iteracion: 21/100, Mejor valor global: [1.26679293e-07]\n",
      "Iteracion: 22/100, Mejor valor global: [2.84042634e-08]\n",
      "Iteracion: 23/100, Mejor valor global: [2.84042634e-08]\n",
      "Iteracion: 24/100, Mejor valor global: [2.84042634e-08]\n",
      "Iteracion: 25/100, Mejor valor global: [2.84042634e-08]\n",
      "Iteracion: 26/100, Mejor valor global: [2.67775429e-08]\n",
      "Iteracion: 27/100, Mejor valor global: [2.67775429e-08]\n",
      "Iteracion: 28/100, Mejor valor global: [7.30298057e-09]\n",
      "Iteracion: 29/100, Mejor valor global: [7.30298057e-09]\n",
      "Iteracion: 30/100, Mejor valor global: [7.30298057e-09]\n",
      "Iteracion: 31/100, Mejor valor global: [1.96285846e-09]\n",
      "Iteracion: 32/100, Mejor valor global: [1.96285846e-09]\n",
      "Iteracion: 33/100, Mejor valor global: [1.96285846e-09]\n",
      "Iteracion: 34/100, Mejor valor global: [1.96285846e-09]\n",
      "Iteracion: 35/100, Mejor valor global: [7.20723417e-11]\n",
      "Iteracion: 36/100, Mejor valor global: [7.20723417e-11]\n",
      "Iteracion: 37/100, Mejor valor global: [7.20723417e-11]\n",
      "Iteracion: 38/100, Mejor valor global: [6.06365457e-11]\n",
      "Iteracion: 39/100, Mejor valor global: [1.86717331e-12]\n",
      "Iteracion: 40/100, Mejor valor global: [1.86717331e-12]\n",
      "Iteracion: 41/100, Mejor valor global: [1.86717331e-12]\n",
      "Iteracion: 42/100, Mejor valor global: [1.86717331e-12]\n",
      "Iteracion: 43/100, Mejor valor global: [1.86717331e-12]\n",
      "Iteracion: 44/100, Mejor valor global: [1.86717331e-12]\n",
      "Iteracion: 45/100, Mejor valor global: [1.86717331e-12]\n",
      "Iteracion: 46/100, Mejor valor global: [2.81244514e-19]\n",
      "Iteracion: 47/100, Mejor valor global: [2.81244514e-19]\n",
      "Iteracion: 48/100, Mejor valor global: [2.81244514e-19]\n",
      "Iteracion: 49/100, Mejor valor global: [2.81244514e-19]\n",
      "Iteracion: 50/100, Mejor valor global: [2.81244514e-19]\n",
      "Iteracion: 51/100, Mejor valor global: [2.81244514e-19]\n",
      "Iteracion: 52/100, Mejor valor global: [2.81244514e-19]\n",
      "Iteracion: 53/100, Mejor valor global: [2.81244514e-19]\n",
      "Iteracion: 54/100, Mejor valor global: [2.81244514e-19]\n",
      "Iteracion: 55/100, Mejor valor global: [2.81244514e-19]\n",
      "Iteracion: 56/100, Mejor valor global: [2.81244514e-19]\n",
      "Iteracion: 57/100, Mejor valor global: [2.81244514e-19]\n",
      "Iteracion: 58/100, Mejor valor global: [2.81244514e-19]\n",
      "Iteracion: 59/100, Mejor valor global: [2.81244514e-19]\n",
      "Iteracion: 60/100, Mejor valor global: [2.81244514e-19]\n",
      "Iteracion: 61/100, Mejor valor global: [2.81244514e-19]\n",
      "Iteracion: 62/100, Mejor valor global: [2.81244514e-19]\n",
      "Iteracion: 63/100, Mejor valor global: [2.81244514e-19]\n",
      "Iteracion: 64/100, Mejor valor global: [2.81244514e-19]\n",
      "Iteracion: 65/100, Mejor valor global: [2.81244514e-19]\n",
      "Iteracion: 66/100, Mejor valor global: [2.81244514e-19]\n",
      "Iteracion: 67/100, Mejor valor global: [5.55158249e-20]\n",
      "Iteracion: 68/100, Mejor valor global: [5.55158249e-20]\n",
      "Iteracion: 69/100, Mejor valor global: [5.55158249e-20]\n",
      "Iteracion: 70/100, Mejor valor global: [1.25268581e-20]\n",
      "Iteracion: 71/100, Mejor valor global: [1.25268581e-20]\n",
      "Iteracion: 72/100, Mejor valor global: [1.25268581e-20]\n",
      "Iteracion: 73/100, Mejor valor global: [1.25268581e-20]\n",
      "Iteracion: 74/100, Mejor valor global: [1.25268581e-20]\n",
      "Iteracion: 75/100, Mejor valor global: [1.25268581e-20]\n",
      "Iteracion: 76/100, Mejor valor global: [1.25268581e-20]\n",
      "Iteracion: 77/100, Mejor valor global: [1.25268581e-20]\n",
      "Iteracion: 78/100, Mejor valor global: [4.29574442e-23]\n",
      "Iteracion: 79/100, Mejor valor global: [4.29574442e-23]\n",
      "Iteracion: 80/100, Mejor valor global: [4.29574442e-23]\n",
      "Iteracion: 81/100, Mejor valor global: [4.29574442e-23]\n",
      "Iteracion: 82/100, Mejor valor global: [4.29574442e-23]\n",
      "Iteracion: 83/100, Mejor valor global: [4.29574442e-23]\n",
      "Iteracion: 84/100, Mejor valor global: [4.29574442e-23]\n",
      "Iteracion: 85/100, Mejor valor global: [4.29574442e-23]\n",
      "Iteracion: 86/100, Mejor valor global: [4.29574442e-23]\n",
      "Iteracion: 87/100, Mejor valor global: [4.29574442e-23]\n",
      "Iteracion: 88/100, Mejor valor global: [4.29574442e-23]\n",
      "Iteracion: 89/100, Mejor valor global: [4.29574442e-23]\n",
      "Iteracion: 90/100, Mejor valor global: [4.29574442e-23]\n",
      "Iteracion: 91/100, Mejor valor global: [4.29574442e-23]\n",
      "Iteracion: 92/100, Mejor valor global: [4.29574442e-23]\n",
      "Iteracion: 93/100, Mejor valor global: [4.29574442e-23]\n",
      "Iteracion: 94/100, Mejor valor global: [5.52945921e-25]\n",
      "Iteracion: 95/100, Mejor valor global: [5.52945921e-25]\n",
      "Iteracion: 96/100, Mejor valor global: [5.52945921e-25]\n",
      "Iteracion: 97/100, Mejor valor global: [5.52945921e-25]\n",
      "Iteracion: 98/100, Mejor valor global: [5.52945921e-25]\n",
      "Iteracion: 99/100, Mejor valor global: [5.52945921e-25]\n",
      "Iteracion: 100/100, Mejor valor global: [5.52945921e-25]\n",
      "Mejor posicion encontrada: [-7.43603336e-13], con valor: [5.52945921e-25]\n"
     ]
    }
   ],
   "source": [
    "for t in range(num_iterations):\n",
    "    for i in range(num_particles):\n",
    "        fitness = objective_function(particles[i])\n",
    "\n",
    "        # Actualizar la mejor pos individual\n",
    "        if fitness < p_best_value[i]:\n",
    "            p_best_value[i] = fitness\n",
    "            p_best_position[i] = particles[i].copy()\n",
    "\n",
    "        # Actualizar la mejor pos global\n",
    "        if fitness < g_best_value:\n",
    "            g_best_value = fitness\n",
    "            g_best_position = particles[i].copy()\n",
    "\n",
    "    # Actualizar velocidades y posiciones\n",
    "    for i in range(num_particles):\n",
    "        r1 = random.random()\n",
    "        r2 = random.random()\n",
    "\n",
    "        velocities[i] = (w * velocities[i]\n",
    "                         + c1 * r1 * (p_best_position[i] - particles[i])\n",
    "                         + c2 * r2 * (g_best_position - particles[i]))\n",
    "\n",
    "        particles[i] = particles[i] + velocities[i]\n",
    "\n",
    "        # Respetar los limites de la busqueda\n",
    "        particles[i] = np.clip(particles[i], bounds[0], bounds[1])\n",
    "\n",
    "    history_positions.append(particles.copy())\n",
    "    print(f'Iteracion: {t+1}/{num_iterations}, Mejor valor global: {g_best_value}')\n",
    "\n",
    "print(f'Mejor posicion encontrada: {g_best_position}, con valor: {g_best_value}')"
   ]
  },
  {
   "cell_type": "markdown",
   "id": "6e54b08d-0e5b-4aaf-9278-4f03d22422e3",
   "metadata": {},
   "source": [
    "##### Paso 5. Graficamos"
   ]
  },
  {
   "cell_type": "code",
   "execution_count": 6,
   "id": "183c1d5b-64e0-4437-a54d-b38a74d6db53",
   "metadata": {},
   "outputs": [],
   "source": [
    "x_values = np.linspace(-10, 10, 400)\n",
    "y_values = objective_function(x_values)"
   ]
  },
  {
   "cell_type": "code",
   "execution_count": 9,
   "id": "6db02f9c-83a8-4ae0-b1c6-dd8c833a2bee",
   "metadata": {},
   "outputs": [
    {
     "data": {
      "image/png": "[encoded data removed]",
      "text/plain": [
       "<Figure size 1000x600 with 1 Axes>"
      ]
     },
     "metadata": {},
     "output_type": "display_data"
    }
   ],
   "source": [
    "import matplotlib.pyplot as plt\n",
    "plt.figure(figsize=(10, 6))\n",
    "plt.plot(x_values, y_values, label=\"f(x) = x^2\")\n",
    "\n",
    "plt.scatter([g_best_position], [objective_function(g_best_position)], color=\"blue\", marker=\"x\", s=100, label=\"Mejor posicion\")\n",
    "\n",
    "for positions in history_positions:\n",
    "    plt.scatter(positions, objective_function(positions), color=\"red\", alpha=0.2)"
   ]
  },
  {
   "cell_type": "markdown",
   "id": "b10007b0-4b29-4cdc-91af-96c8e3cbe27a",
   "metadata": {},
   "source": [
    "### Conclusiones\n",
    "\n",
    "El PSO es un algoritmo de uptimización basado en la simulación de la conducta social de organismos, como bancos de peces. En esta práctica implementamos PSO para buscar el óptimo global de una función en 2D"
   ]
  }
 ],
 "metadata": {
  "kernelspec": {
   "display_name": "Python 3 (ipykernel)",
   "language": "python",
   "name": "python3"
  },
  "language_info": {
   "codemirror_mode": {
    "name": "ipython",
    "version": 3
   },
   "file_extension": ".py",
   "mimetype": "text/x-python",
   "name": "python",
   "nbconvert_exporter": "python",
   "pygments_lexer": "ipython3",
   "version": "3.10.12"
  }
 },
 "nbformat": 4,
 "nbformat_minor": 5
}
