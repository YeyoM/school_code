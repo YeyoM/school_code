








import numpy as np
import pyswarms as ps
import json
import matplotlib.pyplot as plt





with open('reviews.json') as file:
    tasks = json.load(file)

# Extraer los tiempos de procesamiento de las tareas
processing_times = np.array([task['time'] for task in tasks])





num_processors = 8
numero_task = len(processing_times)





def fitness(task_assignment):
    task_assignment = np.array(task_assignment).astype(int)
    processor_loads = np.zeros(num_processors)
    if np.any(task_assignment < 0) or np.any(task_assignment >= num_processors):
        return np.inf
    for i, processor in enumerate(task_assignment):
        processor_loads[processor] += processing_times[i]
    return np.max(processor_loads)





lower_bound = np.zeros(numero_task)
upper_bound = np.ones(numero_task) * (num_processors - 1)





optimizer = ps.single.GlobalBestPSO(n_particles=10, dimensions=numero_task, options={'c1': 0.5, 'c2': 0.3, 'w': 0.9})
best_assignment, best_fitness = optimizer.optimize(fitness, iters=50)





print('Mejor asignación de tareas:', best_assignment)
print('Tiempo de procesamiento máximo en un procesador:', best_fitness)

print(len(best_fitness))

"""
particula  = [0, 3, 6, 5, 1, ...]
tarea 1 procesador 0
tarea 2 procesador 3
...
"""





# Graficar la asignación de tareas
plt.figure(figsize=(10, 5))
plt.bar(np.arange(numero_task), best_assignment)
plt.xlabel('Tarea')
plt.ylabel('Procesador')
plt.title('Asignación de tareas a procesadores')
plt.show()
