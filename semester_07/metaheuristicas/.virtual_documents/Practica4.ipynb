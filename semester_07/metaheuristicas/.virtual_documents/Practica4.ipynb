





import numpy as np
import random





def objective_function(x):
    return x**2





num_particles = 30
num_dimensions = 1
num_iterations = 100
w = 0.5
c1 = 1.5
c2 = 2.0

# Limites de la busqueda
bounds = (-10, 10)





particles = np.random.uniform(bounds[0], bounds[1], (num_particles, num_dimensions))
velocities = np.random.uniform(-1, 1, (num_particles, num_dimensions))

p_best_position = particles.copy()
p_best_value = np.array([objective_function(x) for x in particles])
g_best_position = p_best_position[np.argmin(p_best_value)]
g_best_value = np.min(p_best_value)

history_positions = []





for t in range(num_iterations):
    for i in range(num_particles):
        fitness = objective_function(particles[i])

        # Actualizar la mejor pos individual
        if fitness < p_best_value[i]:
            p_best_value[i] = fitness
            p_best_position[i] = particles[i].copy()

        # Actualizar la mejor pos global
        if fitness < g_best_value:
            g_best_value = fitness
            g_best_position = particles[i].copy()

    # Actualizar velocidades y posiciones
    for i in range(num_particles):
        r1 = random.random()
        r2 = random.random()

        velocities[i] = (w * velocities[i]
                         + c1 * r1 * (p_best_position[i] - particles[i])
                         + c2 * r2 * (g_best_position - particles[i]))

        particles[i] = particles[i] + velocities[i]

        # Respetar los limites de la busqueda
        particles[i] = np.clip(particles[i], bounds[0], bounds[1])

    history_positions.append(particles.copy())
    print(f'Iteracion: {t+1}/{num_iterations}, Mejor valor global: {g_best_value}')

print(f'Mejor posicion encontrada: {g_best_position}, con valor: {g_best_value}')





x_values = np.linspace(-10, 10, 400)
y_values = objective_function(x_values)


import matplotlib.pyplot as plt
plt.figure(figsize=(10, 6))
plt.plot(x_values, y_values, label="f(x) = x^2")

plt.scatter([g_best_position], [objective_function(g_best_position)], color="blue", marker="x", s=100, label="Mejor posicion")

for positions in history_positions:
    plt.scatter(positions, objective_function(positions), color="red", alpha=0.2)



