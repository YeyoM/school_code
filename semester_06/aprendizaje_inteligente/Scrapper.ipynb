{
 "cells": [
  {
   "cell_type": "markdown",
   "id": "ef6d79af-595c-48b0-861f-3bcd3412267b",
   "metadata": {},
   "source": [
    "#### Scrapper de Mercado Libre"
   ]
  },
  {
   "cell_type": "markdown",
   "id": "fbf7e5ee-5837-403c-9a4d-546d8599bc1a",
   "metadata": {},
   "source": [
    "Importamos las librerias necesarias, pandas para crear de manera sencilla el archivo excel con los datos que recopilemos, bs4 para encontrar patrones dentro del código html que obtengamos y selemium como el scrapper en si."
   ]
  },
  {
   "cell_type": "code",
   "execution_count": null,
   "id": "6ebfbf4c-d7f8-4a05-b056-0b707c08e990",
   "metadata": {},
   "outputs": [],
   "source": [
    "import pandas as pd\n",
    "from bs4 import BeautifulSoup\n",
    "from selenium import webdriver"
   ]
  },
  {
   "cell_type": "markdown",
   "id": "a618b9c1-0c26-4262-b9c2-676efe90a8ce",
   "metadata": {},
   "source": [
    "Esta función utiliza Selenium para cargar una página web en un navegador, simula desplazarse hacia abajo y hacia arriba en la página para cargar completamente el contenido dinámico, y luego devuelve el código HTML completo de la página."
   ]
  },
  {
   "cell_type": "code",
   "execution_count": null,
   "id": "fcbfe059-1291-4e72-94ed-ff50335cd6a2",
   "metadata": {},
   "outputs": [],
   "source": [
    "def get_html(url):\n",
    "    browser = webdriver.Firefox()\n",
    "    browser.get(url)\n",
    "\n",
    "    browser.implicitly_wait(10)\n",
    "\n",
    "    scroll_amount = 2000\n",
    "    current_height = browser.execute_script(\"return document.body.scrollHeight\")\n",
    "\n",
    "    max_counter = 0\n",
    "\n",
    "    while True:\n",
    "        browser.execute_script(f\"window.scrollTo(0, {current_height});\")\n",
    "        browser.execute_script(f\"window.scrollTo(0, {current_height - scroll_amount});\")\n",
    "        new_height = browser.execute_script(\"return document.body.scrollHeight\")\n",
    "        if new_height >= 20000:\n",
    "            break\n",
    "        current_height = new_height\n",
    "        max_counter += 1\n",
    "        if max_counter >= 5000:\n",
    "            break\n",
    "    html = browser.page_source\n",
    "    browser.quit()\n",
    "    return html"
   ]
  },
  {
   "cell_type": "markdown",
   "id": "bda48768-c4b7-4c13-b222-5fde34fc9e6d",
   "metadata": {
    "jp-MarkdownHeadingCollapsed": true
   },
   "source": [
    "Esta función analiza el HTML de una página web para extraer los comentarios de los usuarios junto con sus calificaciones asociadas, y los devuelve como una lista de tuplas."
   ]
  },
  {
   "cell_type": "code",
   "execution_count": null,
   "id": "e1332ed0-ea69-4e99-bc88-0f3c87a1a4b5",
   "metadata": {},
   "outputs": [],
   "source": [
    "def get_comments(html):\n",
    "    soup = BeautifulSoup(html, \"html.parser\")\n",
    "    articles = soup.find_all(\"article\", class_=\"ui-review-capability-comments__comment\")\n",
    "\n",
    "    data = []\n",
    "\n",
    "    for article in articles:\n",
    "        rating_div = article.find(\n",
    "            \"div\", class_=\"ui-review-capability-comments__comment__rating\"\n",
    "        )\n",
    "        rating = rating_div.find(\"p\", class_=\"andes-visually-hidden\")\n",
    "        rating_info = rating.text.strip()\n",
    "\n",
    "        comment = article.find(\n",
    "            \"p\", class_=\"ui-review-capability-comments__comment__content\"\n",
    "        ).text.strip()\n",
    "\n",
    "        rating_info = rating_info.split(\" \")[1]\n",
    "\n",
    "        if int(rating_info) < 3:\n",
    "            rating_info = 0\n",
    "        else:\n",
    "            rating_info = 1\n",
    "\n",
    "        data.append((rating_info, comment))\n",
    "\n",
    "    return data"
   ]
  },
  {
   "cell_type": "markdown",
   "id": "23603b0b-69eb-4361-bb43-1e3f83399b61",
   "metadata": {},
   "source": [
    "Por útlimo, se utilizan las siguientes urls para obtener sus datos, una vez con esos datos completos se pasan a un archivo de excel usando pandas"
   ]
  },
  {
   "cell_type": "code",
   "execution_count": null,
   "id": "1bae923a-fc98-45be-9a68-070581598996",
   "metadata": {},
   "outputs": [],
   "source": [
    "urls = [\n",
    "        \"https://www.mercadolibre.com.mx/noindex/catalog/reviews/MLM19671372?noIndex=true&access=view_all&modal=true&controlled=true\",\n",
    "        \"https://articulo.mercadolibre.com.mx/noindex/catalog/reviews/MLM1385142136?noIndex=true&access=view_all&modal=true\",\n",
    "        \"https://articulo.mercadolibre.com.mx/noindex/catalog/reviews/MLM1453562130?noIndex=true&access=view_all&modal=true\",\n",
    "        \"https://articulo.mercadolibre.com.mx/noindex/catalog/reviews/MLM1310553268?noIndex=true&access=view_all&modal=true\",\n",
    "        \"https://articulo.mercadolibre.com.mx/noindex/catalog/reviews/MLM1529227728?noIndex=true&access=view_all&modal=true\",\n",
    "        \"https://articulo.mercadolibre.com.mx/noindex/catalog/reviews/MLM2413812916?noIndex=true&access=view_all&modal=true\",\n",
    "        \"https://articulo.mercadolibre.com.mx/noindex/catalog/reviews/MLM1483602610?noIndex=true&access=view_all&modal=true\",\n",
    "        \"https://www.mercadolibre.com.mx/noindex/catalog/reviews/MLM26374823?noIndex=true&access=view_all&modal=true&controlled=true\",\n",
    "        \"https://articulo.mercadolibre.com.mx/noindex/catalog/reviews/MLM1595869350?noIndex=true&access=view_all&modal=true\",\n",
    "        \"https://articulo.mercadolibre.com.mx/noindex/catalog/reviews/MLM1436939565?noIndex=true&access=view_all&modal=true\",\n",
    "        \"https://articulo.mercadolibre.com.mx/noindex/catalog/reviews/MLM1918786987?noIndex=true&access=view_all&modal=true\",\n",
    "        \"https://www.mercadolibre.com.mx/noindex/catalog/reviews/MLM23718286?noIndex=true&access=view_all&modal=true&controlled=true\",\n",
    "        \"https://www.mercadolibre.com.mx/noindex/catalog/reviews/MLM27953242?noIndex=true&access=view_all&modal=true&controlled=true\",\n",
    "        \"https://articulo.mercadolibre.com.mx/noindex/catalog/reviews/MLM1423798166?noIndex=true&access=view_all&modal=true\",\n",
    "        \"https://articulo.mercadolibre.com.mx/noindex/catalog/reviews/MLM1458795279?noIndex=true&access=view_all&modal=true\",\n",
    "        \"https://www.mercadolibre.com.mx/noindex/catalog/reviews/MLM15567959?noIndex=true&access=view_all&modal=true&controlled=true\",\n",
    "        \"https://www.mercadolibre.com.mx/noindex/catalog/reviews/MLM23537280?noIndex=true&access=view_all&modal=true&controlled=true\",\n",
    "        \"https://www.mercadolibre.com.mx/noindex/catalog/reviews/MLM25929225?noIndex=true&access=view_all&modal=true&controlled=true\",\n",
    "        \"https://www.mercadolibre.com.mx/noindex/catalog/reviews/MLM27144027?noIndex=true&access=view_all&modal=true&controlled=true\",\n",
    "        \"https://articulo.mercadolibre.com.mx/noindex/catalog/reviews/MLM1958181837?noIndex=true&access=view_all&modal=true\",\n",
    "        \"https://articulo.mercadolibre.com.mx/noindex/catalog/reviews/MLM2041772158?noIndex=true&access=view_all&modal=true\",\n",
    "    ]\n",
    "\n",
    "data_list = []\n",
    "\n",
    "for url in urls:\n",
    "    html = get_html(url)\n",
    "    data = get_comments(html)\n",
    "    data_list.extend(data)\n",
    "\n",
    "print(data_list)\n",
    "df = pd.DataFrame(data_list, columns=[\"rating\", \"comment\"])\n",
    "df.to_csv(\"comments.csv\", index=False)"
   ]
  }
 ],
 "metadata": {
  "kernelspec": {
   "display_name": "Python 3 (ipykernel)",
   "language": "python",
   "name": "python3"
  },
  "language_info": {
   "codemirror_mode": {
    "name": "ipython",
    "version": 3
   },
   "file_extension": ".py",
   "mimetype": "text/x-python",
   "name": "python",
   "nbconvert_exporter": "python",
   "pygments_lexer": "ipython3",
   "version": "3.11.6"
  }
 },
 "nbformat": 4,
 "nbformat_minor": 5
}
