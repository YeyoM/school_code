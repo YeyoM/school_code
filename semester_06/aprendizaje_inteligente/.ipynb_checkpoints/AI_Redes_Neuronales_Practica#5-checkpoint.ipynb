{
 "cells": [
  {
   "cell_type": "markdown",
   "id": "327d78f6-546a-4bd8-8c95-535a64d2b81b",
   "metadata": {},
   "source": [
    "### Universidad Autonoma de Aguascalientes\n",
    "### Centro de Ciencias Basicas\n",
    "### Departamento de Ciencias de la Computacion\n",
    "### Carrera: Ingenieria en Computacion Inteligente\n",
    "### Materia: Machine Learning\n",
    "### Profesor: Dr. Francisco Javier Luna Rosas\n",
    "### Alumno: Diego Emilio Moreno Sanchez"
   ]
  },
  {
   "cell_type": "markdown",
   "id": "4b597621-fa5a-4e86-8d5d-7fb3300e3ead",
   "metadata": {},
   "source": [
    "#### Práctica No. 5. Redes Neuronales"
   ]
  },
  {
   "cell_type": "code",
   "execution_count": 3,
   "id": "7fda508a-6bd4-47dc-93d0-1fd278f246f4",
   "metadata": {},
   "outputs": [],
   "source": [
    "import  os\n",
    "import pandas as pd\n",
    "import numpy as np\n",
    "import matplotlib.pyplot as plt\n",
    "from sklearn.model_selection import train_test_split\n",
    "from sklearn.neural_network import MLPClassifier # Multi Layer Perceptron Classifier\n",
    "from sklearn.metrics import confusion_matrix\n",
    "from pandas import DataFrame"
   ]
  },
  {
   "cell_type": "code",
   "execution_count": 4,
   "id": "5b61d06e-4cd8-44be-a659-7459758314ae",
   "metadata": {},
   "outputs": [
    {
     "name": "stdout",
     "output_type": "stream",
     "text": [
      "(150, 5)\n",
      "   s.largo  s.ancho  p.largo  p.ancho    tipo\n",
      "0      5.1      3.5      1.4      0.2  setosa\n",
      "1      4.9      3.0      1.4      0.2  setosa\n",
      "2      4.7      3.2      1.3      0.2  setosa\n",
      "3      4.6      3.1      1.5      0.2  setosa\n",
      "4      5.0      3.6      1.4      0.2  setosa\n"
     ]
    }
   ],
   "source": [
    "datos = pd.read_csv('iris.csv', delimiter=';', decimal='.')\n",
    "print(datos.shape)\n",
    "print(datos.head())"
   ]
  },
  {
   "cell_type": "markdown",
   "id": "bfc2332f-e796-44a0-9afe-297ac5a74321",
   "metadata": {},
   "source": [
    "#### Dejamos las variables predictoras en x"
   ]
  },
  {
   "cell_type": "code",
   "execution_count": 5,
   "id": "e2032fb7-63e5-43d8-8ecf-82dedababf01",
   "metadata": {},
   "outputs": [
    {
     "name": "stdout",
     "output_type": "stream",
     "text": [
      "   s.largo  s.ancho  p.largo  p.ancho\n",
      "0      5.1      3.5      1.4      0.2\n",
      "1      4.9      3.0      1.4      0.2\n",
      "2      4.7      3.2      1.3      0.2\n",
      "3      4.6      3.1      1.5      0.2\n",
      "4      5.0      3.6      1.4      0.2\n"
     ]
    }
   ],
   "source": [
    "x = datos.iloc[:, :4]\n",
    "print(x.head())"
   ]
  },
  {
   "cell_type": "markdown",
   "id": "8795e7a2-b634-4b4a-9a23-a0474b3ea987",
   "metadata": {},
   "source": [
    "#### Dejar la variable a predecir en y"
   ]
  },
  {
   "cell_type": "code",
   "execution_count": 7,
   "id": "5bac9aad-46e5-4c08-aed5-6eb92ddcc3df",
   "metadata": {},
   "outputs": [
    {
     "name": "stdout",
     "output_type": "stream",
     "text": [
      "     tipo\n",
      "0  setosa\n",
      "1  setosa\n",
      "2  setosa\n",
      "3  setosa\n",
      "4  setosa\n"
     ]
    }
   ],
   "source": [
    "y = datos.iloc[:, 4:5]\n",
    "print(y.head())"
   ]
  },
  {
   "cell_type": "markdown",
   "id": "11cb3460-b6b7-4679-b702-fafc41049c78",
   "metadata": {},
   "source": [
    "#### Separar datos 70% entrenamiento, 30% testing"
   ]
  },
  {
   "cell_type": "code",
   "execution_count": 8,
   "id": "d50686a7-6a8f-4a76-b4da-d1de0d5dc5af",
   "metadata": {},
   "outputs": [],
   "source": [
    "x_train, x_test, y_train, y_test = train_test_split(x, y, train_size = 0.7, random_state = 0)"
   ]
  },
  {
   "cell_type": "markdown",
   "id": "52a89c89-c246-41de-84cb-dba328550aad",
   "metadata": {},
   "source": [
    "#### Mediante el constructor inicializamos la red neuronal\n",
    "nota. Por defecto se usan 100 nodos en cada capa oculta, \"solver\" es el metodo de optimización (este nos ayudará para el gradiente descendente, hay muchos, como adam, stocastic, ...)"
   ]
  },
  {
   "cell_type": "code",
   "execution_count": null,
   "id": "7c84fdcb-b134-4ede-93c0-7cd3fc5d0dfa",
   "metadata": {},
   "outputs": [],
   "source": []
  }
 ],
 "metadata": {
  "kernelspec": {
   "display_name": "Python 3 (ipykernel)",
   "language": "python",
   "name": "python3"
  },
  "language_info": {
   "codemirror_mode": {
    "name": "ipython",
    "version": 3
   },
   "file_extension": ".py",
   "mimetype": "text/x-python",
   "name": "python",
   "nbconvert_exporter": "python",
   "pygments_lexer": "ipython3",
   "version": "3.11.6"
  }
 },
 "nbformat": 4,
 "nbformat_minor": 5
}
