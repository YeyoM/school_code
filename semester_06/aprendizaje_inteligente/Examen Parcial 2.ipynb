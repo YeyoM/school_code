{
 "cells": [
  {
   "cell_type": "markdown",
   "metadata": {},
   "source": [
    "# Scrapper (Webmining)"
   ]
  },
  {
   "cell_type": "markdown",
   "metadata": {},
   "source": [
    "#### Importamos las librerias necesarias"
   ]
  },
  {
   "cell_type": "code",
   "execution_count": null,
   "metadata": {},
   "outputs": [],
   "source": [
    "import pandas as pd\n",
    "from bs4 import BeautifulSoup\n",
    "from selenium import webdriver"
   ]
  },
  {
   "cell_type": "markdown",
   "metadata": {},
   "source": [
    "#### Esta función utiliza Selenium para cargar una página web en un navegador, simula desplazarse hacia abajo y hacia arriba en la página para cargar completamente el contenido dinámico, y luego devuelve el código HTML completo de la página."
   ]
  },
  {
   "cell_type": "code",
   "execution_count": null,
   "metadata": {},
   "outputs": [],
   "source": [
    "def get_html(url):\n",
    "    browser = webdriver.Firefox()\n",
    "    browser.get(url)\n",
    "\n",
    "    browser.implicitly_wait(10)\n",
    "\n",
    "    scroll_amount = 2000\n",
    "    current_height = browser.execute_script(\"return document.body.scrollHeight\")\n",
    "\n",
    "    max_counter = 0\n",
    "\n",
    "    while True:\n",
    "        browser.execute_script(f\"window.scrollTo(0, {current_height});\")\n",
    "        browser.execute_script(f\"window.scrollTo(0, {current_height - scroll_amount});\")\n",
    "        new_height = browser.execute_script(\"return document.body.scrollHeight\")\n",
    "        if new_height >= 20000:\n",
    "            break\n",
    "        current_height = new_height\n",
    "        max_counter += 1\n",
    "        if max_counter >= 5000:\n",
    "            break\n",
    "    html = browser.page_source\n",
    "    browser.quit()\n",
    "    return html"
   ]
  },
  {
   "cell_type": "markdown",
   "metadata": {},
   "source": [
    "#### Esta función analiza el HTML de una página web para extraer los comentarios de los usuarios junto con sus calificaciones asociadas, y los devuelve como una lista de tuplas."
   ]
  },
  {
   "cell_type": "code",
   "execution_count": null,
   "metadata": {},
   "outputs": [],
   "source": [
    "def get_comments(html):\n",
    "    soup = BeautifulSoup(html, \"html.parser\")\n",
    "    articles = soup.find_all(\"article\", class_=\"ui-review-capability-comments__comment\")\n",
    "\n",
    "    data = []\n",
    "\n",
    "    for article in articles:\n",
    "        rating_div = article.find(\n",
    "            \"div\", class_=\"ui-review-capability-comments__comment__rating\"\n",
    "        )\n",
    "        rating = rating_div.find(\"p\", class_=\"andes-visually-hidden\")\n",
    "        rating_info = rating.text.strip()\n",
    "\n",
    "        comment = article.find(\n",
    "            \"p\", class_=\"ui-review-capability-comments__comment__content\"\n",
    "        ).text.strip()\n",
    "\n",
    "        rating_info = rating_info.split(\" \")[1]\n",
    "\n",
    "        if int(rating_info) < 3:\n",
    "            rating_info = 0\n",
    "        else:\n",
    "            rating_info = 1\n",
    "\n",
    "        data.append((rating_info, comment))\n",
    "\n",
    "    return data"
   ]
  },
  {
   "cell_type": "markdown",
   "metadata": {},
   "source": [
    "#### Por útlimo, se utilizan las siguientes urls para obtener sus datos, una vez con esos datos completos se pasan a un archivo de excel usando pandas"
   ]
  },
  {
   "cell_type": "code",
   "execution_count": null,
   "metadata": {},
   "outputs": [],
   "source": [
    "urls = [\n",
    "        \"https://www.mercadolibre.com.mx/noindex/catalog/reviews/MLM19671372?noIndex=true&access=view_all&modal=true&controlled=true\",\n",
    "        \"https://articulo.mercadolibre.com.mx/noindex/catalog/reviews/MLM1385142136?noIndex=true&access=view_all&modal=true\",\n",
    "        \"https://articulo.mercadolibre.com.mx/noindex/catalog/reviews/MLM1453562130?noIndex=true&access=view_all&modal=true\",\n",
    "        \"https://articulo.mercadolibre.com.mx/noindex/catalog/reviews/MLM1310553268?noIndex=true&access=view_all&modal=true\",\n",
    "        \"https://articulo.mercadolibre.com.mx/noindex/catalog/reviews/MLM1529227728?noIndex=true&access=view_all&modal=true\",\n",
    "        \"https://articulo.mercadolibre.com.mx/noindex/catalog/reviews/MLM2413812916?noIndex=true&access=view_all&modal=true\",\n",
    "        \"https://articulo.mercadolibre.com.mx/noindex/catalog/reviews/MLM1483602610?noIndex=true&access=view_all&modal=true\",\n",
    "        \"https://www.mercadolibre.com.mx/noindex/catalog/reviews/MLM26374823?noIndex=true&access=view_all&modal=true&controlled=true\",\n",
    "        \"https://articulo.mercadolibre.com.mx/noindex/catalog/reviews/MLM1595869350?noIndex=true&access=view_all&modal=true\",\n",
    "        \"https://articulo.mercadolibre.com.mx/noindex/catalog/reviews/MLM1436939565?noIndex=true&access=view_all&modal=true\",\n",
    "        \"https://articulo.mercadolibre.com.mx/noindex/catalog/reviews/MLM1918786987?noIndex=true&access=view_all&modal=true\",\n",
    "        \"https://www.mercadolibre.com.mx/noindex/catalog/reviews/MLM23718286?noIndex=true&access=view_all&modal=true&controlled=true\",\n",
    "        \"https://www.mercadolibre.com.mx/noindex/catalog/reviews/MLM27953242?noIndex=true&access=view_all&modal=true&controlled=true\",\n",
    "        \"https://articulo.mercadolibre.com.mx/noindex/catalog/reviews/MLM1423798166?noIndex=true&access=view_all&modal=true\",\n",
    "        \"https://articulo.mercadolibre.com.mx/noindex/catalog/reviews/MLM1458795279?noIndex=true&access=view_all&modal=true\",\n",
    "        \"https://www.mercadolibre.com.mx/noindex/catalog/reviews/MLM15567959?noIndex=true&access=view_all&modal=true&controlled=true\",\n",
    "        \"https://www.mercadolibre.com.mx/noindex/catalog/reviews/MLM23537280?noIndex=true&access=view_all&modal=true&controlled=true\",\n",
    "        \"https://www.mercadolibre.com.mx/noindex/catalog/reviews/MLM25929225?noIndex=true&access=view_all&modal=true&controlled=true\",\n",
    "        \"https://www.mercadolibre.com.mx/noindex/catalog/reviews/MLM27144027?noIndex=true&access=view_all&modal=true&controlled=true\",\n",
    "        \"https://articulo.mercadolibre.com.mx/noindex/catalog/reviews/MLM1958181837?noIndex=true&access=view_all&modal=true\",\n",
    "        \"https://articulo.mercadolibre.com.mx/noindex/catalog/reviews/MLM2041772158?noIndex=true&access=view_all&modal=true\",\n",
    "    ]\n",
    "\n",
    "data_list = []\n",
    "\n",
    "for url in urls:\n",
    "    html = get_html(url)\n",
    "    data = get_comments(html)\n",
    "    data_list.extend(data)\n",
    "\n",
    "print(data_list)\n",
    "df = pd.DataFrame(data_list, columns=[\"rating\", \"comment\"])\n",
    "df.to_csv(\"comments.csv\", index=False)"
   ]
  },
  {
   "cell_type": "markdown",
   "metadata": {},
   "source": [
    "# MODELO BAYES"
   ]
  },
  {
   "cell_type": "markdown",
   "metadata": {},
   "source": [
    "#### Importamos las librerias necesarias"
   ]
  },
  {
   "cell_type": "code",
   "execution_count": 76,
   "metadata": {},
   "outputs": [],
   "source": [
    "import nltk\n",
    "from nltk.tokenize import word_tokenize\n",
    "from nltk.corpus import stopwords\n",
    "import pandas as pd\n",
    "from collections import Counter\n",
    "from sklearn.model_selection import train_test_split\n",
    "from sklearn.metrics import confusion_matrix, classification_report\n",
    "from sklearn import svm\n",
    "import itertools\n",
    "import matplotlib.pyplot as plt\n",
    "import numpy as np\n",
    "from sklearn.neural_network import MLPClassifier\n",
    "import seaborn as sns"
   ]
  },
  {
   "cell_type": "markdown",
   "metadata": {},
   "source": [
    "#### Creamos nuestras variables globales"
   ]
  },
  {
   "cell_type": "code",
   "execution_count": 77,
   "metadata": {},
   "outputs": [],
   "source": [
    "global PROHIBIDAS\n",
    "PROHIBIDAS = [\"\"]\n",
    "global ARCHIVO\n",
    "ARCHIVO = \"comments.csv\"\n",
    "global DATASET\n",
    "DATASET = pd.read_csv(ARCHIVO)\n"
   ]
  },
  {
   "cell_type": "markdown",
   "metadata": {},
   "source": [
    "# Naive Bayes"
   ]
  },
  {
   "cell_type": "markdown",
   "metadata": {},
   "source": [
    "#### El calculo de probabilidades iniciales para el modelo de Naive bayes, dividiendo la cantidad de Reviews negativas/positivas sobre la cantidad de reviews totales"
   ]
  },
  {
   "cell_type": "code",
   "execution_count": 78,
   "metadata": {},
   "outputs": [],
   "source": [
    "def Probabilidades_Iniciales(dataset):\n",
    "    Numero_Reviews_Positivas = 0\n",
    "    Numero_Reviews_Negativas = 0\n",
    "    for i in range(len(dataset)):\n",
    "        if dataset[\"comment\"].iloc[i] != \"\":\n",
    "            if dataset[\"rating\"].iloc[i] == 1:\n",
    "                Numero_Reviews_Positivas += 1\n",
    "            if dataset[\"rating\"].iloc[i] == 0:\n",
    "                Numero_Reviews_Negativas += 1\n",
    "    Probabilaidad_Negativa = Numero_Reviews_Negativas/len(dataset)\n",
    "    Probabilidad_Positiva = Numero_Reviews_Positivas/len(dataset)\n",
    "    return Probabilaidad_Negativa, Probabilidad_Positiva\n"
   ]
  },
  {
   "cell_type": "markdown",
   "metadata": {},
   "source": [
    "#### Separamos Las palabras de las reviews negativas y las palabras de las reviews positivas"
   ]
  },
  {
   "cell_type": "code",
   "execution_count": 79,
   "metadata": {},
   "outputs": [],
   "source": [
    "def Vectores_Palabras(dataset):\n",
    "    Palabras_Positivas = []\n",
    "    Palabras_Negativas = []\n",
    "    Largo = len(dataset)\n",
    "    for i in range(Largo):\n",
    "        if dataset[\"comment\"].iloc[i] != \"\": \n",
    "            if dataset[\"rating\"].iloc[i] == 1 : \n",
    "                Palabras_Positivas.append(dataset[\"comment\"].iloc[i])\n",
    "            if dataset[\"rating\"].iloc[i] == 0: \n",
    "                Palabras_Negativas.append(dataset[\"comment\"].iloc[i])\n",
    "    return Palabras_Positivas, Palabras_Negativas"
   ]
  },
  {
   "cell_type": "markdown",
   "metadata": {},
   "source": [
    "#### Filtramos las palabras quitando las 'stopwords', verificando que no esten prohibidas y quitando aquellas que no sean palabras"
   ]
  },
  {
   "cell_type": "code",
   "execution_count": 80,
   "metadata": {},
   "outputs": [],
   "source": [
    "def Filtar_Palabras(Palabras):\n",
    "    Palabras_Filtradas = []\n",
    "    for review in Palabras:\n",
    "        if isinstance(review, str):  # Check if the element is a string\n",
    "            tokens = word_tokenize(review)\n",
    "            stopwords_ingles = set(stopwords.words('spanish'))\n",
    "            Palabras_Filtradas.extend([Palabra.lower() for Palabra in tokens\n",
    "                                        if Palabra.isalpha() and Palabra.lower()\n",
    "                                        not in stopwords_ingles and Palabra.lower() not in PROHIBIDAS])\n",
    "    return Palabras_Filtradas\n"
   ]
  },
  {
   "cell_type": "markdown",
   "metadata": {},
   "source": [
    "#### Calculamos las probabilidades de aparecer verificando las veces que esa palabra aparece sobre la cantidad de palabraas en el banco de palabras que se seleccione. A la probabilidad se le suma 1 ya que si es 0 afectaria los resultados"
   ]
  },
  {
   "cell_type": "code",
   "execution_count": 81,
   "metadata": {},
   "outputs": [],
   "source": [
    "def Probabilidad_Palabra(Palabra, Review):\n",
    "    Probabilidad_Palabra = (Review.count(Palabra)+1) / len(Review)\n",
    "    return Probabilidad_Palabra"
   ]
  },
  {
   "cell_type": "markdown",
   "metadata": {},
   "source": [
    "#### Calculamos las palabras mas frecuentemente utilizadas"
   ]
  },
  {
   "cell_type": "code",
   "execution_count": 82,
   "metadata": {},
   "outputs": [],
   "source": [
    "#Funcion para obtener la frecuencia de las palabras en las reviews\n",
    "def Frecuencia_Palabras(Palabras):\n",
    "    Frecuencia = Counter(Palabras)\n",
    "    print(Frecuencia.most_common(10))\n",
    "    return Frecuencia\n"
   ]
  },
  {
   "cell_type": "markdown",
   "metadata": {},
   "source": [
    "#### La idea básica detrás del algoritmo de Naive Bayes es calcular la probabilidad de que una instancia pertenezca a una clase particular basada en la evidencia proporcionada por sus características. En el caso de un clasificador de texto, las características son las palabras en el texto y las clases son las categorías a las que puede pertenecer el texto "
   ]
  },
  {
   "cell_type": "code",
   "execution_count": 83,
   "metadata": {},
   "outputs": [],
   "source": [
    "def Naive_Bayes(Review, Palabras):\n",
    "    Probabilidad = 1\n",
    "    if not isinstance(Review, str):\n",
    "        Review = str(Review)\n",
    "    Review_Token = word_tokenize(Review)\n",
    "    for Palabra in Review_Token:\n",
    "        if Palabra not in Palabras:\n",
    "            Probabilidad = Probabilidad * 1.\n",
    "        else:\n",
    "            Probabilidad = Probabilidad + Probabilidad_Palabra(Palabra, Palabras)\n",
    "    return Probabilidad"
   ]
  },
  {
   "cell_type": "markdown",
   "metadata": {},
   "source": [
    "#### Empezamos a probar nuestro modelo, multiplicamos la probabilidad de aparecer dentro de cada categoria, y lo multiplicamos por su respectiva posibilidad de que una reviews sea positiva o negativa, regresamos el valor que sea mayor"
   ]
  },
  {
   "cell_type": "code",
   "execution_count": 84,
   "metadata": {},
   "outputs": [],
   "source": [
    "def Pruebas(Palabras_Positivas, Palabras_Negativas,Review_Prueba,dataset):\n",
    "    Probabilidad_Inicial_Negativa, Probabilidad_Inicial_Positiva = Probabilidades_Iniciales(dataset)\n",
    "    Probabilidad_De_Ser_Positiva = Naive_Bayes(Review_Prueba, Palabras_Positivas)\n",
    "    Probabilidad_De_Ser_Positiva *= Probabilidad_Inicial_Positiva\n",
    "    Probabilidad_De_Ser_Negativa = Naive_Bayes(Review_Prueba, Palabras_Negativas)\n",
    "    Probabilidad_De_Ser_Negativa *= Probabilidad_Inicial_Negativa\n",
    "    Resultado = 0\n",
    "    if Probabilidad_De_Ser_Positiva > Probabilidad_De_Ser_Negativa:\n",
    "        Resultado = 1\n",
    "    if Probabilidad_De_Ser_Positiva and Probabilidad_De_Ser_Negativa == 0:\n",
    "        Resultado = -1\n",
    "    if Resultado == 0:\n",
    "        print(Probabilidad_De_Ser_Negativa, Probabilidad_De_Ser_Positiva)\n",
    "    return Resultado"
   ]
  },
  {
   "cell_type": "markdown",
   "metadata": {},
   "source": [
    "#### Creamos la matriz de confusion y su respectiva grafica, tomando los datos predecidos de nuestro dataset de testeo"
   ]
  },
  {
   "cell_type": "code",
   "execution_count": 85,
   "metadata": {},
   "outputs": [],
   "source": [
    "\n",
    "def Matriz_Confusion(dataset, Palabras_Positivas, Palabras_Negativas):\n",
    "    y_true = []\n",
    "    y_pred = []\n",
    "    for i in range(len(dataset)):\n",
    "        if dataset[\"comment\"].iloc[i] != \"\":\n",
    "            if dataset[\"rating\"].iloc[i] == 1:\n",
    "                y_true.append(1)\n",
    "            if dataset[\"rating\"].iloc[i] == 0:\n",
    "                y_true.append(0)\n",
    "        if Pruebas(Palabras_Positivas, Palabras_Negativas, dataset[\"comment\"].iloc[i], dataset) == 1:\n",
    "            y_pred.append(1)\n",
    "        if Pruebas(Palabras_Positivas, Palabras_Negativas, dataset[\"comment\"].iloc[i], dataset) == 0:\n",
    "            y_pred.append(0)\n",
    "            print(\"Comentario\")\n",
    "            print(dataset[\"comment\"].iloc[i] + \"\\n\")\n",
    "\n",
    "    cm = confusion_matrix(y_true, y_pred)\n",
    "    tn, fp, fn, tp = cm.ravel()\n",
    "\n",
    "    precision = (tp + tn) / (tp + tn + fp + fn)\n",
    "    false_positive_rate = fp / (tn + fp)\n",
    "    false_negative_rate = fn / (fn + tp)\n",
    "    error_rate = 1 - precision\n",
    "    positive_predictive_value = tp / (fp + tp)\n",
    "    negative_predictive_value = tn / (tn + fn) if tn + fn != 0 else 0\n",
    "\n",
    "    tabla = pd.DataFrame(data=[[precision], [error_rate], [false_positive_rate], [false_negative_rate], \n",
    "                                [positive_predictive_value], [negative_predictive_value]],\n",
    "                         index=[\"Presicion\", \"Error\", \"Falsos Positivos\", \"Falsos Negativos\",\n",
    "                                \"Acertividad Positiva\", \"Acertividad Negativa\"], columns=[\"Valor\"])\n",
    "    print(tabla)\n",
    "\n",
    "    plt.figure(figsize=(8, 6))\n",
    "    sns.heatmap(cm, annot=True, fmt=\"d\", cmap=\"Blues\", annot_kws={\"size\": 16})\n",
    "    plt.xlabel(\"Etiquetas Predichas\")\n",
    "    plt.ylabel(\"Etiquetas Verdaderas\")\n",
    "    plt.title(\"Matriz de Confusión\")\n",
    "    plt.show()\n",
    "\n",
    "    return precision, false_positive_rate, false_negative_rate, error_rate, positive_predictive_value, negative_predictive_value\n"
   ]
  },
  {
   "cell_type": "markdown",
   "metadata": {},
   "source": [
    "#### Creamos nuestra funcion main para llamar cada una de nuestras otras funciones"
   ]
  },
  {
   "cell_type": "code",
   "execution_count": 86,
   "metadata": {},
   "outputs": [],
   "source": [
    "def main():\n",
    "    df_train, df_test = train_test_split(DATASET, test_size=0.2, random_state=0)\n",
    "\n",
    "    Palabras_Positivas_train, Palabras_Negativas_train = Vectores_Palabras(df_train)\n",
    "\n",
    "    Palabras_Positivas_train = Filtar_Palabras(Palabras_Positivas_train)\n",
    "    Palabras_Negativas_train = Filtar_Palabras(Palabras_Negativas_train)\n",
    "    print()\n",
    "    print('Palabras mas frecuentes en reviews positivas')\n",
    "    Frecuencia_Palabras(Palabras_Positivas_train)\n",
    "    print('Palabras mas frecuentes en reviews negativas')\n",
    "    Frecuencia_Palabras(Palabras_Negativas_train)\n",
    "    print()\n",
    "    PrecisionB, FPBayes, FNBayes, ErrorBayes, APBayes, ANBayes = Matriz_Confusion(df_test, Palabras_Positivas_train, Palabras_Negativas_train)\n",
    "    return PrecisionB, FPBayes, FNBayes, ErrorBayes, APBayes, ANBayes   \n",
    "\n",
    "\n"
   ]
  },
  {
   "cell_type": "code",
   "execution_count": 87,
   "metadata": {},
   "outputs": [
    {
     "data": {
      "text/html": [
       "<div>\n",
       "<style scoped>\n",
       "    .dataframe tbody tr th:only-of-type {\n",
       "        vertical-align: middle;\n",
       "    }\n",
       "\n",
       "    .dataframe tbody tr th {\n",
       "        vertical-align: top;\n",
       "    }\n",
       "\n",
       "    .dataframe thead th {\n",
       "        text-align: right;\n",
       "    }\n",
       "</style>\n",
       "<table border=\"1\" class=\"dataframe\">\n",
       "  <thead>\n",
       "    <tr style=\"text-align: right;\">\n",
       "      <th></th>\n",
       "      <th>rating</th>\n",
       "      <th>comment</th>\n",
       "    </tr>\n",
       "  </thead>\n",
       "  <tbody>\n",
       "    <tr>\n",
       "      <th>0</th>\n",
       "      <td>1</td>\n",
       "      <td>Lo compre hace una semana cuando estaba con 10...</td>\n",
       "    </tr>\n",
       "    <tr>\n",
       "      <th>1</th>\n",
       "      <td>1</td>\n",
       "      <td>Lo compré apenas el 23 mayo 23 me encantó el p...</td>\n",
       "    </tr>\n",
       "    <tr>\n",
       "      <th>2</th>\n",
       "      <td>1</td>\n",
       "      <td>El producto asta el momento me a funcionado bi...</td>\n",
       "    </tr>\n",
       "    <tr>\n",
       "      <th>3</th>\n",
       "      <td>1</td>\n",
       "      <td>Me pareció excelente calidad precio por ahora ...</td>\n",
       "    </tr>\n",
       "    <tr>\n",
       "      <th>4</th>\n",
       "      <td>1</td>\n",
       "      <td>8gb de ram + 3gb virtuales, 256gb de almacenam...</td>\n",
       "    </tr>\n",
       "  </tbody>\n",
       "</table>\n",
       "</div>"
      ],
      "text/plain": [
       "   rating                                            comment\n",
       "0       1  Lo compre hace una semana cuando estaba con 10...\n",
       "1       1  Lo compré apenas el 23 mayo 23 me encantó el p...\n",
       "2       1  El producto asta el momento me a funcionado bi...\n",
       "3       1  Me pareció excelente calidad precio por ahora ...\n",
       "4       1  8gb de ram + 3gb virtuales, 256gb de almacenam..."
      ]
     },
     "execution_count": 87,
     "metadata": {},
     "output_type": "execute_result"
    }
   ],
   "source": [
    "DATASET.head()"
   ]
  },
  {
   "cell_type": "code",
   "execution_count": 88,
   "metadata": {},
   "outputs": [
    {
     "name": "stdout",
     "output_type": "stream",
     "text": [
      "\n",
      "Palabras mas frecuentes en reviews positivas\n",
      "[('excelente', 333), ('bien', 324), ('producto', 310), ('calidad', 272), ('buena', 247), ('precio', 234), ('buen', 220), ('si', 153), ('fácil', 144), ('recomiendo', 126)]\n",
      "Palabras mas frecuentes en reviews negativas\n",
      "[('calidad', 33), ('producto', 32), ('agua', 26), ('bien', 25), ('mala', 22), ('si', 22), ('solo', 21), ('malo', 18), ('plástico', 15), ('verdad', 13)]\n",
      "\n",
      "                         Valor\n",
      "Presicion             0.862745\n",
      "Error                 0.137255\n",
      "Falsos Positivos      1.000000\n",
      "Falsos Negativos      0.000000\n",
      "Acertividad Positiva  0.862745\n",
      "Acertividad Negativa  0.000000\n"
     ]
    },
    {
     "data": {
      "image/png": "[encoded data removed]",
      "text/plain": [
       "<Figure size 800x600 with 2 Axes>"
      ]
     },
     "metadata": {},
     "output_type": "display_data"
    }
   ],
   "source": [
    "PrecisionB, FPBayes, FNBayes, ErrorBayes, APBayes, ANBayes = main()"
   ]
  },
  {
   "cell_type": "markdown",
   "metadata": {},
   "source": [
    "# Modelo SVM"
   ]
  },
  {
   "cell_type": "code",
   "execution_count": 89,
   "metadata": {},
   "outputs": [
    {
     "data": {
      "text/html": [
       "<div>\n",
       "<style scoped>\n",
       "    .dataframe tbody tr th:only-of-type {\n",
       "        vertical-align: middle;\n",
       "    }\n",
       "\n",
       "    .dataframe tbody tr th {\n",
       "        vertical-align: top;\n",
       "    }\n",
       "\n",
       "    .dataframe thead th {\n",
       "        text-align: right;\n",
       "    }\n",
       "</style>\n",
       "<table border=\"1\" class=\"dataframe\">\n",
       "  <thead>\n",
       "    <tr style=\"text-align: right;\">\n",
       "      <th></th>\n",
       "      <th>rating</th>\n",
       "      <th>comment</th>\n",
       "    </tr>\n",
       "  </thead>\n",
       "  <tbody>\n",
       "    <tr>\n",
       "      <th>0</th>\n",
       "      <td>1</td>\n",
       "      <td>Lo compre hace una semana cuando estaba con 10...</td>\n",
       "    </tr>\n",
       "    <tr>\n",
       "      <th>1</th>\n",
       "      <td>1</td>\n",
       "      <td>Lo compré apenas el 23 mayo 23 me encantó el p...</td>\n",
       "    </tr>\n",
       "    <tr>\n",
       "      <th>2</th>\n",
       "      <td>1</td>\n",
       "      <td>El producto asta el momento me a funcionado bi...</td>\n",
       "    </tr>\n",
       "    <tr>\n",
       "      <th>3</th>\n",
       "      <td>1</td>\n",
       "      <td>Me pareció excelente calidad precio por ahora ...</td>\n",
       "    </tr>\n",
       "    <tr>\n",
       "      <th>4</th>\n",
       "      <td>1</td>\n",
       "      <td>8gb de ram + 3gb virtuales, 256gb de almacenam...</td>\n",
       "    </tr>\n",
       "  </tbody>\n",
       "</table>\n",
       "</div>"
      ],
      "text/plain": [
       "   rating                                            comment\n",
       "0       1  Lo compre hace una semana cuando estaba con 10...\n",
       "1       1  Lo compré apenas el 23 mayo 23 me encantó el p...\n",
       "2       1  El producto asta el momento me a funcionado bi...\n",
       "3       1  Me pareció excelente calidad precio por ahora ...\n",
       "4       1  8gb de ram + 3gb virtuales, 256gb de almacenam..."
      ]
     },
     "execution_count": 89,
     "metadata": {},
     "output_type": "execute_result"
    }
   ],
   "source": [
    "DATASET.head()"
   ]
  },
  {
   "cell_type": "markdown",
   "metadata": {},
   "source": [
    "#### Divimos el dataset en entrenamiento y prueba"
   ]
  },
  {
   "cell_type": "code",
   "execution_count": 90,
   "metadata": {},
   "outputs": [
    {
     "name": "stdout",
     "output_type": "stream",
     "text": [
      "[('excelente', 333), ('bien', 324), ('producto', 310), ('calidad', 272), ('buena', 247), ('precio', 234), ('buen', 220), ('si', 153), ('fácil', 144), ('recomiendo', 126)]\n"
     ]
    },
    {
     "data": {
      "text/html": [
       "<style>#sk-container-id-3 {\n",
       "  /* Definition of color scheme common for light and dark mode */\n",
       "  --sklearn-color-text: black;\n",
       "  --sklearn-color-line: gray;\n",
       "  /* Definition of color scheme for unfitted estimators */\n",
       "  --sklearn-color-unfitted-level-0: #fff5e6;\n",
       "  --sklearn-color-unfitted-level-1: #f6e4d2;\n",
       "  --sklearn-color-unfitted-level-2: #ffe0b3;\n",
       "  --sklearn-color-unfitted-level-3: chocolate;\n",
       "  /* Definition of color scheme for fitted estimators */\n",
       "  --sklearn-color-fitted-level-0: #f0f8ff;\n",
       "  --sklearn-color-fitted-level-1: #d4ebff;\n",
       "  --sklearn-color-fitted-level-2: #b3dbfd;\n",
       "  --sklearn-color-fitted-level-3: cornflowerblue;\n",
       "\n",
       "  /* Specific color for light theme */\n",
       "  --sklearn-color-text-on-default-background: var(--sg-text-color, var(--theme-code-foreground, var(--jp-content-font-color1, black)));\n",
       "  --sklearn-color-background: var(--sg-background-color, var(--theme-background, var(--jp-layout-color0, white)));\n",
       "  --sklearn-color-border-box: var(--sg-text-color, var(--theme-code-foreground, var(--jp-content-font-color1, black)));\n",
       "  --sklearn-color-icon: #696969;\n",
       "\n",
       "  @media (prefers-color-scheme: dark) {\n",
       "    /* Redefinition of color scheme for dark theme */\n",
       "    --sklearn-color-text-on-default-background: var(--sg-text-color, var(--theme-code-foreground, var(--jp-content-font-color1, white)));\n",
       "    --sklearn-color-background: var(--sg-background-color, var(--theme-background, var(--jp-layout-color0, #111)));\n",
       "    --sklearn-color-border-box: var(--sg-text-color, var(--theme-code-foreground, var(--jp-content-font-color1, white)));\n",
       "    --sklearn-color-icon: #878787;\n",
       "  }\n",
       "}\n",
       "\n",
       "#sk-container-id-3 {\n",
       "  color: var(--sklearn-color-text);\n",
       "}\n",
       "\n",
       "#sk-container-id-3 pre {\n",
       "  padding: 0;\n",
       "}\n",
       "\n",
       "#sk-container-id-3 input.sk-hidden--visually {\n",
       "  border: 0;\n",
       "  clip: rect(1px 1px 1px 1px);\n",
       "  clip: rect(1px, 1px, 1px, 1px);\n",
       "  height: 1px;\n",
       "  margin: -1px;\n",
       "  overflow: hidden;\n",
       "  padding: 0;\n",
       "  position: absolute;\n",
       "  width: 1px;\n",
       "}\n",
       "\n",
       "#sk-container-id-3 div.sk-dashed-wrapped {\n",
       "  border: 1px dashed var(--sklearn-color-line);\n",
       "  margin: 0 0.4em 0.5em 0.4em;\n",
       "  box-sizing: border-box;\n",
       "  padding-bottom: 0.4em;\n",
       "  background-color: var(--sklearn-color-background);\n",
       "}\n",
       "\n",
       "#sk-container-id-3 div.sk-container {\n",
       "  /* jupyter's `normalize.less` sets `[hidden] { display: none; }`\n",
       "     but bootstrap.min.css set `[hidden] { display: none !important; }`\n",
       "     so we also need the `!important` here to be able to override the\n",
       "     default hidden behavior on the sphinx rendered scikit-learn.org.\n",
       "     See: https://github.com/scikit-learn/scikit-learn/issues/21755 */\n",
       "  display: inline-block !important;\n",
       "  position: relative;\n",
       "}\n",
       "\n",
       "#sk-container-id-3 div.sk-text-repr-fallback {\n",
       "  display: none;\n",
       "}\n",
       "\n",
       "div.sk-parallel-item,\n",
       "div.sk-serial,\n",
       "div.sk-item {\n",
       "  /* draw centered vertical line to link estimators */\n",
       "  background-image: linear-gradient(var(--sklearn-color-text-on-default-background), var(--sklearn-color-text-on-default-background));\n",
       "  background-size: 2px 100%;\n",
       "  background-repeat: no-repeat;\n",
       "  background-position: center center;\n",
       "}\n",
       "\n",
       "/* Parallel-specific style estimator block */\n",
       "\n",
       "#sk-container-id-3 div.sk-parallel-item::after {\n",
       "  content: \"\";\n",
       "  width: 100%;\n",
       "  border-bottom: 2px solid var(--sklearn-color-text-on-default-background);\n",
       "  flex-grow: 1;\n",
       "}\n",
       "\n",
       "#sk-container-id-3 div.sk-parallel {\n",
       "  display: flex;\n",
       "  align-items: stretch;\n",
       "  justify-content: center;\n",
       "  background-color: var(--sklearn-color-background);\n",
       "  position: relative;\n",
       "}\n",
       "\n",
       "#sk-container-id-3 div.sk-parallel-item {\n",
       "  display: flex;\n",
       "  flex-direction: column;\n",
       "}\n",
       "\n",
       "#sk-container-id-3 div.sk-parallel-item:first-child::after {\n",
       "  align-self: flex-end;\n",
       "  width: 50%;\n",
       "}\n",
       "\n",
       "#sk-container-id-3 div.sk-parallel-item:last-child::after {\n",
       "  align-self: flex-start;\n",
       "  width: 50%;\n",
       "}\n",
       "\n",
       "#sk-container-id-3 div.sk-parallel-item:only-child::after {\n",
       "  width: 0;\n",
       "}\n",
       "\n",
       "/* Serial-specific style estimator block */\n",
       "\n",
       "#sk-container-id-3 div.sk-serial {\n",
       "  display: flex;\n",
       "  flex-direction: column;\n",
       "  align-items: center;\n",
       "  background-color: var(--sklearn-color-background);\n",
       "  padding-right: 1em;\n",
       "  padding-left: 1em;\n",
       "}\n",
       "\n",
       "\n",
       "/* Toggleable style: style used for estimator/Pipeline/ColumnTransformer box that is\n",
       "clickable and can be expanded/collapsed.\n",
       "- Pipeline and ColumnTransformer use this feature and define the default style\n",
       "- Estimators will overwrite some part of the style using the `sk-estimator` class\n",
       "*/\n",
       "\n",
       "/* Pipeline and ColumnTransformer style (default) */\n",
       "\n",
       "#sk-container-id-3 div.sk-toggleable {\n",
       "  /* Default theme specific background. It is overwritten whether we have a\n",
       "  specific estimator or a Pipeline/ColumnTransformer */\n",
       "  background-color: var(--sklearn-color-background);\n",
       "}\n",
       "\n",
       "/* Toggleable label */\n",
       "#sk-container-id-3 label.sk-toggleable__label {\n",
       "  cursor: pointer;\n",
       "  display: block;\n",
       "  width: 100%;\n",
       "  margin-bottom: 0;\n",
       "  padding: 0.5em;\n",
       "  box-sizing: border-box;\n",
       "  text-align: center;\n",
       "}\n",
       "\n",
       "#sk-container-id-3 label.sk-toggleable__label-arrow:before {\n",
       "  /* Arrow on the left of the label */\n",
       "  content: \"▸\";\n",
       "  float: left;\n",
       "  margin-right: 0.25em;\n",
       "  color: var(--sklearn-color-icon);\n",
       "}\n",
       "\n",
       "#sk-container-id-3 label.sk-toggleable__label-arrow:hover:before {\n",
       "  color: var(--sklearn-color-text);\n",
       "}\n",
       "\n",
       "/* Toggleable content - dropdown */\n",
       "\n",
       "#sk-container-id-3 div.sk-toggleable__content {\n",
       "  max-height: 0;\n",
       "  max-width: 0;\n",
       "  overflow: hidden;\n",
       "  text-align: left;\n",
       "  /* unfitted */\n",
       "  background-color: var(--sklearn-color-unfitted-level-0);\n",
       "}\n",
       "\n",
       "#sk-container-id-3 div.sk-toggleable__content.fitted {\n",
       "  /* fitted */\n",
       "  background-color: var(--sklearn-color-fitted-level-0);\n",
       "}\n",
       "\n",
       "#sk-container-id-3 div.sk-toggleable__content pre {\n",
       "  margin: 0.2em;\n",
       "  border-radius: 0.25em;\n",
       "  color: var(--sklearn-color-text);\n",
       "  /* unfitted */\n",
       "  background-color: var(--sklearn-color-unfitted-level-0);\n",
       "}\n",
       "\n",
       "#sk-container-id-3 div.sk-toggleable__content.fitted pre {\n",
       "  /* unfitted */\n",
       "  background-color: var(--sklearn-color-fitted-level-0);\n",
       "}\n",
       "\n",
       "#sk-container-id-3 input.sk-toggleable__control:checked~div.sk-toggleable__content {\n",
       "  /* Expand drop-down */\n",
       "  max-height: 200px;\n",
       "  max-width: 100%;\n",
       "  overflow: auto;\n",
       "}\n",
       "\n",
       "#sk-container-id-3 input.sk-toggleable__control:checked~label.sk-toggleable__label-arrow:before {\n",
       "  content: \"▾\";\n",
       "}\n",
       "\n",
       "/* Pipeline/ColumnTransformer-specific style */\n",
       "\n",
       "#sk-container-id-3 div.sk-label input.sk-toggleable__control:checked~label.sk-toggleable__label {\n",
       "  color: var(--sklearn-color-text);\n",
       "  background-color: var(--sklearn-color-unfitted-level-2);\n",
       "}\n",
       "\n",
       "#sk-container-id-3 div.sk-label.fitted input.sk-toggleable__control:checked~label.sk-toggleable__label {\n",
       "  background-color: var(--sklearn-color-fitted-level-2);\n",
       "}\n",
       "\n",
       "/* Estimator-specific style */\n",
       "\n",
       "/* Colorize estimator box */\n",
       "#sk-container-id-3 div.sk-estimator input.sk-toggleable__control:checked~label.sk-toggleable__label {\n",
       "  /* unfitted */\n",
       "  background-color: var(--sklearn-color-unfitted-level-2);\n",
       "}\n",
       "\n",
       "#sk-container-id-3 div.sk-estimator.fitted input.sk-toggleable__control:checked~label.sk-toggleable__label {\n",
       "  /* fitted */\n",
       "  background-color: var(--sklearn-color-fitted-level-2);\n",
       "}\n",
       "\n",
       "#sk-container-id-3 div.sk-label label.sk-toggleable__label,\n",
       "#sk-container-id-3 div.sk-label label {\n",
       "  /* The background is the default theme color */\n",
       "  color: var(--sklearn-color-text-on-default-background);\n",
       "}\n",
       "\n",
       "/* On hover, darken the color of the background */\n",
       "#sk-container-id-3 div.sk-label:hover label.sk-toggleable__label {\n",
       "  color: var(--sklearn-color-text);\n",
       "  background-color: var(--sklearn-color-unfitted-level-2);\n",
       "}\n",
       "\n",
       "/* Label box, darken color on hover, fitted */\n",
       "#sk-container-id-3 div.sk-label.fitted:hover label.sk-toggleable__label.fitted {\n",
       "  color: var(--sklearn-color-text);\n",
       "  background-color: var(--sklearn-color-fitted-level-2);\n",
       "}\n",
       "\n",
       "/* Estimator label */\n",
       "\n",
       "#sk-container-id-3 div.sk-label label {\n",
       "  font-family: monospace;\n",
       "  font-weight: bold;\n",
       "  display: inline-block;\n",
       "  line-height: 1.2em;\n",
       "}\n",
       "\n",
       "#sk-container-id-3 div.sk-label-container {\n",
       "  text-align: center;\n",
       "}\n",
       "\n",
       "/* Estimator-specific */\n",
       "#sk-container-id-3 div.sk-estimator {\n",
       "  font-family: monospace;\n",
       "  border: 1px dotted var(--sklearn-color-border-box);\n",
       "  border-radius: 0.25em;\n",
       "  box-sizing: border-box;\n",
       "  margin-bottom: 0.5em;\n",
       "  /* unfitted */\n",
       "  background-color: var(--sklearn-color-unfitted-level-0);\n",
       "}\n",
       "\n",
       "#sk-container-id-3 div.sk-estimator.fitted {\n",
       "  /* fitted */\n",
       "  background-color: var(--sklearn-color-fitted-level-0);\n",
       "}\n",
       "\n",
       "/* on hover */\n",
       "#sk-container-id-3 div.sk-estimator:hover {\n",
       "  /* unfitted */\n",
       "  background-color: var(--sklearn-color-unfitted-level-2);\n",
       "}\n",
       "\n",
       "#sk-container-id-3 div.sk-estimator.fitted:hover {\n",
       "  /* fitted */\n",
       "  background-color: var(--sklearn-color-fitted-level-2);\n",
       "}\n",
       "\n",
       "/* Specification for estimator info (e.g. \"i\" and \"?\") */\n",
       "\n",
       "/* Common style for \"i\" and \"?\" */\n",
       "\n",
       ".sk-estimator-doc-link,\n",
       "a:link.sk-estimator-doc-link,\n",
       "a:visited.sk-estimator-doc-link {\n",
       "  float: right;\n",
       "  font-size: smaller;\n",
       "  line-height: 1em;\n",
       "  font-family: monospace;\n",
       "  background-color: var(--sklearn-color-background);\n",
       "  border-radius: 1em;\n",
       "  height: 1em;\n",
       "  width: 1em;\n",
       "  text-decoration: none !important;\n",
       "  margin-left: 1ex;\n",
       "  /* unfitted */\n",
       "  border: var(--sklearn-color-unfitted-level-1) 1pt solid;\n",
       "  color: var(--sklearn-color-unfitted-level-1);\n",
       "}\n",
       "\n",
       ".sk-estimator-doc-link.fitted,\n",
       "a:link.sk-estimator-doc-link.fitted,\n",
       "a:visited.sk-estimator-doc-link.fitted {\n",
       "  /* fitted */\n",
       "  border: var(--sklearn-color-fitted-level-1) 1pt solid;\n",
       "  color: var(--sklearn-color-fitted-level-1);\n",
       "}\n",
       "\n",
       "/* On hover */\n",
       "div.sk-estimator:hover .sk-estimator-doc-link:hover,\n",
       ".sk-estimator-doc-link:hover,\n",
       "div.sk-label-container:hover .sk-estimator-doc-link:hover,\n",
       ".sk-estimator-doc-link:hover {\n",
       "  /* unfitted */\n",
       "  background-color: var(--sklearn-color-unfitted-level-3);\n",
       "  color: var(--sklearn-color-background);\n",
       "  text-decoration: none;\n",
       "}\n",
       "\n",
       "div.sk-estimator.fitted:hover .sk-estimator-doc-link.fitted:hover,\n",
       ".sk-estimator-doc-link.fitted:hover,\n",
       "div.sk-label-container:hover .sk-estimator-doc-link.fitted:hover,\n",
       ".sk-estimator-doc-link.fitted:hover {\n",
       "  /* fitted */\n",
       "  background-color: var(--sklearn-color-fitted-level-3);\n",
       "  color: var(--sklearn-color-background);\n",
       "  text-decoration: none;\n",
       "}\n",
       "\n",
       "/* Span, style for the box shown on hovering the info icon */\n",
       ".sk-estimator-doc-link span {\n",
       "  display: none;\n",
       "  z-index: 9999;\n",
       "  position: relative;\n",
       "  font-weight: normal;\n",
       "  right: .2ex;\n",
       "  padding: .5ex;\n",
       "  margin: .5ex;\n",
       "  width: min-content;\n",
       "  min-width: 20ex;\n",
       "  max-width: 50ex;\n",
       "  color: var(--sklearn-color-text);\n",
       "  box-shadow: 2pt 2pt 4pt #999;\n",
       "  /* unfitted */\n",
       "  background: var(--sklearn-color-unfitted-level-0);\n",
       "  border: .5pt solid var(--sklearn-color-unfitted-level-3);\n",
       "}\n",
       "\n",
       ".sk-estimator-doc-link.fitted span {\n",
       "  /* fitted */\n",
       "  background: var(--sklearn-color-fitted-level-0);\n",
       "  border: var(--sklearn-color-fitted-level-3);\n",
       "}\n",
       "\n",
       ".sk-estimator-doc-link:hover span {\n",
       "  display: block;\n",
       "}\n",
       "\n",
       "/* \"?\"-specific style due to the `<a>` HTML tag */\n",
       "\n",
       "#sk-container-id-3 a.estimator_doc_link {\n",
       "  float: right;\n",
       "  font-size: 1rem;\n",
       "  line-height: 1em;\n",
       "  font-family: monospace;\n",
       "  background-color: var(--sklearn-color-background);\n",
       "  border-radius: 1rem;\n",
       "  height: 1rem;\n",
       "  width: 1rem;\n",
       "  text-decoration: none;\n",
       "  /* unfitted */\n",
       "  color: var(--sklearn-color-unfitted-level-1);\n",
       "  border: var(--sklearn-color-unfitted-level-1) 1pt solid;\n",
       "}\n",
       "\n",
       "#sk-container-id-3 a.estimator_doc_link.fitted {\n",
       "  /* fitted */\n",
       "  border: var(--sklearn-color-fitted-level-1) 1pt solid;\n",
       "  color: var(--sklearn-color-fitted-level-1);\n",
       "}\n",
       "\n",
       "/* On hover */\n",
       "#sk-container-id-3 a.estimator_doc_link:hover {\n",
       "  /* unfitted */\n",
       "  background-color: var(--sklearn-color-unfitted-level-3);\n",
       "  color: var(--sklearn-color-background);\n",
       "  text-decoration: none;\n",
       "}\n",
       "\n",
       "#sk-container-id-3 a.estimator_doc_link.fitted:hover {\n",
       "  /* fitted */\n",
       "  background-color: var(--sklearn-color-fitted-level-3);\n",
       "}\n",
       "</style><div id=\"sk-container-id-3\" class=\"sk-top-container\"><div class=\"sk-text-repr-fallback\"><pre>SVC()</pre><b>In a Jupyter environment, please rerun this cell to show the HTML representation or trust the notebook. <br />On GitHub, the HTML representation is unable to render, please try loading this page with nbviewer.org.</b></div><div class=\"sk-container\" hidden><div class=\"sk-item\"><div class=\"sk-estimator fitted sk-toggleable\"><input class=\"sk-toggleable__control sk-hidden--visually\" id=\"sk-estimator-id-3\" type=\"checkbox\" checked><label for=\"sk-estimator-id-3\" class=\"sk-toggleable__label fitted sk-toggleable__label-arrow fitted\">&nbsp;&nbsp;SVC<a class=\"sk-estimator-doc-link fitted\" rel=\"noreferrer\" target=\"_blank\" href=\"https://scikit-learn.org/1.4/modules/generated/sklearn.svm.SVC.html\">?<span>Documentation for SVC</span></a><span class=\"sk-estimator-doc-link fitted\">i<span>Fitted</span></span></label><div class=\"sk-toggleable__content fitted\"><pre>SVC()</pre></div> </div></div></div></div>"
      ],
      "text/plain": [
       "SVC()"
      ]
     },
     "execution_count": 90,
     "metadata": {},
     "output_type": "execute_result"
    }
   ],
   "source": [
    "#Obtenos y de la columna rating\n",
    "y = DATASET['rating']\n",
    "#Obtenemos X de la columna comment\n",
    "X = DATASET\n",
    "\n",
    "X_train, X_test, y_train, y_test = train_test_split(X, y, test_size=0.2, random_state=0)\n",
    "\n",
    "PalabrasP_train,PalabrasN_train = Vectores_Palabras(X_train)\n",
    "PalabrasP_test,PalabrasN_test = Vectores_Palabras(X_test)\n",
    "\n",
    "PalabrasP_train = Filtar_Palabras(PalabrasP_train)\n",
    "PalabrasN_train = Filtar_Palabras(PalabrasN_train)\n",
    "\n",
    "PalabrasP_test = Filtar_Palabras(PalabrasP_test)\n",
    "PalabrasN_test = Filtar_Palabras(PalabrasN_test)\n",
    "\n",
    "NumPalabrasP = Frecuencia_Palabras(PalabrasP_train)\n",
    "#NumPalabrasN = Frecuencia_Palabras(PalabrasN_train)\n",
    "\n",
    "# Por cada review obtenemos el numero de palabras y las dividimos entre de palabras positivas o negativas\n",
    "X_trainNP = []\n",
    "for i in range(len(X_train)):\n",
    "    if X_train['rating'].iloc[i] == 1:\n",
    "        X_trainNP.append(len(Filtar_Palabras([X_train['comment'].iloc[i]]))/len(PalabrasP_train))\n",
    "    else:\n",
    "        X_trainNP.append(len(Filtar_Palabras([X_train['comment'].iloc[i]]))/len(PalabrasN_train))\n",
    "\n",
    "X_trainNP = pd.DataFrame(X_trainNP)\n",
    "#X_trainNP\n",
    "\n",
    "X_testNP = []\n",
    "for i in range(len(X_test)):\n",
    "    if X_test['rating'].iloc[i] == 1:\n",
    "        X_testNP.append(len(Filtar_Palabras([X_test['comment'].iloc[i]]))/len(PalabrasP_test))\n",
    "    else:\n",
    "        X_testNP.append(len(Filtar_Palabras([X_test['comment'].iloc[i]]))/len(PalabrasN_test))\n",
    "\n",
    "X_testNP = pd.DataFrame(X_testNP)\n",
    "X_testNP\n",
    "\n",
    "#Aplicamos el modelo de SVM\n",
    "clf = svm.SVC(kernel = 'rbf')\n",
    "clf.fit(X_trainNP, y_train)"
   ]
  },
  {
   "cell_type": "code",
   "execution_count": 91,
   "metadata": {},
   "outputs": [
    {
     "data": {
      "text/plain": [
       "array([1, 1, 1, 1, 0])"
      ]
     },
     "execution_count": 91,
     "metadata": {},
     "output_type": "execute_result"
    }
   ],
   "source": [
    "y_pred = clf.predict(X_testNP)\n",
    "y_pred [0:5]"
   ]
  },
  {
   "cell_type": "markdown",
   "metadata": {},
   "source": [
    "#### Matriz de Confusion"
   ]
  },
  {
   "cell_type": "code",
   "execution_count": 92,
   "metadata": {},
   "outputs": [],
   "source": [
    "def plot_Confusion_Matrix(cm, classes, normalize=True, title='Confusion matrix', cmap=plt.cm.Blues):\n",
    "    if normalize:\n",
    "        cm = cm.astype('float') / cm.sum(axis=1)[:, np.newaxis]\n",
    "        print(\"Matriz de confusion normalizada\")\n",
    "    else:\n",
    "        print('Matriz de confusion sin normalizar')\n",
    "    \n",
    "    print(cm)\n",
    "\n",
    "    plt.imshow(cm, interpolation='nearest', cmap=cmap)\n",
    "    plt.title(title)\n",
    "    plt.colorbar()\n",
    "    tick_marks = np.arange(len(classes))\n",
    "    plt.xticks(tick_marks, classes, rotation=45)\n",
    "    plt.yticks(tick_marks, classes)\n",
    "\n",
    "    fmt = '.2f' if normalize else 'd'\n",
    "    thresh = cm.max() / 2.\n",
    "    for i, j in itertools.product(range(cm.shape[0]), range(cm.shape[1])):\n",
    "        plt.text(j, i, format(cm[i, j], fmt), horizontalalignment='center', color='white' if cm[i, j] > thresh else 'black')\n",
    "\n",
    "    plt.tight_layout()\n",
    "    plt.ylabel('True label')\n",
    "    plt.xlabel('Predicted label')\n",
    "    "
   ]
  },
  {
   "cell_type": "code",
   "execution_count": 93,
   "metadata": {},
   "outputs": [
    {
     "name": "stdout",
     "output_type": "stream",
     "text": [
      "              precision    recall  f1-score   support\n",
      "\n",
      "           0       0.40      0.86      0.55        56\n",
      "           1       0.97      0.80      0.88       352\n",
      "\n",
      "    accuracy                           0.80       408\n",
      "   macro avg       0.69      0.83      0.71       408\n",
      "weighted avg       0.89      0.80      0.83       408\n",
      "\n"
     ]
    }
   ],
   "source": [
    "cnf_matrix = confusion_matrix(y_test, y_pred, labels=[0,1])\n",
    "np.set_printoptions(precision=2)\n",
    "print(classification_report(y_test, y_pred))"
   ]
  },
  {
   "cell_type": "code",
   "execution_count": 94,
   "metadata": {},
   "outputs": [
    {
     "name": "stdout",
     "output_type": "stream",
     "text": [
      "Matriz de confusion sin normalizar\n",
      "[[ 48   8]\n",
      " [ 72 280]]\n"
     ]
    },
    {
     "data": {
      "image/png": "[encoded data removed]",
      "text/plain": [
       "<Figure size 640x480 with 2 Axes>"
      ]
     },
     "metadata": {},
     "output_type": "display_data"
    }
   ],
   "source": [
    "plt.figure()\n",
    "plot_Confusion_Matrix(cnf_matrix, classes=['Negativo=0', 'Positivo=1'], normalize=False, title='Matriz de confusion')"
   ]
  },
  {
   "cell_type": "markdown",
   "metadata": {},
   "source": [
    "##### Precision Global, Error Global, Falsos Positivo, Falsos Negativo, Acertividad Positiva y Negativa"
   ]
  },
  {
   "cell_type": "code",
   "execution_count": 95,
   "metadata": {},
   "outputs": [
    {
     "name": "stdout",
     "output_type": "stream",
     "text": [
      "Precisión Global:  0.8297682709447416\n",
      "Error Global:  0.1702317290552584\n",
      "Falsos Positivos:  0.14285714285714285\n",
      "Falsos Negativos:  0.20454545454545456\n",
      "Asertividad Positiva:  0.803921568627451\n",
      "Asertividad Negativa:  0.9722222222222222\n"
     ]
    }
   ],
   "source": [
    "# Calculamos la precision y error global\n",
    "from sklearn.metrics import f1_score\n",
    "PrecisionG = f1_score(y_test, y_pred, average='weighted')\n",
    "print(\"Precisión Global: \", PrecisionG)\n",
    "ErrorSVM = 1 - PrecisionG\n",
    "print(\"Error Global: \", ErrorSVM)\n",
    "\n",
    "# Calculamos los falsos positivos y falsos negativos\n",
    "FP = cnf_matrix[0,1]/(cnf_matrix[0,1] + cnf_matrix[0,0])\n",
    "FN = cnf_matrix[1,0]/(cnf_matrix[1,0] + cnf_matrix[1,1])\n",
    "print(\"Falsos Positivos: \", FP)\n",
    "print(\"Falsos Negativos: \", FN)\n",
    "\n",
    "# Asertividad Positiva y Asertividad Negativa\n",
    "AsertividadP = (cnf_matrix[0,0] + cnf_matrix[1,1])/(cnf_matrix[0,0] + cnf_matrix[1,1] + cnf_matrix[0,1] + cnf_matrix[1,0])\n",
    "AsertividadN = cnf_matrix[1,1]/(cnf_matrix[1,1] + cnf_matrix[0,1])\n",
    "print(\"Asertividad Positiva: \", AsertividadP)\n",
    "print(\"Asertividad Negativa: \", AsertividadN)\n"
   ]
  },
  {
   "cell_type": "markdown",
   "metadata": {},
   "source": [
    "# MODELO NNBP"
   ]
  },
  {
   "cell_type": "markdown",
   "metadata": {},
   "source": [
    "##### creamos una función que busca quitar los valores nulo, pueso que algunas review solo cuenta con el raiting mas no con comentario."
   ]
  },
  {
   "cell_type": "code",
   "execution_count": 109,
   "metadata": {},
   "outputs": [],
   "source": [
    "def Quitar_Valores_Nulos():\n",
    "    for i in range(len(DATASET)):\n",
    "        if DATASET.loc[i, \"comment\"] == \"\":\n",
    "            if DATASET.loc[i, \"rating\"] == 1:\n",
    "                DATASET.loc[i, \"comment\"] = \"bueno\"\n",
    "            if DATASET.loc[i, \"rating\"] == 0:\n",
    "                DATASET.loc[i, \"comment\"] = \"malo\""
   ]
  },
  {
   "cell_type": "markdown",
   "metadata": {},
   "source": [
    "##### NOTA IMPORTANTE: para poder usar el DATASET debemos limpiar por lo tanto aquí aplicamos algunas de las funciones antes implementadas como lo son: \n",
    "##### 1- def Filtrar_palabras()\n",
    "##### 2- def Probabilidad_Palabra()\n"
   ]
  },
  {
   "cell_type": "code",
   "execution_count": 110,
   "metadata": {},
   "outputs": [],
   "source": [
    "def Vectores_Palabras_nnbp(dataset):\n",
    "    Palabras = []\n",
    "    Largo = len(dataset)\n",
    "    for i in range(Largo):\n",
    "        Palabras.append(DATASET[\"comment\"][i])\n",
    "    return Palabras"
   ]
  },
  {
   "cell_type": "markdown",
   "metadata": {},
   "source": [
    "##### Creamos una función cuyo objetivo es sacar la probabilidad de cada palabra, esto lo necesitamos por que una vez tengamos la probabilidad de cada palabra, procederemos a cambiar los textos de los comment a su equivalente en probailidad"
   ]
  },
  {
   "cell_type": "code",
   "execution_count": 111,
   "metadata": {},
   "outputs": [],
   "source": [
    "def Probabilidad_Review(Review, Palabras):\n",
    "    Probabilidades = []\n",
    "    Review = Filtar_Palabras([Review])\n",
    "    for Palabra in Review:\n",
    "        Probabilidades.append(Probabilidad_Palabra(Palabra, Palabras))\n",
    "    return np.array(Probabilidades)"
   ]
  },
  {
   "cell_type": "markdown",
   "metadata": {},
   "source": [
    "##### en la siguiente funcion vamos a buscar el comentario más largo y vamos a rellenar con 0 los demas comentarios. esto con el objetivo que toda la matriz este del mismo nivel"
   ]
  },
  {
   "cell_type": "code",
   "execution_count": 112,
   "metadata": {},
   "outputs": [],
   "source": [
    "def rellenar(X,Y,df_Test,Res_Test, Palabras_Entrenamiento, Palabras_EnFiltradas, Res_Train):\n",
    "    Matriz_Entrenamiento = []\n",
    "    max_length = 0\n",
    "    for review in Palabras_Entrenamiento:\n",
    "        prob_review = Probabilidad_Review(review, Palabras_EnFiltradas)\n",
    "        Matriz_Entrenamiento.append(prob_review)\n",
    "        max_length = max(max_length, len(prob_review))\n",
    "\n",
    "    for i in range(len(Matriz_Entrenamiento)):\n",
    "        if len(Matriz_Entrenamiento[i]) < max_length:\n",
    "            Matriz_Entrenamiento[i] = np.pad(Matriz_Entrenamiento[i], (0, max_length - len(Matriz_Entrenamiento[i])), 'constant', constant_values=0)\n",
    "    Matriz_Entrenamiento = np.array(Matriz_Entrenamiento, dtype=float)\n",
    "    Res_Train = np.array(Res_Train)\n",
    "    instancia_red = red_neuronal(Matriz_Entrenamiento, Res_Train)\n",
    "    # Llama a prueba_red_neuronal con la instancia de la red y los datos de prueba\n",
    "    matriz_confusion, precisionNNBP, FPNNBP, FNNNBP, ErrorNNBP, APNNBP, ANNNBP = prueba_red_neuronal(df_Test, Res_Test, instancia_red)\n",
    "    return precisionNNBP, FPNNBP, FNNNBP, ErrorNNBP, APNNBP, ANNNBP \n"
   ]
  },
  {
   "cell_type": "markdown",
   "metadata": {},
   "source": [
    "##### vamos a generar la red neuronal "
   ]
  },
  {
   "cell_type": "code",
   "execution_count": 113,
   "metadata": {},
   "outputs": [],
   "source": [
    "def red_neuronal(matriz_entrenamiento, res_train):\n",
    "    instancia_red = MLPClassifier()\n",
    "    #print(instancia_red)\n",
    "    instancia_red.fit(matriz_entrenamiento, res_train)\n",
    "    #print(\"Las predicciones del testing son: {}\".format(instancia_red.predict(matriz_entrenamiento)))\n",
    "    return instancia_red"
   ]
  },
  {
   "cell_type": "markdown",
   "metadata": {},
   "source": [
    "##### esta función realiza la preparación de los datos de prueba, hace predicciones utilizando la instancia de la red neuronal y retorna la matriz de confusión resultante."
   ]
  },
  {
   "cell_type": "code",
   "execution_count": 114,
   "metadata": {},
   "outputs": [],
   "source": [
    "def prueba_red_neuronal(df_Test, Res_Test, instancia_red):\n",
    "    Palabras_Test = Vectores_Palabras_nnbp(df_Test)\n",
    "    Palabras_Test_Filtradas = Filtar_Palabras(Palabras_Test)\n",
    "    Matriz_Test = []\n",
    "    max_length = 0\n",
    "    for review in Palabras_Test:\n",
    "        prob_review = Probabilidad_Review(review, Palabras_Test_Filtradas)\n",
    "        Matriz_Test.append(prob_review)\n",
    "        max_length = max(max_length, len(prob_review))\n",
    "\n",
    "    for i in range(len(Matriz_Test)):\n",
    "        if len(Matriz_Test[i]) < max_length:\n",
    "            Matriz_Test[i] = np.pad(Matriz_Test[i], (0, max_length - len(Matriz_Test[i])), 'constant', constant_values=0)\n",
    "    # Llama a la función predicciones con la instancia de la red, los datos de prueba y las etiquetas de prueba\n",
    "    matriz_confusion, precisionNNBP, FPNNBP, FNNNBP, ErrorNNBP, APNNBP, ANNNBP = predicciones(instancia_red, Matriz_Test, Res_Test)\n",
    "    return matriz_confusion, precisionNNBP, FPNNBP, FNNNBP, ErrorNNBP, APNNBP, ANNNBP "
   ]
  },
  {
   "cell_type": "markdown",
   "metadata": {},
   "source": [
    "##### generamos una función que imprimira las predicciones de la red"
   ]
  },
  {
   "cell_type": "code",
   "execution_count": 115,
   "metadata": {},
   "outputs": [],
   "source": [
    "def predicciones(instancia_red, matriz_test, Res_Test):\n",
    "    # Utiliza los datos de prueba y la instancia de la red para hacer predicciones\n",
    "    Predicciones = instancia_red.predict(matriz_test)\n",
    "    # Calcula la matriz de confusión utilizando las predicciones y las etiquetas verdaderas (Res_Test)\n",
    "    Matriz_Confusion = confusion_matrix(Res_Test, Predicciones)\n",
    "    # Devuelve la matriz de confusión\n",
    "    precisionNNBP, FPNNBP, FNNNBP, ErrorNNBP, APNNBP, ANNNBP = confusion(Matriz_Confusion, Res_Test, Predicciones)\n",
    "    return Matriz_Confusion, precisionNNBP, FPNNBP, FNNNBP, ErrorNNBP, APNNBP, ANNNBP "
   ]
  },
  {
   "cell_type": "markdown",
   "metadata": {},
   "source": [
    "##### Creamos una función para imprimir las variables"
   ]
  },
  {
   "cell_type": "code",
   "execution_count": 116,
   "metadata": {},
   "outputs": [],
   "source": [
    "def plot_Confusion_Matrix(cm, classes, normalize=True, title='Confusion matrix', cmap=plt.cm.Blues):\n",
    "    if normalize:\n",
    "        cm = cm.astype('float') / cm.sum(axis=1)[:, np.newaxis]\n",
    "        print(\"Matriz de confusión normalizada\")\n",
    "    else:\n",
    "        print('Matriz de confusión sin normalizar')\n",
    "\n",
    "    print(cm)\n",
    "\n",
    "    plt.imshow(cm, interpolation='nearest', cmap=cmap)\n",
    "    plt.title(title)\n",
    "    plt.colorbar()\n",
    "    tick_marks = np.arange(len(classes))\n",
    "    plt.xticks(tick_marks, classes, rotation=45)\n",
    "    plt.yticks(tick_marks, classes)\n",
    "\n",
    "    fmt = '.2f' if normalize else 'd'\n",
    "    thresh = cm.max() / 2.\n",
    "    for i, j in itertools.product(range(cm.shape[0]), range(cm.shape[1])):\n",
    "        plt.text(j, i, format(cm[i, j], fmt), horizontalalignment='center', color='white' if cm[i, j] > thresh else 'black')\n",
    "\n",
    "    plt.tight_layout()\n",
    "    plt.ylabel('True label')\n",
    "    plt.xlabel('Predicted label')\n",
    "    plt.show()\n"
   ]
  },
  {
   "cell_type": "markdown",
   "metadata": {},
   "source": [
    "##### hacemos la matriz de confusion para ver el rendimiento del modelo "
   ]
  },
  {
   "cell_type": "code",
   "execution_count": 117,
   "metadata": {},
   "outputs": [],
   "source": [
    "def confusion(Matriz_Confusion, Res_Test, Predicciones):\n",
    "    tn, fp, fn, tp = confusion_matrix(Res_Test, Predicciones).ravel()\n",
    "    precision = (tn + tp) / (tn + fp + fn + tp)\n",
    "    FalsosPositivos = fp / (tn + fp)\n",
    "    FalsosNegativos = fn / (fn + tp)\n",
    "    Error = 1 - precision\n",
    "    AcertividadPositiva = tp / (fp + tp)\n",
    "    if tn + fn == 0:\n",
    "        AcertividadNegativa = 0  # or 1, depending on your preference\n",
    "    else:\n",
    "        AcertividadNegativa = tn / (tn + fn)\n",
    "    \n",
    "    # Crear el DataFrame con la matriz de confusión\n",
    "    df_confusion = pd.DataFrame(Matriz_Confusion, columns=['Predicción Negativa', 'Predicción Positiva'], index=['Real Negativa', 'Real Positiva'])\n",
    "    # Imprimir la tabla de la matriz de confusión\n",
    "    #print(df_confusion)\n",
    "     # Llamar a la función plot_Confusion_Matrix\n",
    "    plot_Confusion_Matrix(Matriz_Confusion, classes=['Negativo=0', 'Positivo=1'], normalize=False, title='Matriz de confusión')\n",
    "\n",
    "    \n",
    "    # Imprimir otros datos en el formato deseado\n",
    "    print(\"\\nPrecision Global, Falsos Positivos, Falsos Negativos, Error Global, Acertividad Positiva, Acertividad Negativa\")\n",
    "    print((precision, FalsosPositivos, FalsosNegativos, Error, AcertividadPositiva, AcertividadNegativa))\n",
    "\n",
    "    return precision, FalsosPositivos, FalsosNegativos, Error, AcertividadPositiva, AcertividadNegativa\n",
    "\n",
    "\n"
   ]
  },
  {
   "cell_type": "markdown",
   "metadata": {},
   "source": [
    "##### generamos el main del código de redes"
   ]
  },
  {
   "cell_type": "code",
   "execution_count": 118,
   "metadata": {},
   "outputs": [
    {
     "name": "stdout",
     "output_type": "stream",
     "text": [
      "Matriz de confusión sin normalizar\n",
      "[[  0 104]\n",
      " [  0 915]]\n"
     ]
    },
    {
     "data": {
      "image/png": "[encoded data removed]",
      "text/plain": [
       "<Figure size 640x480 with 2 Axes>"
      ]
     },
     "metadata": {},
     "output_type": "display_data"
    },
    {
     "name": "stdout",
     "output_type": "stream",
     "text": [
      "\n",
      "Precision Global, Falsos Positivos, Falsos Negativos, Error Global, Acertividad Positiva, Acertividad Negativa\n",
      "(0.8979391560353287, 1.0, 0.0, 0.1020608439646713, 0.8979391560353287, 0)\n"
     ]
    }
   ],
   "source": [
    "def main_Redes():\n",
    "    Quitar_Valores_Nulos()\n",
    "    X = DATASET[\"comment\"]\n",
    "    Y = DATASET[\"rating\"]\n",
    "    df_Test, df_Train, Res_Test, Res_Train = train_test_split(X, Y, test_size=0.5, random_state=42)\n",
    "    Palabras_Entrenamiento = Vectores_Palabras_nnbp(df_Train)\n",
    "    Palabras_EnFiltradas = Filtar_Palabras(Palabras_Entrenamiento)\n",
    "    precisionNNBP, FPNNBP, FNNNBP, ErrorNNBP, APNNBP, ANNNBP = rellenar(X,Y,df_Test,Res_Test, Palabras_Entrenamiento, Palabras_EnFiltradas, Res_Train)\n",
    "    return precisionNNBP, FPNNBP, FNNNBP, ErrorNNBP, APNNBP, ANNNBP \n",
    "\n",
    "\n",
    "precisionNNBP, FPNNBP, FNNNBP, ErrorNNBP, APNNBP, ANNNBP = main_Redes()"
   ]
  },
  {
   "cell_type": "markdown",
   "metadata": {},
   "source": [
    "# Tabla comparativa"
   ]
  },
  {
   "cell_type": "code",
   "execution_count": 119,
   "metadata": {},
   "outputs": [
    {
     "data": {
      "text/html": [
       "<div>\n",
       "<style scoped>\n",
       "    .dataframe tbody tr th:only-of-type {\n",
       "        vertical-align: middle;\n",
       "    }\n",
       "\n",
       "    .dataframe tbody tr th {\n",
       "        vertical-align: top;\n",
       "    }\n",
       "\n",
       "    .dataframe thead th {\n",
       "        text-align: right;\n",
       "    }\n",
       "</style>\n",
       "<table border=\"1\" class=\"dataframe\">\n",
       "  <thead>\n",
       "    <tr style=\"text-align: right;\">\n",
       "      <th></th>\n",
       "      <th>Precisión Global</th>\n",
       "      <th>Error Global</th>\n",
       "      <th>Asertividad Positiva</th>\n",
       "      <th>Asertividad Negativa</th>\n",
       "      <th>Falso Positivo</th>\n",
       "      <th>Falso Negativo</th>\n",
       "    </tr>\n",
       "  </thead>\n",
       "  <tbody>\n",
       "    <tr>\n",
       "      <th>Bayes</th>\n",
       "      <td>0.862745</td>\n",
       "      <td>0.137255</td>\n",
       "      <td>0.862745</td>\n",
       "      <td>0</td>\n",
       "      <td>1.0</td>\n",
       "      <td>0.0</td>\n",
       "    </tr>\n",
       "  </tbody>\n",
       "</table>\n",
       "</div>"
      ],
      "text/plain": [
       "       Precisión Global  Error Global  Asertividad Positiva  \\\n",
       "Bayes          0.862745      0.137255              0.862745   \n",
       "\n",
       "       Asertividad Negativa  Falso Positivo  Falso Negativo  \n",
       "Bayes                     0             1.0             0.0  "
      ]
     },
     "execution_count": 119,
     "metadata": {},
     "output_type": "execute_result"
    }
   ],
   "source": [
    "# PrecisionB, FPBayes, FNBayes, ErrorBayes, APBayes, ANBayes\n",
    "dataBayes = {'Precisión Global': [PrecisionB],'Error Global' : [ErrorBayes],'Asertividad Positiva': [APBayes], 'Asertividad Negativa': [ANBayes], 'Falso Positivo': [FPBayes], 'Falso Negativo': [FNBayes]}\n",
    "df = pd.DataFrame(dataBayes)\n",
    "df\n",
    "# Cambiar el nombre de las filas\n",
    "df = df.rename(index={0: 'Bayes'})\n",
    "df"
   ]
  },
  {
   "cell_type": "code",
   "execution_count": 120,
   "metadata": {},
   "outputs": [
    {
     "data": {
      "text/html": [
       "<div>\n",
       "<style scoped>\n",
       "    .dataframe tbody tr th:only-of-type {\n",
       "        vertical-align: middle;\n",
       "    }\n",
       "\n",
       "    .dataframe tbody tr th {\n",
       "        vertical-align: top;\n",
       "    }\n",
       "\n",
       "    .dataframe thead th {\n",
       "        text-align: right;\n",
       "    }\n",
       "</style>\n",
       "<table border=\"1\" class=\"dataframe\">\n",
       "  <thead>\n",
       "    <tr style=\"text-align: right;\">\n",
       "      <th></th>\n",
       "      <th>Precisión Global</th>\n",
       "      <th>Error Global</th>\n",
       "      <th>Asertividad Positiva</th>\n",
       "      <th>Asertividad Negativa</th>\n",
       "      <th>Falso Positivo</th>\n",
       "      <th>Falso Negativo</th>\n",
       "    </tr>\n",
       "  </thead>\n",
       "  <tbody>\n",
       "    <tr>\n",
       "      <th>SVM</th>\n",
       "      <td>0.829768</td>\n",
       "      <td>0.170232</td>\n",
       "      <td>0.803922</td>\n",
       "      <td>0.972222</td>\n",
       "      <td>0.142857</td>\n",
       "      <td>0.204545</td>\n",
       "    </tr>\n",
       "  </tbody>\n",
       "</table>\n",
       "</div>"
      ],
      "text/plain": [
       "     Precisión Global  Error Global  Asertividad Positiva  \\\n",
       "SVM          0.829768      0.170232              0.803922   \n",
       "\n",
       "     Asertividad Negativa  Falso Positivo  Falso Negativo  \n",
       "SVM              0.972222        0.142857        0.204545  "
      ]
     },
     "execution_count": 120,
     "metadata": {},
     "output_type": "execute_result"
    }
   ],
   "source": [
    "# SVM\n",
    "dataSVM = {'Precisión Global': [PrecisionG],'Error Global' : [ErrorSVM],'Asertividad Positiva': [AsertividadP], 'Asertividad Negativa': [AsertividadN], 'Falso Positivo': [FP], 'Falso Negativo': [FN]}\n",
    "df = pd.DataFrame(dataSVM)\n",
    "df\n",
    "# Cambiar el nombre de las filas\n",
    "df = df.rename(index={0: 'SVM'})\n",
    "df"
   ]
  },
  {
   "cell_type": "code",
   "execution_count": 122,
   "metadata": {},
   "outputs": [
    {
     "data": {
      "text/html": [
       "<div>\n",
       "<style scoped>\n",
       "    .dataframe tbody tr th:only-of-type {\n",
       "        vertical-align: middle;\n",
       "    }\n",
       "\n",
       "    .dataframe tbody tr th {\n",
       "        vertical-align: top;\n",
       "    }\n",
       "\n",
       "    .dataframe thead th {\n",
       "        text-align: right;\n",
       "    }\n",
       "</style>\n",
       "<table border=\"1\" class=\"dataframe\">\n",
       "  <thead>\n",
       "    <tr style=\"text-align: right;\">\n",
       "      <th></th>\n",
       "      <th>Precisión Global</th>\n",
       "      <th>Error Global</th>\n",
       "      <th>Asertividad Positiva</th>\n",
       "      <th>Asertividad Negativa</th>\n",
       "      <th>Falso Positivo</th>\n",
       "      <th>Falso Negativo</th>\n",
       "    </tr>\n",
       "  </thead>\n",
       "  <tbody>\n",
       "    <tr>\n",
       "      <th>NNBP</th>\n",
       "      <td>0.897939</td>\n",
       "      <td>0.102061</td>\n",
       "      <td>0.897939</td>\n",
       "      <td>0</td>\n",
       "      <td>1.0</td>\n",
       "      <td>0.0</td>\n",
       "    </tr>\n",
       "  </tbody>\n",
       "</table>\n",
       "</div>"
      ],
      "text/plain": [
       "      Precisión Global  Error Global  Asertividad Positiva  \\\n",
       "NNBP          0.897939      0.102061              0.897939   \n",
       "\n",
       "      Asertividad Negativa  Falso Positivo  Falso Negativo  \n",
       "NNBP                     0             1.0             0.0  "
      ]
     },
     "execution_count": 122,
     "metadata": {},
     "output_type": "execute_result"
    }
   ],
   "source": [
    "# NNBP\n",
    "#precisionNNBP, FPNNBP, FNNNBP, ErrorNNBP, APNNBP, ANNNBP \n",
    "dataNNBP = {'Precisión Global': [precisionNNBP], 'Error Global' : [ErrorNNBP],'Asertividad Positiva': [APNNBP], 'Asertividad Negativa': [ANNNBP], 'Falso Positivo': [FPNNBP], 'Falso Negativo': [FNNNBP]}\n",
    "df = pd.DataFrame(dataNNBP)\n",
    "df\n",
    "# Cambiar el nombre de las filas\n",
    "df = df.rename(index={0: 'NNBP'})\n",
    "df"
   ]
  },
  {
   "cell_type": "code",
   "execution_count": 129,
   "metadata": {},
   "outputs": [
    {
     "data": {
      "text/html": [
       "<div>\n",
       "<style scoped>\n",
       "    .dataframe tbody tr th:only-of-type {\n",
       "        vertical-align: middle;\n",
       "    }\n",
       "\n",
       "    .dataframe tbody tr th {\n",
       "        vertical-align: top;\n",
       "    }\n",
       "\n",
       "    .dataframe thead th {\n",
       "        text-align: right;\n",
       "    }\n",
       "</style>\n",
       "<table border=\"1\" class=\"dataframe\">\n",
       "  <thead>\n",
       "    <tr style=\"text-align: right;\">\n",
       "      <th></th>\n",
       "      <th>Precisión Global</th>\n",
       "      <th>Error Global</th>\n",
       "      <th>Asertividad Positiva</th>\n",
       "      <th>Asertividad Negativa</th>\n",
       "      <th>Falso Positivo</th>\n",
       "      <th>Falso Negativo</th>\n",
       "    </tr>\n",
       "  </thead>\n",
       "  <tbody>\n",
       "    <tr>\n",
       "      <th>Bayes</th>\n",
       "      <td>0.862745</td>\n",
       "      <td>0.137255</td>\n",
       "      <td>0.862745</td>\n",
       "      <td>0.000000</td>\n",
       "      <td>1.000000</td>\n",
       "      <td>0.000000</td>\n",
       "    </tr>\n",
       "    <tr>\n",
       "      <th>SVM</th>\n",
       "      <td>0.829768</td>\n",
       "      <td>0.170232</td>\n",
       "      <td>0.803922</td>\n",
       "      <td>0.972222</td>\n",
       "      <td>0.142857</td>\n",
       "      <td>0.204545</td>\n",
       "    </tr>\n",
       "    <tr>\n",
       "      <th>NNBP</th>\n",
       "      <td>0.897939</td>\n",
       "      <td>0.102061</td>\n",
       "      <td>0.897939</td>\n",
       "      <td>0.000000</td>\n",
       "      <td>1.000000</td>\n",
       "      <td>0.000000</td>\n",
       "    </tr>\n",
       "  </tbody>\n",
       "</table>\n",
       "</div>"
      ],
      "text/plain": [
       "       Precisión Global  Error Global  Asertividad Positiva  \\\n",
       "Bayes          0.862745      0.137255              0.862745   \n",
       "SVM            0.829768      0.170232              0.803922   \n",
       "NNBP           0.897939      0.102061              0.897939   \n",
       "\n",
       "       Asertividad Negativa  Falso Positivo  Falso Negativo  \n",
       "Bayes              0.000000        1.000000        0.000000  \n",
       "SVM                0.972222        0.142857        0.204545  \n",
       "NNBP               0.000000        1.000000        0.000000  "
      ]
     },
     "execution_count": 129,
     "metadata": {},
     "output_type": "execute_result"
    }
   ],
   "source": [
    "df = pd.DataFrame()\n",
    "\n",
    "df['Precisión Global'] = None\n",
    "df['Error Global'] = None\n",
    "df['Asertividad Positiva'] = None\n",
    "df['Asertividad Negativa'] = None\n",
    "df['Falso Positivo'] = None\n",
    "df['Falso Negativo'] = None\n",
    "\n",
    "df.loc[\"Bayes\"] = [PrecisionB, ErrorBayes, APBayes, ANBayes, FPBayes, FNBayes]\n",
    "df.loc[\"SVM\"] = [PrecisionG, ErrorSVM, AsertividadP, AsertividadN, FP, FN]\n",
    "df.loc[\"NNBP\"] = [precisionNNBP, ErrorNNBP, APNNBP, ANNNBP, FPNNBP, FNNNBP]\n",
    "\n",
    "df"
   ]
  }
 ],
 "metadata": {
  "kernelspec": {
   "display_name": "Python 3 (ipykernel)",
   "language": "python",
   "name": "python3"
  },
  "language_info": {
   "codemirror_mode": {
    "name": "ipython",
    "version": 3
   },
   "file_extension": ".py",
   "mimetype": "text/x-python",
   "name": "python",
   "nbconvert_exporter": "python",
   "pygments_lexer": "ipython3",
   "version": "3.11.6"
  }
 },
 "nbformat": 4,
 "nbformat_minor": 4
}
