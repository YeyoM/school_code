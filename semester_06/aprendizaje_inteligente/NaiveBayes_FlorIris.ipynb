{
 "cells": [
  {
   "cell_type": "markdown",
   "metadata": {},
   "source": [
    "#### Metodo 2"
   ]
  },
  {
   "cell_type": "markdown",
   "metadata": {},
   "source": [
    "#### Librerias"
   ]
  },
  {
   "cell_type": "code",
   "execution_count": 1,
   "metadata": {
    "vscode": {
     "languageId": "r"
    }
   },
   "outputs": [
    {
     "name": "stderr",
     "output_type": "stream",
     "text": [
      "Warning message:\n",
      "\"package 'e1071' was built under R version 4.3.3\"\n"
     ]
    }
   ],
   "source": [
    "library(e1071)"
   ]
  },
  {
   "cell_type": "markdown",
   "metadata": {},
   "source": [
    "#### Mostrar datos"
   ]
  },
  {
   "cell_type": "code",
   "execution_count": 2,
   "metadata": {
    "vscode": {
     "languageId": "r"
    }
   },
   "outputs": [
    {
     "name": "stdout",
     "output_type": "stream",
     "text": [
      "    s.largo s.ancho p.largo p.ancho       tipo\n",
      "1       5.1     3.5     1.4     0.2     setosa\n",
      "2       4.9     3.0     1.4     0.2     setosa\n",
      "3       4.7     3.2     1.3     0.2     setosa\n",
      "4       4.6     3.1     1.5     0.2     setosa\n",
      "5       5.0     3.6     1.4     0.2     setosa\n",
      "6       5.4     3.9     1.7     0.4     setosa\n",
      "7       4.6     3.4     1.4     0.3     setosa\n",
      "8       5.0     3.4     1.5     0.2     setosa\n",
      "9       4.4     2.9     1.4     0.2     setosa\n",
      "10      4.9     3.1     1.5     0.1     setosa\n",
      "11      5.4     3.7     1.5     0.2     setosa\n",
      "12      4.8     3.4     1.6     0.2     setosa\n",
      "13      4.8     3.0     1.4     0.1     setosa\n",
      "14      4.3     3.0     1.1     0.1     setosa\n",
      "15      5.8     4.0     1.2     0.2     setosa\n",
      "16      5.7     4.4     1.5     0.4     setosa\n",
      "17      5.4     3.9     1.3     0.4     setosa\n",
      "18      5.1     3.5     1.4     0.3     setosa\n",
      "19      5.7     3.8     1.7     0.3     setosa\n",
      "20      5.1     3.8     1.5     0.3     setosa\n",
      "21      5.4     3.4     1.7     0.2     setosa\n",
      "22      5.1     3.7     1.5     0.4     setosa\n",
      "23      4.6     3.6     1.0     0.2     setosa\n",
      "24      5.1     3.3     1.7     0.5     setosa\n",
      "25      4.8     3.4     1.9     0.2     setosa\n",
      "26      5.0     3.0     1.6     0.2     setosa\n",
      "27      5.0     3.4     1.6     0.4     setosa\n",
      "28      5.2     3.5     1.5     0.2     setosa\n",
      "29      5.2     3.4     1.4     0.2     setosa\n",
      "30      4.7     3.2     1.6     0.2     setosa\n",
      "31      4.8     3.1     1.6     0.2     setosa\n",
      "32      5.4     3.4     1.5     0.4     setosa\n",
      "33      5.2     4.1     1.5     0.1     setosa\n",
      "34      5.5     4.2     1.4     0.2     setosa\n",
      "35      4.9     3.1     1.5     0.1     setosa\n",
      "36      5.0     3.2     1.2     0.2     setosa\n",
      "37      5.5     3.5     1.3     0.2     setosa\n",
      "38      4.9     3.1     1.5     0.1     setosa\n",
      "39      4.4     3.0     1.3     0.2     setosa\n",
      "40      5.1     3.4     1.5     0.2     setosa\n",
      "41      5.0     3.5     1.3     0.3     setosa\n",
      "42      4.5     2.3     1.3     0.3     setosa\n",
      "43      4.4     3.2     1.3     0.2     setosa\n",
      "44      5.0     3.5     1.6     0.6     setosa\n",
      "45      5.1     3.8     1.9     0.4     setosa\n",
      "46      4.8     3.0     1.4     0.3     setosa\n",
      "47      5.1     3.8     1.6     0.2     setosa\n",
      "48      4.6     3.2     1.4     0.2     setosa\n",
      "49      5.3     3.7     1.5     0.2     setosa\n",
      "50      5.0     3.3     1.4     0.2     setosa\n",
      "51      7.0     3.2     4.7     1.4 versicolor\n",
      "52      6.4     3.2     4.5     1.5 versicolor\n",
      "53      6.9     3.1     4.9     1.5 versicolor\n",
      "54      5.5     2.3     4.0     1.3 versicolor\n",
      "55      6.5     2.8     4.6     1.5 versicolor\n",
      "56      5.7     2.8     4.5     1.3 versicolor\n",
      "57      6.3     3.3     4.7     1.6 versicolor\n",
      "58      4.9     2.4     3.3     1.0 versicolor\n",
      "59      6.6     2.9     4.6     1.3 versicolor\n",
      "60      5.2     2.7     3.9     1.4 versicolor\n",
      "61      5.0     2.0     3.5     1.0 versicolor\n",
      "62      5.9     3.0     4.2     1.5 versicolor\n",
      "63      6.0     2.2     4.0     1.0 versicolor\n",
      "64      6.1     2.9     4.7     1.4 versicolor\n",
      "65      5.6     2.9     3.6     1.3 versicolor\n",
      "66      6.7     3.1     4.4     1.4 versicolor\n",
      "67      5.6     3.0     4.5     1.5 versicolor\n",
      "68      5.8     2.7     4.1     1.0 versicolor\n",
      "69      6.2     2.2     4.5     1.5 versicolor\n",
      "70      5.6     2.5     3.9     1.1 versicolor\n",
      "71      5.9     3.2     4.8     1.8 versicolor\n",
      "72      6.1     2.8     4.0     1.3 versicolor\n",
      "73      6.3     2.5     4.9     1.5 versicolor\n",
      "74      6.1     2.8     4.7     1.2 versicolor\n",
      "75      6.4     2.9     4.3     1.3 versicolor\n",
      "76      6.6     3.0     4.4     1.4 versicolor\n",
      "77      6.8     2.8     4.8     1.4 versicolor\n",
      "78      6.7     3.0     5.0     1.7 versicolor\n",
      "79      6.0     2.9     4.5     1.5 versicolor\n",
      "80      5.7     2.6     3.5     1.0 versicolor\n",
      "81      5.5     2.4     3.8     1.1 versicolor\n",
      "82      5.5     2.4     3.7     1.0 versicolor\n",
      "83      5.8     2.7     3.9     1.2 versicolor\n",
      "84      6.0     2.7     5.1     1.6 versicolor\n",
      "85      5.4     3.0     4.5     1.5 versicolor\n",
      "86      6.0     3.4     4.5     1.6 versicolor\n",
      "87      6.7     3.1     4.7     1.5 versicolor\n",
      "88      6.3     2.3     4.4     1.3 versicolor\n",
      "89      5.6     3.0     4.1     1.3 versicolor\n",
      "90      5.5     2.5     4.0     1.3 versicolor\n",
      "91      5.5     2.6     4.4     1.2 versicolor\n",
      "92      6.1     3.0     4.6     1.4 versicolor\n",
      "93      5.8     2.6     4.0     1.2 versicolor\n",
      "94      5.0     2.3     3.3     1.0 versicolor\n",
      "95      5.6     2.7     4.2     1.3 versicolor\n",
      "96      5.7     3.0     4.2     1.2 versicolor\n",
      "97      5.7     2.9     4.2     1.3 versicolor\n",
      "98      6.2     2.9     4.3     1.3 versicolor\n",
      "99      5.1     2.5     3.0     1.1 versicolor\n",
      "100     5.7     2.8     4.1     1.3 versicolor\n",
      "101     6.3     3.3     6.0     2.5  virginica\n",
      "102     5.8     2.7     5.1     1.9  virginica\n",
      "103     7.1     3.0     5.9     2.1  virginica\n",
      "104     6.3     2.9     5.6     1.8  virginica\n",
      "105     6.5     3.0     5.8     2.2  virginica\n",
      "106     7.6     3.0     6.6     2.1  virginica\n",
      "107     4.9     2.5     4.5     1.7  virginica\n",
      "108     7.3     2.9     6.3     1.8  virginica\n",
      "109     6.7     2.5     5.8     1.8  virginica\n",
      "110     7.2     3.6     6.1     2.5  virginica\n",
      "111     6.5     3.2     5.1     2.0  virginica\n",
      "112     6.4     2.7     5.3     1.9  virginica\n",
      "113     6.8     3.0     5.5     2.1  virginica\n",
      "114     5.7     2.5     5.0     2.0  virginica\n",
      "115     5.8     2.8     5.1     2.4  virginica\n",
      "116     6.4     3.2     5.3     2.3  virginica\n",
      "117     6.5     3.0     5.5     1.8  virginica\n",
      "118     7.7     3.8     6.7     2.2  virginica\n",
      "119     7.7     2.6     6.9     2.3  virginica\n",
      "120     6.0     2.2     5.0     1.5  virginica\n",
      "121     6.9     3.2     5.7     2.3  virginica\n",
      "122     5.6     2.8     4.9     2.0  virginica\n",
      "123     7.7     2.8     6.7     2.0  virginica\n",
      "124     6.3     2.7     4.9     1.8  virginica\n",
      "125     6.7     3.3     5.7     2.1  virginica\n",
      "126     7.2     3.2     6.0     1.8  virginica\n",
      "127     6.2     2.8     4.8     1.8  virginica\n",
      "128     6.1     3.0     4.9     1.8  virginica\n",
      "129     6.4     2.8     5.6     2.1  virginica\n",
      "130     7.2     3.0     5.8     1.6  virginica\n",
      "131     7.4     2.8     6.1     1.9  virginica\n",
      "132     7.9     3.8     6.4     2.0  virginica\n",
      "133     6.4     2.8     5.6     2.2  virginica\n",
      "134     6.3     2.8     5.1     1.5  virginica\n",
      "135     6.1     2.6     5.6     1.4  virginica\n",
      "136     7.7     3.0     6.1     2.3  virginica\n",
      "137     6.3     3.4     5.6     2.4  virginica\n",
      "138     6.4     3.1     5.5     1.8  virginica\n",
      "139     6.0     3.0     4.8     1.8  virginica\n",
      "140     6.9     3.1     5.4     2.1  virginica\n",
      "141     6.7     3.1     5.6     2.4  virginica\n",
      "142     6.9     3.1     5.1     2.3  virginica\n",
      "143     5.8     2.7     5.1     1.9  virginica\n",
      "144     6.8     3.2     5.9     2.3  virginica\n",
      "145     6.7     3.3     5.7     2.5  virginica\n",
      "146     6.7     3.0     5.2     2.3  virginica\n",
      "147     6.3     2.5     5.0     1.9  virginica\n",
      "148     6.5     3.0     5.2     2.0  virginica\n",
      "149     6.2     3.4     5.4     2.3  virginica\n",
      "150     5.9     3.0     5.1     1.8  virginica\n"
     ]
    }
   ],
   "source": [
    "datos <- read.csv(\"C:/Users/diego/Desktop/Universidad/6to-Semestre/Aprendizaje_Inteligente/iris.csv\"\n",
    "                  , sep = \";\", header = TRUE)\n",
    "print(datos)"
   ]
  },
  {
   "cell_type": "markdown",
   "metadata": {},
   "source": [
    "#### Muestra de los datos"
   ]
  },
  {
   "cell_type": "code",
   "execution_count": 3,
   "metadata": {
    "vscode": {
     "languageId": "r"
    }
   },
   "outputs": [
    {
     "name": "stdout",
     "output_type": "stream",
     "text": [
      " [1]  61   7  13  57  40  75  44  82  65  81  52  60 104  36  49 105  26  90  37\n",
      "[20]  63  12  58  74  54  45  86  20  10 103  67  15  98  19  77  64  87  51   2\n",
      "[39]  23  34  50  48  84  47  43\n"
     ]
    }
   ],
   "source": [
    "muestra <- sample(1:105, 45)\n",
    "print(muestra)"
   ]
  },
  {
   "cell_type": "markdown",
   "metadata": {},
   "source": [
    "#### Testing y Training"
   ]
  },
  {
   "cell_type": "code",
   "execution_count": 4,
   "metadata": {
    "vscode": {
     "languageId": "r"
    }
   },
   "outputs": [
    {
     "name": "stdout",
     "output_type": "stream",
     "text": [
      "    s.largo s.ancho p.largo p.ancho       tipo\n",
      "61      5.0     2.0     3.5     1.0 versicolor\n",
      "7       4.6     3.4     1.4     0.3     setosa\n",
      "13      4.8     3.0     1.4     0.1     setosa\n",
      "57      6.3     3.3     4.7     1.6 versicolor\n",
      "40      5.1     3.4     1.5     0.2     setosa\n",
      "75      6.4     2.9     4.3     1.3 versicolor\n",
      "44      5.0     3.5     1.6     0.6     setosa\n",
      "82      5.5     2.4     3.7     1.0 versicolor\n",
      "65      5.6     2.9     3.6     1.3 versicolor\n",
      "81      5.5     2.4     3.8     1.1 versicolor\n",
      "52      6.4     3.2     4.5     1.5 versicolor\n",
      "60      5.2     2.7     3.9     1.4 versicolor\n",
      "104     6.3     2.9     5.6     1.8  virginica\n",
      "36      5.0     3.2     1.2     0.2     setosa\n",
      "49      5.3     3.7     1.5     0.2     setosa\n",
      "105     6.5     3.0     5.8     2.2  virginica\n",
      "26      5.0     3.0     1.6     0.2     setosa\n",
      "90      5.5     2.5     4.0     1.3 versicolor\n",
      "37      5.5     3.5     1.3     0.2     setosa\n",
      "63      6.0     2.2     4.0     1.0 versicolor\n",
      "12      4.8     3.4     1.6     0.2     setosa\n",
      "58      4.9     2.4     3.3     1.0 versicolor\n",
      "74      6.1     2.8     4.7     1.2 versicolor\n",
      "54      5.5     2.3     4.0     1.3 versicolor\n",
      "45      5.1     3.8     1.9     0.4     setosa\n",
      "86      6.0     3.4     4.5     1.6 versicolor\n",
      "20      5.1     3.8     1.5     0.3     setosa\n",
      "10      4.9     3.1     1.5     0.1     setosa\n",
      "103     7.1     3.0     5.9     2.1  virginica\n",
      "67      5.6     3.0     4.5     1.5 versicolor\n",
      "15      5.8     4.0     1.2     0.2     setosa\n",
      "98      6.2     2.9     4.3     1.3 versicolor\n",
      "19      5.7     3.8     1.7     0.3     setosa\n",
      "77      6.8     2.8     4.8     1.4 versicolor\n",
      "64      6.1     2.9     4.7     1.4 versicolor\n",
      "87      6.7     3.1     4.7     1.5 versicolor\n",
      "51      7.0     3.2     4.7     1.4 versicolor\n",
      "2       4.9     3.0     1.4     0.2     setosa\n",
      "23      4.6     3.6     1.0     0.2     setosa\n",
      "34      5.5     4.2     1.4     0.2     setosa\n",
      "50      5.0     3.3     1.4     0.2     setosa\n",
      "48      4.6     3.2     1.4     0.2     setosa\n",
      "84      6.0     2.7     5.1     1.6 versicolor\n",
      "47      5.1     3.8     1.6     0.2     setosa\n",
      "43      4.4     3.2     1.3     0.2     setosa\n"
     ]
    }
   ],
   "source": [
    "ttesting <- datos[muestra, ]\n",
    "print(ttesting)"
   ]
  },
  {
   "cell_type": "code",
   "execution_count": 5,
   "metadata": {
    "vscode": {
     "languageId": "r"
    }
   },
   "outputs": [
    {
     "name": "stdout",
     "output_type": "stream",
     "text": [
      "    s.largo s.ancho p.largo p.ancho       tipo\n",
      "1       5.1     3.5     1.4     0.2     setosa\n",
      "3       4.7     3.2     1.3     0.2     setosa\n",
      "4       4.6     3.1     1.5     0.2     setosa\n",
      "5       5.0     3.6     1.4     0.2     setosa\n",
      "6       5.4     3.9     1.7     0.4     setosa\n",
      "8       5.0     3.4     1.5     0.2     setosa\n",
      "9       4.4     2.9     1.4     0.2     setosa\n",
      "11      5.4     3.7     1.5     0.2     setosa\n",
      "14      4.3     3.0     1.1     0.1     setosa\n",
      "16      5.7     4.4     1.5     0.4     setosa\n",
      "17      5.4     3.9     1.3     0.4     setosa\n",
      "18      5.1     3.5     1.4     0.3     setosa\n",
      "21      5.4     3.4     1.7     0.2     setosa\n",
      "22      5.1     3.7     1.5     0.4     setosa\n",
      "24      5.1     3.3     1.7     0.5     setosa\n",
      "25      4.8     3.4     1.9     0.2     setosa\n",
      "27      5.0     3.4     1.6     0.4     setosa\n",
      "28      5.2     3.5     1.5     0.2     setosa\n",
      "29      5.2     3.4     1.4     0.2     setosa\n",
      "30      4.7     3.2     1.6     0.2     setosa\n",
      "31      4.8     3.1     1.6     0.2     setosa\n",
      "32      5.4     3.4     1.5     0.4     setosa\n",
      "33      5.2     4.1     1.5     0.1     setosa\n",
      "35      4.9     3.1     1.5     0.1     setosa\n",
      "38      4.9     3.1     1.5     0.1     setosa\n",
      "39      4.4     3.0     1.3     0.2     setosa\n",
      "41      5.0     3.5     1.3     0.3     setosa\n",
      "42      4.5     2.3     1.3     0.3     setosa\n",
      "46      4.8     3.0     1.4     0.3     setosa\n",
      "53      6.9     3.1     4.9     1.5 versicolor\n",
      "55      6.5     2.8     4.6     1.5 versicolor\n",
      "56      5.7     2.8     4.5     1.3 versicolor\n",
      "59      6.6     2.9     4.6     1.3 versicolor\n",
      "62      5.9     3.0     4.2     1.5 versicolor\n",
      "66      6.7     3.1     4.4     1.4 versicolor\n",
      "68      5.8     2.7     4.1     1.0 versicolor\n",
      "69      6.2     2.2     4.5     1.5 versicolor\n",
      "70      5.6     2.5     3.9     1.1 versicolor\n",
      "71      5.9     3.2     4.8     1.8 versicolor\n",
      "72      6.1     2.8     4.0     1.3 versicolor\n",
      "73      6.3     2.5     4.9     1.5 versicolor\n",
      "76      6.6     3.0     4.4     1.4 versicolor\n",
      "78      6.7     3.0     5.0     1.7 versicolor\n",
      "79      6.0     2.9     4.5     1.5 versicolor\n",
      "80      5.7     2.6     3.5     1.0 versicolor\n",
      "83      5.8     2.7     3.9     1.2 versicolor\n",
      "85      5.4     3.0     4.5     1.5 versicolor\n",
      "88      6.3     2.3     4.4     1.3 versicolor\n",
      "89      5.6     3.0     4.1     1.3 versicolor\n",
      "91      5.5     2.6     4.4     1.2 versicolor\n",
      "92      6.1     3.0     4.6     1.4 versicolor\n",
      "93      5.8     2.6     4.0     1.2 versicolor\n",
      "94      5.0     2.3     3.3     1.0 versicolor\n",
      "95      5.6     2.7     4.2     1.3 versicolor\n",
      "96      5.7     3.0     4.2     1.2 versicolor\n",
      "97      5.7     2.9     4.2     1.3 versicolor\n",
      "99      5.1     2.5     3.0     1.1 versicolor\n",
      "100     5.7     2.8     4.1     1.3 versicolor\n",
      "101     6.3     3.3     6.0     2.5  virginica\n",
      "102     5.8     2.7     5.1     1.9  virginica\n",
      "106     7.6     3.0     6.6     2.1  virginica\n",
      "107     4.9     2.5     4.5     1.7  virginica\n",
      "108     7.3     2.9     6.3     1.8  virginica\n",
      "109     6.7     2.5     5.8     1.8  virginica\n",
      "110     7.2     3.6     6.1     2.5  virginica\n",
      "111     6.5     3.2     5.1     2.0  virginica\n",
      "112     6.4     2.7     5.3     1.9  virginica\n",
      "113     6.8     3.0     5.5     2.1  virginica\n",
      "114     5.7     2.5     5.0     2.0  virginica\n",
      "115     5.8     2.8     5.1     2.4  virginica\n",
      "116     6.4     3.2     5.3     2.3  virginica\n",
      "117     6.5     3.0     5.5     1.8  virginica\n",
      "118     7.7     3.8     6.7     2.2  virginica\n",
      "119     7.7     2.6     6.9     2.3  virginica\n",
      "120     6.0     2.2     5.0     1.5  virginica\n",
      "121     6.9     3.2     5.7     2.3  virginica\n",
      "122     5.6     2.8     4.9     2.0  virginica\n",
      "123     7.7     2.8     6.7     2.0  virginica\n",
      "124     6.3     2.7     4.9     1.8  virginica\n",
      "125     6.7     3.3     5.7     2.1  virginica\n",
      "126     7.2     3.2     6.0     1.8  virginica\n",
      "127     6.2     2.8     4.8     1.8  virginica\n",
      "128     6.1     3.0     4.9     1.8  virginica\n",
      "129     6.4     2.8     5.6     2.1  virginica\n",
      "130     7.2     3.0     5.8     1.6  virginica\n",
      "131     7.4     2.8     6.1     1.9  virginica\n",
      "132     7.9     3.8     6.4     2.0  virginica\n",
      "133     6.4     2.8     5.6     2.2  virginica\n",
      "134     6.3     2.8     5.1     1.5  virginica\n",
      "135     6.1     2.6     5.6     1.4  virginica\n",
      "136     7.7     3.0     6.1     2.3  virginica\n",
      "137     6.3     3.4     5.6     2.4  virginica\n",
      "138     6.4     3.1     5.5     1.8  virginica\n",
      "139     6.0     3.0     4.8     1.8  virginica\n",
      "140     6.9     3.1     5.4     2.1  virginica\n",
      "141     6.7     3.1     5.6     2.4  virginica\n",
      "142     6.9     3.1     5.1     2.3  virginica\n",
      "143     5.8     2.7     5.1     1.9  virginica\n",
      "144     6.8     3.2     5.9     2.3  virginica\n",
      "145     6.7     3.3     5.7     2.5  virginica\n",
      "146     6.7     3.0     5.2     2.3  virginica\n",
      "147     6.3     2.5     5.0     1.9  virginica\n",
      "148     6.5     3.0     5.2     2.0  virginica\n",
      "149     6.2     3.4     5.4     2.3  virginica\n",
      "150     5.9     3.0     5.1     1.8  virginica\n"
     ]
    }
   ],
   "source": [
    "ttraining <- datos[-muestra, ]\n",
    "print(ttraining)"
   ]
  },
  {
   "cell_type": "markdown",
   "metadata": {},
   "source": [
    "#### Modelo "
   ]
  },
  {
   "cell_type": "code",
   "execution_count": 6,
   "metadata": {
    "vscode": {
     "languageId": "r"
    }
   },
   "outputs": [
    {
     "name": "stdout",
     "output_type": "stream",
     "text": [
      "\n",
      "Naive Bayes Classifier for Discrete Predictors\n",
      "\n",
      "Call:\n",
      "naiveBayes.default(x = X, y = Y, laplace = laplace)\n",
      "\n",
      "A-priori probabilities:\n",
      "Y\n",
      "    setosa versicolor  virginica \n",
      " 0.2761905  0.2761905  0.4476190 \n",
      "\n",
      "Conditional probabilities:\n",
      "            s.largo\n",
      "Y                [,1]      [,2]\n",
      "  setosa     4.982759 0.3475105\n",
      "  versicolor 5.948276 0.4785549\n",
      "  virginica  6.585106 0.6504108\n",
      "\n",
      "            s.ancho\n",
      "Y                [,1]      [,2]\n",
      "  setosa     3.379310 0.4065353\n",
      "  versicolor 2.775862 0.2613907\n",
      "  virginica  2.974468 0.3326234\n",
      "\n",
      "            p.largo\n",
      "Y                [,1]      [,2]\n",
      "  setosa     1.475862 0.1595869\n",
      "  versicolor 4.265517 0.4584725\n",
      "  virginica  5.538298 0.5658980\n",
      "\n",
      "            p.ancho\n",
      "Y                 [,1]      [,2]\n",
      "  setosa     0.2517241 0.1089583\n",
      "  versicolor 1.3310345 0.1965841\n",
      "  virginica  2.0255319 0.2801149\n",
      "\n"
     ]
    }
   ],
   "source": [
    "modelo <- naiveBayes(tipo ~ ., data = ttraining)\n",
    "print(modelo)"
   ]
  },
  {
   "cell_type": "markdown",
   "metadata": {},
   "source": [
    "#### Prediccion"
   ]
  },
  {
   "cell_type": "code",
   "execution_count": 7,
   "metadata": {
    "vscode": {
     "languageId": "r"
    }
   },
   "outputs": [
    {
     "name": "stdout",
     "output_type": "stream",
     "text": [
      " [1] versicolor setosa     setosa     virginica  setosa     versicolor\n",
      " [7] setosa     versicolor versicolor versicolor versicolor versicolor\n",
      "[13] virginica  setosa     setosa     virginica  setosa     versicolor\n",
      "[19] setosa     versicolor setosa     versicolor versicolor versicolor\n",
      "[25] setosa     versicolor setosa     setosa     virginica  versicolor\n",
      "[31] setosa     versicolor setosa     versicolor versicolor versicolor\n",
      "[37] versicolor setosa     setosa     setosa     setosa     setosa    \n",
      "[43] versicolor setosa     setosa    \n",
      "Levels: setosa versicolor virginica\n"
     ]
    }
   ],
   "source": [
    "prediccion <- predict(modelo, ttesting[, -5])\n",
    "print(prediccion)"
   ]
  },
  {
   "cell_type": "markdown",
   "metadata": {},
   "source": [
    "#### Matriz de Confusion"
   ]
  },
  {
   "cell_type": "code",
   "execution_count": 8,
   "metadata": {
    "vscode": {
     "languageId": "r"
    }
   },
   "outputs": [
    {
     "name": "stdout",
     "output_type": "stream",
     "text": [
      "            prediccion\n",
      "             setosa versicolor virginica\n",
      "  setosa         21          0         0\n",
      "  versicolor      0         20         1\n",
      "  virginica       0          0         3\n"
     ]
    }
   ],
   "source": [
    "mc <- table(ttesting[, 5], prediccion)\n",
    "print(mc)"
   ]
  },
  {
   "cell_type": "markdown",
   "metadata": {},
   "source": [
    "#### Acierto y Errror"
   ]
  },
  {
   "cell_type": "code",
   "execution_count": 9,
   "metadata": {
    "vscode": {
     "languageId": "r"
    }
   },
   "outputs": [
    {
     "name": "stdout",
     "output_type": "stream",
     "text": [
      "[1] 0.9777778\n",
      "[1] 0.02222222\n"
     ]
    }
   ],
   "source": [
    "acierto <- (sum(diag(mc))) / sum(mc)\n",
    "print(acierto)\n",
    "\n",
    "error <- 1 - acierto\n",
    "print(error)"
   ]
  },
  {
   "cell_type": "markdown",
   "metadata": {},
   "source": [
    "#### Graficar Testing"
   ]
  },
  {
   "cell_type": "code",
   "execution_count": 10,
   "metadata": {
    "vscode": {
     "languageId": "r"
    }
   },
   "outputs": [
    {
     "data": {
      "image/png": "[encoded data removed]",
      "text/plain": [
       "Plot with title \"Error por iteracion\""
      ]
     },
     "metadata": {
      "image/png": {
       "height": 420,
       "width": 420
      }
     },
     "output_type": "display_data"
    }
   ],
   "source": [
    "#Creamos un vector para guardar los resultados de cada iteracion\n",
    "resultados <- rep(0, 10)\n",
    "\n",
    "\n",
    "for (i in 1:10){\n",
    "  muestra <- sample(1:105, 45)\n",
    "  ttesting <- datos[muestra, ]\n",
    "  ttraining <- datos[-muestra, ]\n",
    "  modelo <- naiveBayes(tipo ~ ., data = ttraining)\n",
    "  prediccion <- predict(modelo, ttesting[, -5])\n",
    "  mc <- table(ttesting[, 5], prediccion)\n",
    "  acierto <- (sum(diag(mc))) / sum(mc)\n",
    "  error <- 1 - acierto\n",
    "  resultados[i] <- error\n",
    "\n",
    "}\n",
    "# Graficamos los resultados en un line chart\n",
    "plot(resultados, type = \"o\", col = \"blue\",\n",
    "     xlab = \"Iteraciones\", ylab = \"%Erro\", main = \"Error por iteracion\")\n"
   ]
  }
 ],
 "metadata": {
  "kernelspec": {
   "display_name": "R",
   "language": "R",
   "name": "ir"
  },
  "language_info": {
   "codemirror_mode": "r",
   "file_extension": ".r",
   "mimetype": "text/x-r-source",
   "name": "R",
   "pygments_lexer": "r",
   "version": "4.3.2"
  }
 },
 "nbformat": 4,
 "nbformat_minor": 2
}
