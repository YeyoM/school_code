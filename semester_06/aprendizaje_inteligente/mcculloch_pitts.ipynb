{
 "cells": [
  {
   "cell_type": "markdown",
   "metadata": {
    "editable": true,
    "slideshow": {
     "slide_type": ""
    },
    "tags": []
   },
   "source": [
    "\n",
    "<br>\n",
    "Universidad Autonoma de Aguascalientes<br>\n",
    "Centro de Ciencias Basicas<br>\n",
    "Departamento de Ciencias de la Computacion<br>\n",
    "Carrera: Ingenieria en Computacion Inteligente<br>\n",
    "Materia: Machine Learning<br>\n",
    "Profesor: Dr. Francisco Javier Luna Rosas<br>\n",
    "Alumno: Diego Emilio Moreno Sanchez<br>\n"
   ]
  },
  {
   "cell_type": "markdown",
   "metadata": {},
   "source": [
    "\n",
    "<br>\n",
    "Neurona de McCulloch-Pitts y algoritmo del perceptrón simple<br>\n",
    "Determinar si se le aprueba o no, una terjeta de crédito a un cliente<br>\n",
    "considerando la edad y el ahorro que tiene en su cuenta<br>\n"
   ]
  },
  {
   "cell_type": "code",
   "execution_count": 11,
   "metadata": {},
   "outputs": [],
   "source": [
    "import matplotlib.pyplot as plt\n",
    "import numpy as np"
   ]
  },
  {
   "cell_type": "markdown",
   "metadata": {},
   "source": [
    "Datos de entrada (edad y ahorro)"
   ]
  },
  {
   "cell_type": "code",
   "execution_count": 12,
   "metadata": {},
   "outputs": [],
   "source": [
    "personas = np.array(\n",
    "    [\n",
    "        [0.3, 0.4],\n",
    "        [0.4, 0.3],\n",
    "        [0.3, 0.2],\n",
    "        [0.4, 0.1],\n",
    "        [0.5, 0.4],\n",
    "        [0.4, 0.8],\n",
    "        [0.6, 0.8],\n",
    "        [0.5, 0.6],\n",
    "        [0.7, 0.6],\n",
    "        [0.8, 0.5],\n",
    "    ]\n",
    ")"
   ]
  },
  {
   "cell_type": "markdown",
   "metadata": {},
   "source": [
    "Claase 1: Aprobado<br>\n",
    "Clase 0: No aprobado"
   ]
  },
  {
   "cell_type": "code",
   "execution_count": 13,
   "metadata": {},
   "outputs": [],
   "source": [
    "clases = np.array([0, 0, 0, 0, 0, 1, 1, 1, 1, 1])"
   ]
  },
  {
   "cell_type": "markdown",
   "metadata": {},
   "source": [
    "Función de activación<br>\n",
    "w1 * x1 + w2 * x2 + ... + wn * xn"
   ]
  },
  {
   "cell_type": "code",
   "execution_count": 14,
   "metadata": {},
   "outputs": [],
   "source": [
    "def activacion(pesos, x, b):\n",
    "    z = pesos * x\n",
    "    if z.sum() + b > 0:\n",
    "        return 1\n",
    "    else:\n",
    "        return 0"
   ]
  },
  {
   "cell_type": "code",
   "execution_count": 15,
   "metadata": {},
   "outputs": [],
   "source": [
    "pesos = np.random.uniform(-1, 1, 2)\n",
    "b = np.random.uniform(-1, 1)"
   ]
  },
  {
   "cell_type": "code",
   "execution_count": 6,
   "metadata": {},
   "outputs": [
    {
     "name": "stdout",
     "output_type": "stream",
     "text": [
      "Pesos iniciales: [ 0.21449186 -0.67092842]\n",
      "Sesgo inicial: 0.3798679916152985\n",
      "Salida: 1\n"
     ]
    }
   ],
   "source": [
    "print(\"Pesos iniciales:\", pesos)\n",
    "print(\"Sesgo inicial:\", b)\n",
    "print(\"Salida:\", activacion(pesos, [0.8, 0.5], b))"
   ]
  },
  {
   "cell_type": "markdown",
   "metadata": {},
   "source": [
    "Entrenamiento"
   ]
  },
  {
   "cell_type": "code",
   "execution_count": 7,
   "metadata": {},
   "outputs": [],
   "source": [
    "pesos = np.random.uniform(-1, 1, 2)\n",
    "b = np.random.uniform(-1, 1)\n",
    "tasa_aprendizaje = 0.01\n",
    "epocas = 100"
   ]
  },
  {
   "cell_type": "code",
   "execution_count": 8,
   "metadata": {},
   "outputs": [
    {
     "name": "stdout",
     "output_type": "stream",
     "text": [
      "Epoca: 0, Error: 5\n",
      "Epoca: 1, Error: 5\n",
      "Epoca: 2, Error: 5\n",
      "Epoca: 3, Error: 5\n",
      "Epoca: 4, Error: 5\n",
      "Epoca: 5, Error: 5\n",
      "Epoca: 6, Error: 5\n",
      "Epoca: 7, Error: 5\n",
      "Epoca: 8, Error: 5\n",
      "Epoca: 9, Error: 5\n",
      "Epoca: 10, Error: 5\n",
      "Epoca: 11, Error: 5\n",
      "Epoca: 12, Error: 5\n",
      "Epoca: 13, Error: 5\n",
      "Epoca: 14, Error: 5\n",
      "Epoca: 15, Error: 5\n",
      "Epoca: 16, Error: 5\n",
      "Epoca: 17, Error: 5\n",
      "Epoca: 18, Error: 5\n",
      "Epoca: 19, Error: 7\n",
      "Epoca: 20, Error: 6\n",
      "Epoca: 21, Error: 7\n",
      "Epoca: 22, Error: 6\n",
      "Epoca: 23, Error: 7\n",
      "Epoca: 24, Error: 5\n",
      "Epoca: 25, Error: 5\n",
      "Epoca: 26, Error: 6\n",
      "Epoca: 27, Error: 5\n",
      "Epoca: 28, Error: 5\n",
      "Epoca: 29, Error: 6\n",
      "Epoca: 30, Error: 5\n",
      "Epoca: 31, Error: 5\n",
      "Epoca: 32, Error: 4\n",
      "Epoca: 33, Error: 4\n",
      "Epoca: 34, Error: 5\n",
      "Epoca: 35, Error: 4\n",
      "Epoca: 36, Error: 4\n",
      "Epoca: 37, Error: 5\n",
      "Epoca: 38, Error: 4\n",
      "Epoca: 39, Error: 3\n",
      "Epoca: 40, Error: 4\n",
      "Epoca: 41, Error: 3\n",
      "Epoca: 42, Error: 2\n",
      "Epoca: 43, Error: 2\n",
      "Epoca: 44, Error: 4\n",
      "Epoca: 45, Error: 3\n",
      "Epoca: 46, Error: 2\n",
      "Epoca: 47, Error: 2\n",
      "Epoca: 48, Error: 3\n",
      "Epoca: 49, Error: 2\n",
      "Epoca: 50, Error: 2\n",
      "Epoca: 51, Error: 2\n",
      "Epoca: 52, Error: 3\n",
      "Epoca: 53, Error: 2\n",
      "Epoca: 54, Error: 2\n",
      "Epoca: 55, Error: 2\n",
      "Epoca: 56, Error: 1\n",
      "Epoca: 57, Error: 2\n",
      "Epoca: 58, Error: 2\n",
      "Epoca: 59, Error: 2\n",
      "Epoca: 60, Error: 1\n",
      "Epoca: 61, Error: 0\n",
      "Epoca: 62, Error: 0\n",
      "Epoca: 63, Error: 0\n",
      "Epoca: 64, Error: 0\n",
      "Epoca: 65, Error: 0\n",
      "Epoca: 66, Error: 0\n",
      "Epoca: 67, Error: 0\n",
      "Epoca: 68, Error: 0\n",
      "Epoca: 69, Error: 0\n",
      "Epoca: 70, Error: 0\n",
      "Epoca: 71, Error: 0\n",
      "Epoca: 72, Error: 0\n",
      "Epoca: 73, Error: 0\n",
      "Epoca: 74, Error: 0\n",
      "Epoca: 75, Error: 0\n",
      "Epoca: 76, Error: 0\n",
      "Epoca: 77, Error: 0\n",
      "Epoca: 78, Error: 0\n",
      "Epoca: 79, Error: 0\n",
      "Epoca: 80, Error: 0\n",
      "Epoca: 81, Error: 0\n",
      "Epoca: 82, Error: 0\n",
      "Epoca: 83, Error: 0\n",
      "Epoca: 84, Error: 0\n",
      "Epoca: 85, Error: 0\n",
      "Epoca: 86, Error: 0\n",
      "Epoca: 87, Error: 0\n",
      "Epoca: 88, Error: 0\n",
      "Epoca: 89, Error: 0\n",
      "Epoca: 90, Error: 0\n",
      "Epoca: 91, Error: 0\n",
      "Epoca: 92, Error: 0\n",
      "Epoca: 93, Error: 0\n",
      "Epoca: 94, Error: 0\n",
      "Epoca: 95, Error: 0\n",
      "Epoca: 96, Error: 0\n",
      "Epoca: 97, Error: 0\n",
      "Epoca: 98, Error: 0\n",
      "Epoca: 99, Error: 0\n"
     ]
    }
   ],
   "source": [
    "for epoca in range(epocas):\n",
    "    errores = 0\n",
    "    for i in range(len(personas)):\n",
    "        prediccion = activacion(pesos, personas[i], b)\n",
    "        error = clases[i] - prediccion\n",
    "        errores += error**2\n",
    "        pesos[0] += tasa_aprendizaje * error * personas[i][0]\n",
    "        pesos[1] += tasa_aprendizaje * error * personas[i][1]\n",
    "        b += tasa_aprendizaje * error\n",
    "    print(f\"Epoca: {epoca}, Error: {errores}\")"
   ]
  },
  {
   "cell_type": "markdown",
   "metadata": {},
   "source": [
    "Evaluación"
   ]
  },
  {
   "cell_type": "code",
   "execution_count": 9,
   "metadata": {},
   "outputs": [
    {
     "name": "stdout",
     "output_type": "stream",
     "text": [
      "Pesos finales: [-0.02350478  0.14357491]\n",
      "Sesgo final: -0.05228133712849636\n",
      "Salida: 1\n"
     ]
    }
   ],
   "source": [
    "print(\"Pesos finales:\", pesos)\n",
    "print(\"Sesgo final:\", b)\n",
    "print(\"Salida:\", activacion(pesos, [0.8, 0.5], b))"
   ]
  },
  {
   "cell_type": "markdown",
   "metadata": {},
   "source": [
    "Ahora, con el perceptron de scikit learn"
   ]
  },
  {
   "cell_type": "code",
   "execution_count": 10,
   "metadata": {},
   "outputs": [
    {
     "data": {
      "text/plain": [
       "array([0, 1])"
      ]
     },
     "execution_count": 10,
     "metadata": {},
     "output_type": "execute_result"
    }
   ],
   "source": [
    "from sklearn.linear_model import Perceptron\n",
    "perceptron = Perceptron().fit(personas, clases)\n",
    "perceptron.predict([[0.3,0.4],[0.8,0.6]])"
   ]
  }
 ],
 "metadata": {
  "kernelspec": {
   "display_name": "Python 3 (ipykernel)",
   "language": "python",
   "name": "python3"
  },
  "language_info": {
   "codemirror_mode": {
    "name": "ipython",
    "version": 3
   },
   "file_extension": ".py",
   "mimetype": "text/x-python",
   "name": "python",
   "nbconvert_exporter": "python",
   "pygments_lexer": "ipython3",
   "version": "3.11.6"
  }
 },
 "nbformat": 4,
 "nbformat_minor": 4
}
