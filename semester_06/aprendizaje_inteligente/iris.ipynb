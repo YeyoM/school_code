{
 "cells": [
  {
   "cell_type": "markdown",
   "id": "f86b58c6-dc18-43c2-87d8-cf9c28dfa27c",
   "metadata": {},
   "source": [
    "Universidad Autonoma de Aguascalientes\n",
    "Centro de Ciencias Basicas\n",
    "Departamento de Ciencias de la Computacion\n",
    "Carrera: Ingenieria en Computacion Inteligente\n",
    "Materia: Machine Learning\n",
    "Profesor: Dr. Francisco Javier Luna Rosas\n",
    "Alumno: Diego Emilio Moreno Sanchez"
   ]
  },
  {
   "cell_type": "markdown",
   "id": "38cd3e9c-3922-4ecd-aab0-a575f2bfd76c",
   "metadata": {},
   "source": [
    "Neurona de McCulloch-Pitts y algoritmo del perceptrón simple\n",
    "Algoritmo para clasificar flores de iris."
   ]
  },
  {
   "cell_type": "code",
   "execution_count": 66,
   "id": "689d6212-d90b-4a89-b35a-e175619b5b30",
   "metadata": {},
   "outputs": [],
   "source": [
    "import matplotlib.pyplot as plt\n",
    "import numpy as np\n",
    "import pandas as pd"
   ]
  },
  {
   "cell_type": "markdown",
   "id": "25b742a1-ccd9-4e55-a007-7c068732fd06",
   "metadata": {},
   "source": [
    "Datos de entrada "
   ]
  },
  {
   "cell_type": "code",
   "execution_count": 67,
   "id": "d592060d-06e1-47b7-91ee-3a123c3816fe",
   "metadata": {},
   "outputs": [],
   "source": [
    "data = open(\"iris.csv\")\n",
    "datos = []\n",
    "clases_ = []"
   ]
  },
  {
   "cell_type": "markdown",
   "id": "60e0e799-b653-4c08-9804-3a346e627ab3",
   "metadata": {},
   "source": [
    "Tomar los datos (largo cefalo y largo petalo), luego creamos las clases setosa=0, versicolor=1"
   ]
  },
  {
   "cell_type": "code",
   "execution_count": 68,
   "id": "1dc63d46-fa3a-43c9-962e-c1cdf011d067",
   "metadata": {},
   "outputs": [],
   "source": [
    "for i, row in enumerate(data):\n",
    "    # tomamos s.largo, y p.largo, que son los datos 0 y 2, las clases son los datos 4\n",
    "    if i != 0:\n",
    "        datos_flor = row.split(\";\")\n",
    "        datos_flor_cool = [float(datos_flor[0]), float(datos_flor[2])]\n",
    "        clase_flor_cool = datos_flor[4]\n",
    "        clase_flor = 0\n",
    "        if clase_flor_cool == 'versicolor\\n':\n",
    "            clase_flor = 1\n",
    "        clases_.append(float(clase_flor))\n",
    "        datos.append(datos_flor_cool)\n",
    "\n",
    "flores = np.array(datos)\n",
    "clases = np.array(clases_)"
   ]
  },
  {
   "cell_type": "markdown",
   "id": "ff32206e-d600-41bb-9193-67ba1c30e868",
   "metadata": {},
   "source": [
    "Funcion de activacion"
   ]
  },
  {
   "cell_type": "code",
   "execution_count": 69,
   "id": "d3e707d9-3191-4453-98d4-5ee57b6dd5bd",
   "metadata": {},
   "outputs": [],
   "source": [
    "def activation(pesos, x, b):\n",
    "    z = np.dot(pesos, x)\n",
    "    if z + b > 0:\n",
    "        return 1\n",
    "    else:\n",
    "        return 0"
   ]
  },
  {
   "cell_type": "code",
   "execution_count": 70,
   "id": "4b337757-8d55-457a-aac5-237102686e80",
   "metadata": {},
   "outputs": [],
   "source": [
    "pesos = np.random.uniform(1, 5, 2)\n",
    "b = np.random.uniform(-1, 1)"
   ]
  },
  {
   "cell_type": "code",
   "execution_count": 71,
   "id": "aa5a6a16-e29b-404d-bdfc-2abce2eab4b1",
   "metadata": {},
   "outputs": [
    {
     "name": "stdout",
     "output_type": "stream",
     "text": [
      "Pesos iniciales: [1.74938556 1.74113188]\n",
      "Sesgo inicial: -0.9474749766631463\n",
      "Salida: 1\n"
     ]
    }
   ],
   "source": [
    "print(\"Pesos iniciales:\", pesos)\n",
    "print(\"Sesgo inicial:\", b)\n",
    "print(\"Salida:\", activacion(pesos, [5.0,1.2],b))"
   ]
  },
  {
   "cell_type": "markdown",
   "id": "57880f8c-08bc-45a4-8b8d-9c2e6783de83",
   "metadata": {},
   "source": [
    "Entrenamiento"
   ]
  },
  {
   "cell_type": "code",
   "execution_count": 72,
   "id": "c4e99e5b-df0a-455e-a170-8b4e3bdf8b8d",
   "metadata": {},
   "outputs": [],
   "source": [
    "pesos = np.random.uniform(1, 5, 2)\n",
    "b = np.random.uniform(-1, 1)\n",
    "tasa_aprendizaje = 0.01\n",
    "epocas = 100"
   ]
  },
  {
   "cell_type": "code",
   "execution_count": 73,
   "id": "5ca669be-3b77-4728-b8c4-d1fc12c43c93",
   "metadata": {},
   "outputs": [
    {
     "name": "stdout",
     "output_type": "stream",
     "text": [
      "Epoca: 0, Error: 59.0\n",
      "Epoca: 1, Error: 11.0\n",
      "Epoca: 2, Error: 11.0\n",
      "Epoca: 3, Error: 10.0\n",
      "Epoca: 4, Error: 11.0\n",
      "Epoca: 5, Error: 9.0\n",
      "Epoca: 6, Error: 9.0\n",
      "Epoca: 7, Error: 8.0\n",
      "Epoca: 8, Error: 9.0\n",
      "Epoca: 9, Error: 8.0\n",
      "Epoca: 10, Error: 8.0\n",
      "Epoca: 11, Error: 9.0\n",
      "Epoca: 12, Error: 8.0\n",
      "Epoca: 13, Error: 9.0\n",
      "Epoca: 14, Error: 7.0\n",
      "Epoca: 15, Error: 8.0\n",
      "Epoca: 16, Error: 7.0\n",
      "Epoca: 17, Error: 6.0\n",
      "Epoca: 18, Error: 7.0\n",
      "Epoca: 19, Error: 6.0\n",
      "Epoca: 20, Error: 7.0\n",
      "Epoca: 21, Error: 6.0\n",
      "Epoca: 22, Error: 7.0\n",
      "Epoca: 23, Error: 6.0\n",
      "Epoca: 24, Error: 6.0\n",
      "Epoca: 25, Error: 5.0\n",
      "Epoca: 26, Error: 4.0\n",
      "Epoca: 27, Error: 4.0\n",
      "Epoca: 28, Error: 4.0\n",
      "Epoca: 29, Error: 4.0\n",
      "Epoca: 30, Error: 4.0\n",
      "Epoca: 31, Error: 4.0\n",
      "Epoca: 32, Error: 4.0\n",
      "Epoca: 33, Error: 4.0\n",
      "Epoca: 34, Error: 4.0\n",
      "Epoca: 35, Error: 4.0\n",
      "Epoca: 36, Error: 4.0\n",
      "Epoca: 37, Error: 4.0\n",
      "Epoca: 38, Error: 4.0\n",
      "Epoca: 39, Error: 4.0\n",
      "Epoca: 40, Error: 4.0\n",
      "Epoca: 41, Error: 4.0\n",
      "Epoca: 42, Error: 4.0\n",
      "Epoca: 43, Error: 4.0\n",
      "Epoca: 44, Error: 4.0\n",
      "Epoca: 45, Error: 4.0\n",
      "Epoca: 46, Error: 4.0\n",
      "Epoca: 47, Error: 4.0\n",
      "Epoca: 48, Error: 4.0\n",
      "Epoca: 49, Error: 3.0\n",
      "Epoca: 50, Error: 2.0\n",
      "Epoca: 51, Error: 2.0\n",
      "Epoca: 52, Error: 2.0\n",
      "Epoca: 53, Error: 2.0\n",
      "Epoca: 54, Error: 2.0\n",
      "Epoca: 55, Error: 2.0\n",
      "Epoca: 56, Error: 2.0\n",
      "Epoca: 57, Error: 2.0\n",
      "Epoca: 58, Error: 2.0\n",
      "Epoca: 59, Error: 2.0\n",
      "Epoca: 60, Error: 2.0\n",
      "Epoca: 61, Error: 2.0\n",
      "Epoca: 62, Error: 2.0\n",
      "Epoca: 63, Error: 2.0\n",
      "Epoca: 64, Error: 2.0\n",
      "Epoca: 65, Error: 2.0\n",
      "Epoca: 66, Error: 2.0\n",
      "Epoca: 67, Error: 2.0\n",
      "Epoca: 68, Error: 4.0\n",
      "Epoca: 69, Error: 4.0\n",
      "Epoca: 70, Error: 3.0\n",
      "Epoca: 71, Error: 2.0\n",
      "Epoca: 72, Error: 2.0\n",
      "Epoca: 73, Error: 2.0\n",
      "Epoca: 74, Error: 4.0\n",
      "Epoca: 75, Error: 4.0\n",
      "Epoca: 76, Error: 3.0\n",
      "Epoca: 77, Error: 2.0\n",
      "Epoca: 78, Error: 4.0\n",
      "Epoca: 79, Error: 4.0\n",
      "Epoca: 80, Error: 3.0\n",
      "Epoca: 81, Error: 2.0\n",
      "Epoca: 82, Error: 4.0\n",
      "Epoca: 83, Error: 4.0\n",
      "Epoca: 84, Error: 3.0\n",
      "Epoca: 85, Error: 2.0\n",
      "Epoca: 86, Error: 2.0\n",
      "Epoca: 87, Error: 4.0\n",
      "Epoca: 88, Error: 4.0\n",
      "Epoca: 89, Error: 3.0\n",
      "Epoca: 90, Error: 2.0\n",
      "Epoca: 91, Error: 2.0\n",
      "Epoca: 92, Error: 4.0\n",
      "Epoca: 93, Error: 4.0\n",
      "Epoca: 94, Error: 3.0\n",
      "Epoca: 95, Error: 2.0\n",
      "Epoca: 96, Error: 2.0\n",
      "Epoca: 97, Error: 4.0\n",
      "Epoca: 98, Error: 4.0\n",
      "Epoca: 99, Error: 3.0\n"
     ]
    }
   ],
   "source": [
    "for epoca in range(epocas):\n",
    "    errores = 0\n",
    "    for i in range(len(flores)):\n",
    "        prediccion = activacion(pesos, flores[i], b)\n",
    "        error = clases[i] - prediccion\n",
    "        errores += error**2\n",
    "        pesos[0] += tasa_aprendizaje * error * flores[i][0]\n",
    "        pesos[1] += tasa_aprendizaje * error * flores[i][1]\n",
    "        b += tasa_aprendizaje * error\n",
    "    print(f\"Epoca: {epoca}, Error: {errores}\")"
   ]
  },
  {
   "cell_type": "markdown",
   "id": "380b2309-545d-40af-befa-a10b9c1deb22",
   "metadata": {},
   "source": [
    "Eval"
   ]
  },
  {
   "cell_type": "code",
   "execution_count": 75,
   "id": "e7056231-8c04-4d3b-aaa0-77ca9bbea725",
   "metadata": {},
   "outputs": [
    {
     "name": "stdout",
     "output_type": "stream",
     "text": [
      "Pesos finales: [ 0.07792994 -0.15228943]\n",
      "Sesgo final: -0.26881511149856857\n",
      "Salida: 0\n"
     ]
    }
   ],
   "source": [
    "print(\"Pesos finales:\", pesos)\n",
    "print(\"Sesgo final:\", b)\n",
    "print(\"Salida:\", activacion(pesos, [5, 1.4], b))"
   ]
  },
  {
   "cell_type": "code",
   "execution_count": null,
   "id": "5d4abcc3-4fee-456b-88c9-0cb81deb5743",
   "metadata": {},
   "outputs": [],
   "source": []
  }
 ],
 "metadata": {
  "kernelspec": {
   "display_name": "Python 3 (ipykernel)",
   "language": "python",
   "name": "python3"
  },
  "language_info": {
   "codemirror_mode": {
    "name": "ipython",
    "version": 3
   },
   "file_extension": ".py",
   "mimetype": "text/x-python",
   "name": "python",
   "nbconvert_exporter": "python",
   "pygments_lexer": "ipython3",
   "version": "3.11.6"
  }
 },
 "nbformat": 4,
 "nbformat_minor": 5
}
