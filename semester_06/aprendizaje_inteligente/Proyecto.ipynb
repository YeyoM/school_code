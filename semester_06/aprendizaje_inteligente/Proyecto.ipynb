{
 "cells": [
  {
   "cell_type": "markdown",
   "id": "289fc109-217f-43dd-a368-ea01cb18adef",
   "metadata": {},
   "source": [
    "# Universidad Autonoma de Aguascalientes\n",
    "### Centro de Ciencias Basicas\n",
    "### Departamento de Ciencias de la Computacion\n",
    "### Carrera: Ingenieria en Computacion Inteligente\n",
    "### Materia: Machine Learning \n",
    "### Profesor: Dr. Francisco Javier Luna Rosas\n",
    "### Proyecto Final\n",
    "### Integrantes: \n",
    "- #### Diego Alberto Aranda Gonzalez\n",
    "- #### Dante Alejandro Alegría Romero\n",
    "- #### Andrea Margarita Balandrán Félix\n",
    "- #### Diego Emilio Moreno Sánchez"
   ]
  },
  {
   "cell_type": "markdown",
   "id": "39228fc7-a003-43a8-9e2b-5e9a6cf4833a",
   "metadata": {},
   "source": [
    "Este proyecto junta técnicas de scrapping para extraer datos de la web, en conjutno con técnicas de aprendizaje supervisado y no supervisado, en este caso SVM y bosques aleatorios, estos modelos serán utilizados para clasificar noticias en base a su título en 3 diferentes clasificaciones: Política, Deportes y Negocios."
   ]
  },
  {
   "cell_type": "markdown",
   "id": "3cc79a7b-f626-4c84-b6fc-ca9753ea0d22",
   "metadata": {},
   "source": [
    "### Recolección de datos con webmining"
   ]
  },
  {
   "cell_type": "markdown",
   "id": "9b436ad4-3eb8-4ba1-b6e6-f67a91aa924b",
   "metadata": {},
   "source": [
    "Importamos las librerías necesarias"
   ]
  },
  {
   "cell_type": "code",
   "execution_count": null,
   "id": "f7f11262-5d07-4211-bfc3-788174a8bc38",
   "metadata": {},
   "outputs": [],
   "source": [
    "import requests\n",
    "from bs4 import BeautifulSoup\n",
    "import pandas as pd"
   ]
  },
  {
   "cell_type": "markdown",
   "id": "38ecbd0d-6224-4e1c-b5b8-f23f021655c6",
   "metadata": {},
   "source": [
    "Definimos las urls de donde vamos a extraer la información"
   ]
  },
  {
   "cell_type": "code",
   "execution_count": 2,
   "id": "d95a0ad6-e316-4018-a4de-7592930b4d4e",
   "metadata": {},
   "outputs": [],
   "source": [
    "urls_deportes = [\n",
    "    'https://www.skysports.com/football/olympiakos-vs-a-villa/report/504410',\n",
    "    'https://www.skysports.com/nfl/news/12118/13124057/2024-nfl-draft-englands-travis-clayton-selected-by-buffalo-bills-in-seventh-round',\n",
    "    # mas urls aquí\n",
    "]\n",
    "data_deportes = []\n",
    "\n",
    "urls_politica = [\n",
    "    'https://apnews.com/article/biden-netanyahu-rafah-hamas-military-assistance-5c743e621c5594b49e0a89c985a605f3',\n",
    "    'https://apnews.com/article/america-first-trump-biden-russia-ukraine-policy-54080728c6e549c8312c4d71150480ba',\n",
    "    # mas urls aquí\n",
    "]\n",
    "data_politica = []\n",
    "\n",
    "urls_business = [\n",
    "    'https://www.economist.com/business/2024/05/09/for-gen-z-job-seekers-tiktok-is-the-new-linkedin',\n",
    "    'https://www.economist.com/business/2024/05/09/can-alibaba-get-the-magic-back',\n",
    "    # mas urls aquí\n",
    "]\n",
    "data_business = []"
   ]
  },
  {
   "cell_type": "markdown",
   "id": "01a6ed5b-85af-4898-8c3b-9ef80880da8d",
   "metadata": {},
   "source": [
    "Extraemos la información necesaria de cada fuente, dependiendo de la página la información que necesitamos se encuentran en diferentes selectores y etiquetas html, por ello cada función es diferente. Recordar que las páginas para que este método funcione necesitan ser renderizadas por el servidor, puedes conocer más [aquí](https://solutionshub.epam.com/blog/post/what-is-server-side-rendering)."
   ]
  },
  {
   "cell_type": "code",
   "execution_count": null,
   "id": "768a0c5e-ab71-4c0a-8b56-564309b953a8",
   "metadata": {},
   "outputs": [],
   "source": [
    "for url in urls_deportes: \n",
    "    # Realizar la solicitud HTTP y obtener el contenido HTML\n",
    "    response = requests.get(url)\n",
    "    soup = BeautifulSoup(response.text, 'html.parser')\n",
    "    \n",
    "    # Buscar el titulo de la noticia\n",
    "    if (\"fox\" in url):\n",
    "        news_title = soup.find_all('h1', class_='story-title')\n",
    "    elif (\"mundo\" in url):\n",
    "        news_title = soup.find_all('h1', class_='title')\n",
    "    else:\n",
    "        news_title = soup.find_all('span', class_='sdc-article-header__long-title')\n",
    "        \n",
    "    print(\"Parsed:\", url, news_title)\n",
    "    data_deportes.append({'Title': news_title, 'Category': \"Sports\"})\n",
    "    \n",
    "for url in urls_politica: \n",
    "    # Realizar la solicitud HTTP y obtener el contenido HTML\n",
    "    response = requests.get(url)\n",
    "    soup = BeautifulSoup(response.text, 'html.parser')\n",
    "    \n",
    "    # Buscar el titulo de la noticia\n",
    "    news_title = \"\"\n",
    "    if (\"bbc\" in url):\n",
    "        news_title = soup.find_all('h1', class_='sc-82e6a0ec-0 fxXQuy')\n",
    "    elif (\"apnews\" in url):\n",
    "        news_title = soup.find_all('h1', class_='Page-headline')\n",
    "    elif (\"nbcnews\" in url):\n",
    "        news_title = soup.find_all('h1', class_='article-hero-headline__htag lh-none-print black-print')\n",
    "    elif (\"foxnews\" in url):\n",
    "        news_title = soup.find_all('h1', class_='headline speakable')\n",
    "\n",
    "    print(\"Parsed:\", url, news_title)\n",
    "    data_politica.append({'Title': news_title, 'Category': \"Politics\"})\n",
    "    \n",
    "for url in urls_business: \n",
    "    # Realizar la solicitud HTTP y obtener el contenido HTML\n",
    "    response = requests.get(url)\n",
    "    soup = BeautifulSoup(response.text, 'html.parser')\n",
    "    \n",
    "    # Buscar el titulo de la noticia\n",
    "    news_title = \"\"\n",
    "    if (\"bbc\" in url):\n",
    "        news_title = soup.find_all('h1', class_='sc-82e6a0ec-0 fxXQuy')\n",
    "    elif (\"economist\" in url):\n",
    "        news_title = soup.find_all('h1', class_='css-1p83fk8 e1r8fcie0')\n",
    "    elif (\"nbcnews\" in url):\n",
    "        news_title = soup.find_all('h1', class_='article-hero-headline__htag lh-none-print black-print')\n",
    "    elif (\"economictimes\" in url):\n",
    "        news_title = soup.find_all('h1', class_='artTitle font_faus')\n",
    "\n",
    "    print(\"Parsed:\", url, news_title)\n",
    "    data_business.append({'Title': news_title, 'Category': \"Business\"})"
   ]
  },
  {
   "cell_type": "markdown",
   "id": "6f7b8312-8ebf-4409-9664-2c29e33f3889",
   "metadata": {},
   "source": [
    "Por último convertimos la información a data frames y luego la guardamos en un excel"
   ]
  },
  {
   "cell_type": "code",
   "execution_count": null,
   "id": "cf0d400c-ded7-476b-a3d1-069429ac2348",
   "metadata": {},
   "outputs": [],
   "source": [
    "df1 = pd.DataFrame(data_deportes)\n",
    "df2 = pd.DataFrame(data_politica)\n",
    "df3 = pd.DataFrame(data_business)"
   ]
  },
  {
   "cell_type": "code",
   "execution_count": null,
   "id": "267aa82f-90c1-4fcf-87a9-da83d0430e32",
   "metadata": {},
   "outputs": [],
   "source": [
    "df1.to_excel('deportes.xlsx', index=False)\n",
    "df2.to_excel('politica.xlsx', index=False)\n",
    "df3.to_excel('negocios.xlsx', index=False)"
   ]
  },
  {
   "cell_type": "markdown",
   "id": "57c6b95b-68d7-427b-a30a-d2e62ee7c836",
   "metadata": {},
   "source": [
    "### Modelos"
   ]
  },
  {
   "cell_type": "code",
   "execution_count": 4,
   "id": "94cfae4c-abdc-4f67-82f6-a99b10b94961",
   "metadata": {},
   "outputs": [],
   "source": [
    "import pandas as pd\n",
    "from sklearn.model_selection import train_test_split\n",
    "from sklearn.feature_extraction.text import TfidfVectorizer\n",
    "from sklearn.svm import SVC\n",
    "from sklearn.ensemble import RandomForestClassifier\n",
    "from sklearn.metrics import classification_report, confusion_matrix\n",
    "import matplotlib.pyplot as plt\n",
    "import seaborn as sns"
   ]
  },
  {
   "cell_type": "markdown",
   "id": "da0793f8-7948-4b2a-ae28-ca83a0c5d242",
   "metadata": {},
   "source": [
    "#### SVM"
   ]
  },
  {
   "cell_type": "markdown",
   "id": "ae7a35b3-7aca-4ce0-b031-7159aa00ac37",
   "metadata": {},
   "source": [
    "Las Máquinas de Vectores de Soporte (SVM) son algoritmos de aprendizaje supervisado que se utilizan comúnmente para problemas de clasificación y regresión. La idea fundamental detrás de las SVM es encontrar el hiperplano que mejor separa las clases en un espacio dimensional más alto. Este hiperplano se elige de manera que maximice el margen entre las clases, lo que ayuda a garantizar una buena generalización del modelo a datos no vistos."
   ]
  },
  {
   "cell_type": "code",
   "execution_count": 5,
   "id": "e44322bb-e86d-4759-a72b-d3bf35d5356a",
   "metadata": {},
   "outputs": [
    {
     "name": "stdout",
     "output_type": "stream",
     "text": [
      "Classification Report:\n",
      "              precision    recall  f1-score   support\n",
      "\n",
      "    Business       1.00      0.67      0.80         3\n",
      "    Politics       0.60      0.75      0.67         4\n",
      "      Sports       0.90      0.90      0.90        10\n",
      "\n",
      "    accuracy                           0.82        17\n",
      "   macro avg       0.83      0.77      0.79        17\n",
      "weighted avg       0.85      0.82      0.83        17\n",
      "\n",
      "Confusion Matrix:\n",
      "[[2 1 0]\n",
      " [0 3 1]\n",
      " [0 1 9]]\n"
     ]
    },
    {
     "data": {
      "image/png": "[encoded data removed]",
      "text/plain": [
       "<Figure size 800x600 with 2 Axes>"
      ]
     },
     "metadata": {},
     "output_type": "display_data"
    }
   ],
   "source": [
    "# Cargar los datos desde los archivos Excel\n",
    "df_sports = pd.read_excel('deportes.xlsx')\n",
    "df_politics = pd.read_excel('politica.xlsx')\n",
    "df_business = pd.read_excel('negocios.xlsx')\n",
    "\n",
    "# Combinar los datos en un solo DataFrame\n",
    "df = pd.concat([df_sports, df_politics, df_business], ignore_index=True)\n",
    "\n",
    "# Dividir los datos en conjuntos de entrenamiento y prueba\n",
    "X_train, X_test, y_train, y_test = train_test_split(df['Title'].astype(str), df['Category'], test_size=0.2, random_state=42)\n",
    "\n",
    "# Vectorización de los datos de texto\n",
    "vectorizer = TfidfVectorizer()\n",
    "X_train = vectorizer.fit_transform(X_train)\n",
    "X_test = vectorizer.transform(X_test)\n",
    "\n",
    "# Entrenamiento del modelo SVM\n",
    "svm_model = SVC(kernel='linear')\n",
    "svm_model.fit(X_train, y_train)\n",
    "\n",
    "# Predicciones en el conjunto de prueba\n",
    "y_pred = svm_model.predict(X_test)\n",
    "\n",
    "# Evaluación del modelo\n",
    "print(\"Classification Report:\")\n",
    "print(classification_report(y_test, y_pred))\n",
    "print(\"Confusion Matrix:\")\n",
    "print(confusion_matrix(y_test, y_pred))\n",
    "\n",
    "# Gráfico de matriz de confusión\n",
    "plt.figure(figsize=(8, 6))\n",
    "cm = confusion_matrix(y_test, y_pred)\n",
    "sns.heatmap(cm, annot=True, fmt='d', cmap='Blues', xticklabels=['Sports', 'Politics', 'Business'], yticklabels=['Sports', 'Politics', 'Business'])\n",
    "plt.xlabel('Predicted')\n",
    "plt.ylabel('Actual')\n",
    "plt.title('Confusion Matrix')\n",
    "plt.show()"
   ]
  },
  {
   "cell_type": "markdown",
   "id": "c590c9cd-495e-4076-aac1-e817c0d598a6",
   "metadata": {},
   "source": [
    "#### Bosques Aleatorios"
   ]
  },
  {
   "cell_type": "markdown",
   "id": "e79b5a62-c32e-4c39-b4da-99ae5e2bee85",
   "metadata": {},
   "source": [
    "Los Bosques Aleatorios son un tipo de algoritmo de aprendizaje en conjunto que se basa en la idea de construir múltiples árboles de decisión y combinar sus resultados para obtener una predicción final. Cada árbol de decisión en el bosque se entrena de forma independiente utilizando subconjuntos aleatorios de datos y características.\n"
   ]
  },
  {
   "cell_type": "code",
   "execution_count": 6,
   "id": "8913775a-492d-43d9-ad85-7d3c13632571",
   "metadata": {},
   "outputs": [
    {
     "name": "stdout",
     "output_type": "stream",
     "text": [
      "Classification Report:\n",
      "              precision    recall  f1-score   support\n",
      "\n",
      "    Business       0.60      1.00      0.75         3\n",
      "    Politics       1.00      0.25      0.40         4\n",
      "      Sports       0.91      1.00      0.95        10\n",
      "\n",
      "    accuracy                           0.82        17\n",
      "   macro avg       0.84      0.75      0.70        17\n",
      "weighted avg       0.88      0.82      0.79        17\n",
      "\n",
      "Confusion Matrix:\n",
      "[[ 3  0  0]\n",
      " [ 2  1  1]\n",
      " [ 0  0 10]]\n"
     ]
    },
    {
     "data": {
      "image/png": "[encoded data removed]",
      "text/plain": [
       "<Figure size 800x600 with 2 Axes>"
      ]
     },
     "metadata": {},
     "output_type": "display_data"
    }
   ],
   "source": [
    "# Cargar los datos desde los archivos Excel\n",
    "df_sports = pd.read_excel('deportes.xlsx')\n",
    "df_politics = pd.read_excel('politica.xlsx')\n",
    "df_business = pd.read_excel('negocios.xlsx')\n",
    "\n",
    "# Combinar los datos en un solo DataFrame\n",
    "df = pd.concat([df_sports, df_politics, df_business], ignore_index=True)\n",
    "\n",
    "# Dividir los datos en conjuntos de entrenamiento y prueba\n",
    "X_train, X_test, y_train, y_test = train_test_split(df['Title'].astype(str), df['Category'], test_size=0.2, random_state=42)\n",
    "\n",
    "# Vectorización de los datos de texto\n",
    "vectorizer = TfidfVectorizer()\n",
    "X_train = vectorizer.fit_transform(X_train)\n",
    "X_test = vectorizer.transform(X_test)\n",
    "\n",
    "# Entrenamiento del modelo de Bosques Aleatorios\n",
    "rf_model = RandomForestClassifier(n_estimators=100, random_state=42)\n",
    "rf_model.fit(X_train, y_train)\n",
    "\n",
    "# Predicciones en el conjunto de prueba\n",
    "y_pred = rf_model.predict(X_test)\n",
    "\n",
    "# Evaluación del modelo\n",
    "print(\"Classification Report:\")\n",
    "print(classification_report(y_test, y_pred))\n",
    "print(\"Confusion Matrix:\")\n",
    "print(confusion_matrix(y_test, y_pred))\n",
    "\n",
    "# Gráfico de matriz de confusión\n",
    "plt.figure(figsize=(8, 6))\n",
    "cm = confusion_matrix(y_test, y_pred)\n",
    "sns.heatmap(cm, annot=True, fmt='d', cmap='Blues', xticklabels=['Sports', 'Politics', 'Business'], yticklabels=['Sports', 'Politics', 'Business'])\n",
    "plt.xlabel('Predicted')\n",
    "plt.ylabel('Actual')\n",
    "plt.title('Confusion Matrix')\n",
    "plt.show()\n"
   ]
  },
  {
   "cell_type": "code",
   "execution_count": null,
   "id": "0301c30b-08d1-45c6-bb26-04ccdcfb505a",
   "metadata": {},
   "outputs": [],
   "source": []
  }
 ],
 "metadata": {
  "kernelspec": {
   "display_name": "Python 3 (ipykernel)",
   "language": "python",
   "name": "python3"
  },
  "language_info": {
   "codemirror_mode": {
    "name": "ipython",
    "version": 3
   },
   "file_extension": ".py",
   "mimetype": "text/x-python",
   "name": "python",
   "nbconvert_exporter": "python",
   "pygments_lexer": "ipython3",
   "version": "3.11.6"
  }
 },
 "nbformat": 4,
 "nbformat_minor": 5
}
